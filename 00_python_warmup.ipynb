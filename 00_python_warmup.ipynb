{
 "cells": [
  {
   "cell_type": "markdown",
   "metadata": {},
   "source": [
    "# python warm-up \n",
    "\n",
    "The goal of this notebook is to provide a warm-up before the course.\n",
    "\n"
   ]
  },
  {
   "cell_type": "code",
   "execution_count": 1,
   "metadata": {},
   "outputs": [
    {
     "name": "stdout",
     "output_type": "stream",
     "text": [
      "[0, 1, 4, 9, 16, 25, 36, 49, 64, 81]\n"
     ]
    }
   ],
   "source": [
    "## the for loop is great to repeat an operation a given number of time\n",
    "\n",
    "X = []\n",
    "\n",
    "for i in range(10):\n",
    "    X.append( i**2 ) # squared\n",
    "\n",
    "print(X)"
   ]
  },
  {
   "cell_type": "code",
   "execution_count": 2,
   "metadata": {},
   "outputs": [
    {
     "name": "stdout",
     "output_type": "stream",
     "text": [
      "0\n",
      "1\n",
      "4\n",
      "9\n",
      "16\n",
      "25\n",
      "36\n",
      "49\n",
      "64\n",
      "81\n"
     ]
    }
   ],
   "source": [
    "\n",
    "for x in X:\n",
    "    print(x)\n"
   ]
  },
  {
   "cell_type": "code",
   "execution_count": 3,
   "metadata": {},
   "outputs": [
    {
     "name": "stdout",
     "output_type": "stream",
     "text": [
      "0\n",
      "[0, 1, 4]\n",
      "[9, 16, 25, 36, 49, 64, 81]\n",
      "81\n"
     ]
    }
   ],
   "source": [
    "# elements in a container are accessed using square brackets\n",
    "print(X[0])  # 1 element. remeber that indexing starts at 0\n",
    "print(X[:3]) # elements from 0 (included), to 3 (excluded)\n",
    "print(X[3:]) # elements from 3 (included), to the end\n",
    "print(X[-1]) # reverse indexing : -1 is the last element of the list"
   ]
  },
  {
   "cell_type": "code",
   "execution_count": 4,
   "metadata": {},
   "outputs": [
    {
     "name": "stdout",
     "output_type": "stream",
     "text": [
      "[1]\n"
     ]
    }
   ],
   "source": [
    "## the while loop is a good alternative when your stopping condition is not a fixed number of iteration :\n",
    "\n",
    "from random import randint\n",
    "\n",
    "X = [ randint(1,20) ]\n",
    "while  X[-1] !=1:\n",
    "    X.append(randint(1,20))\n",
    "\n",
    "print( X )"
   ]
  },
  {
   "cell_type": "code",
   "execution_count": 5,
   "metadata": {},
   "outputs": [
    {
     "name": "stdout",
     "output_type": "stream",
     "text": [
      "1 is odd\n"
     ]
    }
   ],
   "source": [
    "# if / else structure to test a condition\n",
    "\n",
    "for x in X:\n",
    "    if x%2 == 1:\n",
    "        print(x,'is odd')\n",
    "    else:\n",
    "        print(x,'is even')"
   ]
  },
  {
   "cell_type": "code",
   "execution_count": 6,
   "metadata": {},
   "outputs": [
    {
     "name": "stdout",
     "output_type": "stream",
     "text": [
      "X     [0, 1, 4, 9, 16, 25, 36, 49, 64, 81]\n",
      "Xeven [0, 4, 16, 36, 64]\n",
      "Xodd  [1, 9, 25, 49, 81]\n"
     ]
    }
   ],
   "source": [
    "# list comprehension is a very fine way of compressing all this\n",
    "\n",
    "X = [ i**2 for i in range(10) ]\n",
    "\n",
    "Xeven = [ x for x in X if x%2 == 0 ]\n",
    "Xodd = [ x for x in X if x%2 == 1 ]\n",
    "\n",
    "\n",
    "print( 'X    ', X )\n",
    "print( 'Xeven', Xeven )\n",
    "print( 'Xodd ', Xodd )"
   ]
  },
  {
   "cell_type": "code",
   "execution_count": 7,
   "metadata": {},
   "outputs": [
    {
     "name": "stdout",
     "output_type": "stream",
     "text": [
      "[1, 9, 25, 49, 81] [0, 4, 16, 36, 64]\n",
      "[-1, 3, 37] [2, 8]\n"
     ]
    }
   ],
   "source": [
    "# functions are bits of code that you can re-use\n",
    "\n",
    "def separateOddandEven( container ):\n",
    "    \"\"\" returns 2 lists : one with the odds elements and one with the weven elements of the provided container \"\"\"\n",
    "    odds = []\n",
    "    evens = []\n",
    "    \n",
    "    for x in container:\n",
    "        if x%2 == 0 :\n",
    "            evens.append( x )\n",
    "        else:\n",
    "            odds.append( x )\n",
    "    return odds, evens\n",
    "    \n",
    "o , e = separateOddandEven( X )\n",
    "print(o,e)\n",
    "\n",
    "o , e = separateOddandEven( [-1,3,2,37,8] )\n",
    "print(o,e)\n"
   ]
  },
  {
   "cell_type": "markdown",
   "metadata": {},
   "source": [
    "**micro-exercise :** write a function that takes a list as an argument and return its mean"
   ]
  },
  {
   "cell_type": "code",
   "execution_count": null,
   "metadata": {},
   "outputs": [],
   "source": [
    "\n",
    "\n"
   ]
  }
 ],
 "metadata": {
  "kernelspec": {
   "display_name": "Environment (conda_py38)",
   "language": "python",
   "name": "conda_py38"
  },
  "language_info": {
   "codemirror_mode": {
    "name": "ipython",
    "version": 3
   },
   "file_extension": ".py",
   "mimetype": "text/x-python",
   "name": "python",
   "nbconvert_exporter": "python",
   "pygments_lexer": "ipython3",
   "version": "3.8.8"
  }
 },
 "nbformat": 4,
 "nbformat_minor": 2
}
