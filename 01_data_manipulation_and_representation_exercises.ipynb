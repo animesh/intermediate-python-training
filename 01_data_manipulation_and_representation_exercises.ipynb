{
 "cells": [
  {
   "cell_type": "markdown",
   "id": "8af62f82",
   "metadata": {},
   "source": [
    "# Exercises module 1 - Data manipulation and representation\n",
    "-----------------------------------------------------------------------------------------\n",
    "\n",
    "## Exercise 1 - data manipulation\n",
    "\n",
    "Using the Titanic dataset found in the file `data/titanic.csv`:\n",
    "\n",
    "1. Select passengers which survived. How many are males/females?\n",
    "2. Create a new column `Title` is the `DataFrame` representing the title by which passengers should\n",
    "   be addressed. The title can be found in the passenger name and is the only word ending with a `'.'`\n",
    "   \n",
    "   **Hint for question 2:** there is no *easy, one-line* answer. Create a function to get the title from the name and work your way from there.\n"
   ]
  },
  {
   "cell_type": "code",
   "execution_count": null,
   "id": "6412b8ca",
   "metadata": {},
   "outputs": [],
   "source": []
  },
  {
   "cell_type": "markdown",
   "id": "7f8eaa77",
   "metadata": {},
   "source": [
    "<br>\n",
    "\n",
    "### Solution\n",
    "Uncomment and run the cell below to display the solution."
   ]
  },
  {
   "cell_type": "code",
   "execution_count": null,
   "id": "59a54afb",
   "metadata": {},
   "outputs": [],
   "source": [
    "# %load solutions/solution_01_01.py"
   ]
  },
  {
   "cell_type": "markdown",
   "id": "a51f607e",
   "metadata": {},
   "source": [
    "<br>\n",
    "<br>\n",
    "\n",
    "## Exercise 2 - plotting data\n",
    "\n",
    "Using the Titanic dataset found in the file `data/titanic.csv`:\n",
    "\n",
    "1. Plot the `Age` distribution among first class passengers. Try to choose an appropriate mode of \n",
    "   representation (histogram? density line? number of bins?).\n",
    "2. Make a figure with 3 panels. In the panels, plot the histogram of the `Fare` among passengers in\n",
    "   the first, second, and third class, respectively.\n"
   ]
  },
  {
   "cell_type": "code",
   "execution_count": null,
   "id": "e4d5ef30",
   "metadata": {},
   "outputs": [],
   "source": []
  },
  {
   "cell_type": "markdown",
   "id": "561087fa",
   "metadata": {},
   "source": [
    "<br>\n",
    "\n",
    "### Solution\n",
    "Uncomment and run the cell below to display the solution."
   ]
  },
  {
   "cell_type": "code",
   "execution_count": null,
   "id": "45a63224",
   "metadata": {},
   "outputs": [],
   "source": [
    "# %load solutions/solution_01_02.py"
   ]
  }
 ],
 "metadata": {
  "kernelspec": {
   "display_name": "Python 3 (ipykernel)",
   "language": "python",
   "name": "python3"
  },
  "language_info": {
   "codemirror_mode": {
    "name": "ipython",
    "version": 3
   },
   "file_extension": ".py",
   "mimetype": "text/x-python",
   "name": "python",
   "nbconvert_exporter": "python",
   "pygments_lexer": "ipython3",
   "version": "3.8.10"
  }
 },
 "nbformat": 4,
 "nbformat_minor": 5
}
