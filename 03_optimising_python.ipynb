{
 "cells": [
  {
   "cell_type": "markdown",
   "metadata": {},
   "source": [
    "## Optimizing Python\n",
    "\n",
    "#### For any numerical analysis, it is best to use the highly optimized numpy library. "
   ]
  },
  {
   "cell_type": "code",
   "execution_count": 36,
   "metadata": {},
   "outputs": [],
   "source": [
    "import numpy as np"
   ]
  },
  {
   "cell_type": "markdown",
   "metadata": {},
   "source": [
    "### Let's generate a toy dataset of random number vectors"
   ]
  },
  {
   "cell_type": "code",
   "execution_count": 37,
   "metadata": {},
   "outputs": [
    {
     "name": "stdout",
     "output_type": "stream",
     "text": [
      "<class 'numpy.float64'>\n",
      "(100, 100)\n"
     ]
    }
   ],
   "source": [
    "num_vector = 100\n",
    "num_measures = 100\n",
    "\n",
    "data = np.random.uniform(size=(num_vector,num_measures))\n",
    "print(type(data[0][0]))\n",
    "print(data.shape)"
   ]
  },
  {
   "cell_type": "code",
   "execution_count": null,
   "metadata": {},
   "outputs": [],
   "source": []
  },
  {
   "cell_type": "markdown",
   "metadata": {},
   "source": [
    "#### Here we define a silly all-by-all distance metric:"
   ]
  },
  {
   "cell_type": "code",
   "execution_count": null,
   "metadata": {},
   "outputs": [],
   "source": []
  },
  {
   "cell_type": "code",
   "execution_count": 38,
   "metadata": {},
   "outputs": [],
   "source": [
    "def pairwise_distance(X):\n",
    "\n",
    "    num_vectors = X.shape[0]\n",
    "    num_measurements = X.shape[1] \n",
    "    D = np.empty((num_vectors, num_vectors), dtype=np.float64)\n",
    "    \n",
    "    for i in range(num_vectors):\n",
    "        for j in range(num_vectors):\n",
    "            d = np.square( np.subtract(X[i], X[j]) )\n",
    "            D[i, j] = np.sqrt(np.sum(d))\n",
    "    return(D)"
   ]
  },
  {
   "cell_type": "markdown",
   "metadata": {},
   "source": [
    "For the 300\\*100 matrix, calculating pairwise distance this way means 100\\*\\*2\\*100=1000000 calculations"
   ]
  },
  {
   "cell_type": "markdown",
   "metadata": {},
   "source": [
    "### Pure Python (and numpy)"
   ]
  },
  {
   "cell_type": "code",
   "execution_count": 39,
   "metadata": {},
   "outputs": [
    {
     "name": "stdout",
     "output_type": "stream",
     "text": [
      "CPU times: user 69.6 ms, sys: 63 µs, total: 69.7 ms\n",
      "Wall time: 68.7 ms\n"
     ]
    }
   ],
   "source": [
    "%%time\n",
    "result = pairwise_distance(data)"
   ]
  },
  {
   "cell_type": "code",
   "execution_count": 40,
   "metadata": {},
   "outputs": [
    {
     "name": "stdout",
     "output_type": "stream",
     "text": [
      "[[0.         4.76827164 4.46169428 ... 4.1498546  3.70344501 3.56266852]\n",
      " [4.76827164 0.         4.37844496 ... 4.08085492 4.62398251 4.24708855]\n",
      " [4.46169428 4.37844496 0.         ... 3.7878381  3.96606605 4.00293712]\n",
      " ...\n",
      " [4.1498546  4.08085492 3.7878381  ... 0.         4.31309973 3.88091059]\n",
      " [3.70344501 4.62398251 3.96606605 ... 4.31309973 0.         3.67060857]\n",
      " [3.56266852 4.24708855 4.00293712 ... 3.88091059 3.67060857 0.        ]]\n"
     ]
    }
   ],
   "source": [
    "print(np.asarray(result))"
   ]
  },
  {
   "cell_type": "markdown",
   "metadata": {},
   "source": [
    "### Cython"
   ]
  },
  {
   "cell_type": "code",
   "execution_count": 41,
   "metadata": {},
   "outputs": [
    {
     "name": "stdout",
     "output_type": "stream",
     "text": [
      "The cython extension is already loaded. To reload it, use:\n",
      "  %reload_ext cython\n"
     ]
    }
   ],
   "source": [
    "%load_ext cython"
   ]
  },
  {
   "cell_type": "code",
   "execution_count": 42,
   "metadata": {},
   "outputs": [],
   "source": [
    "%%cython\n",
    "import numpy as np\n",
    "cimport numpy as np\n",
    "cimport cython\n",
    "\n",
    "def pairwise_distance_cython(double[:, ::1] X):\n",
    "    \n",
    "    cdef int num_vectors = X.shape[0]\n",
    "    cdef int num_measurements = X.shape[1]\n",
    "    cdef double[:, ::1] D = np.empty((X.shape[0], X.shape[0]), dtype=np.float)\n",
    "    \n",
    "    for i in range(num_vectors):\n",
    "        for j in range(num_vectors):\n",
    "            D[i, j] = np.sqrt ( np.sum( np.square( np.subtract(X[i], X[j]) ) ) )\n",
    "    return(D)"
   ]
  },
  {
   "cell_type": "code",
   "execution_count": 43,
   "metadata": {},
   "outputs": [
    {
     "name": "stdout",
     "output_type": "stream",
     "text": [
      "CPU times: user 110 ms, sys: 4.1 ms, total: 114 ms\n",
      "Wall time: 113 ms\n"
     ]
    }
   ],
   "source": [
    "%%time\n",
    "result = pairwise_distance_cython(data)"
   ]
  },
  {
   "cell_type": "code",
   "execution_count": 44,
   "metadata": {},
   "outputs": [
    {
     "name": "stdout",
     "output_type": "stream",
     "text": [
      "[[0.         4.76827164 4.46169428 ... 4.1498546  3.70344501 3.56266852]\n",
      " [4.76827164 0.         4.37844496 ... 4.08085492 4.62398251 4.24708855]\n",
      " [4.46169428 4.37844496 0.         ... 3.7878381  3.96606605 4.00293712]\n",
      " ...\n",
      " [4.1498546  4.08085492 3.7878381  ... 0.         4.31309973 3.88091059]\n",
      " [3.70344501 4.62398251 3.96606605 ... 4.31309973 0.         3.67060857]\n",
      " [3.56266852 4.24708855 4.00293712 ... 3.88091059 3.67060857 0.        ]]\n"
     ]
    }
   ],
   "source": [
    "print(np.asarray(result))"
   ]
  },
  {
   "cell_type": "markdown",
   "metadata": {},
   "source": [
    "### Numba"
   ]
  },
  {
   "cell_type": "code",
   "execution_count": 45,
   "metadata": {},
   "outputs": [],
   "source": [
    "from numba import jit"
   ]
  },
  {
   "cell_type": "code",
   "execution_count": 46,
   "metadata": {},
   "outputs": [],
   "source": [
    "@jit\n",
    "def pairwise_distance_numba(X):\n",
    "\n",
    "    num_vectors = X.shape[0]\n",
    "    num_measurements = X.shape[1] \n",
    "    D = np.empty((num_vectors, num_vectors), dtype=np.float64)\n",
    "    \n",
    "    for i in range(num_vectors):\n",
    "        for j in range(num_vectors):\n",
    "            d = 0.\n",
    "            for k in range(num_measurements):\n",
    "                d += np.square( np.subtract(X[i][k], X[j][k])  )\n",
    "            D[i, j] = np.sqrt(d)\n",
    "    return(D)"
   ]
  },
  {
   "cell_type": "code",
   "execution_count": 47,
   "metadata": {},
   "outputs": [
    {
     "name": "stdout",
     "output_type": "stream",
     "text": [
      "CPU times: user 131 ms, sys: 33 µs, total: 131 ms\n",
      "Wall time: 130 ms\n"
     ]
    }
   ],
   "source": [
    "%%time\n",
    "result = pairwise_distance_numba(data)"
   ]
  },
  {
   "cell_type": "markdown",
   "metadata": {},
   "source": [
    "> the first time it is executed the function is compiled. Run the function again to get the execution time without compilation"
   ]
  },
  {
   "cell_type": "code",
   "execution_count": 48,
   "metadata": {},
   "outputs": [
    {
     "name": "stdout",
     "output_type": "stream",
     "text": [
      "CPU times: user 806 µs, sys: 39 µs, total: 845 µs\n",
      "Wall time: 847 µs\n"
     ]
    }
   ],
   "source": [
    "%%time\n",
    "result = pairwise_distance_numba(data)"
   ]
  },
  {
   "cell_type": "code",
   "execution_count": 49,
   "metadata": {},
   "outputs": [
    {
     "name": "stdout",
     "output_type": "stream",
     "text": [
      "[[0.         4.76827164 4.46169428 ... 4.1498546  3.70344501 3.56266852]\n",
      " [4.76827164 0.         4.37844496 ... 4.08085492 4.62398251 4.24708855]\n",
      " [4.46169428 4.37844496 0.         ... 3.7878381  3.96606605 4.00293712]\n",
      " ...\n",
      " [4.1498546  4.08085492 3.7878381  ... 0.         4.31309973 3.88091059]\n",
      " [3.70344501 4.62398251 3.96606605 ... 4.31309973 0.         3.67060857]\n",
      " [3.56266852 4.24708855 4.00293712 ... 3.88091059 3.67060857 0.        ]]\n"
     ]
    }
   ],
   "source": [
    "print(np.asarray(result))"
   ]
  },
  {
   "cell_type": "code",
   "execution_count": 50,
   "metadata": {},
   "outputs": [],
   "source": [
    "# alternative syntax\n",
    "import numba\n",
    "pairwise_distance_numba = numba.jit(pairwise_distance)"
   ]
  },
  {
   "cell_type": "code",
   "execution_count": 51,
   "metadata": {},
   "outputs": [
    {
     "name": "stdout",
     "output_type": "stream",
     "text": [
      "CPU times: user 215 ms, sys: 4.01 ms, total: 219 ms\n",
      "Wall time: 217 ms\n"
     ]
    }
   ],
   "source": [
    "%%time\n",
    "result = pairwise_distance_numba(data)"
   ]
  },
  {
   "cell_type": "code",
   "execution_count": 52,
   "metadata": {},
   "outputs": [
    {
     "name": "stdout",
     "output_type": "stream",
     "text": [
      "[[0.         4.76827164 4.46169428 ... 4.1498546  3.70344501 3.56266852]\n",
      " [4.76827164 0.         4.37844496 ... 4.08085492 4.62398251 4.24708855]\n",
      " [4.46169428 4.37844496 0.         ... 3.7878381  3.96606605 4.00293712]\n",
      " ...\n",
      " [4.1498546  4.08085492 3.7878381  ... 0.         4.31309973 3.88091059]\n",
      " [3.70344501 4.62398251 3.96606605 ... 4.31309973 0.         3.67060857]\n",
      " [3.56266852 4.24708855 4.00293712 ... 3.88091059 3.67060857 0.        ]]\n"
     ]
    }
   ],
   "source": [
    "print(np.asarray(result))"
   ]
  },
  {
   "cell_type": "markdown",
   "metadata": {},
   "source": [
    "### Comparison with replicates"
   ]
  },
  {
   "cell_type": "markdown",
   "metadata": {},
   "source": [
    "##### This is an extreme example that favors optimization by numba. In some other cases Cython may perform better."
   ]
  },
  {
   "cell_type": "code",
   "execution_count": 53,
   "metadata": {},
   "outputs": [
    {
     "name": "stdout",
     "output_type": "stream",
     "text": [
      "72.6 ms ± 4.97 ms per loop (mean ± std. dev. of 3 runs, 1 loop each)\n"
     ]
    }
   ],
   "source": [
    "%timeit -n 1 -r 3 result = pairwise_distance(data)"
   ]
  },
  {
   "cell_type": "code",
   "execution_count": 54,
   "metadata": {},
   "outputs": [
    {
     "name": "stdout",
     "output_type": "stream",
     "text": [
      "93.9 ms ± 2.06 ms per loop (mean ± std. dev. of 3 runs, 1 loop each)\n"
     ]
    }
   ],
   "source": [
    "%timeit -n 1 -r 3 result = pairwise_distance_cython(data)"
   ]
  },
  {
   "cell_type": "code",
   "execution_count": 55,
   "metadata": {},
   "outputs": [
    {
     "name": "stdout",
     "output_type": "stream",
     "text": [
      "2 ms ± 61.2 µs per loop (mean ± std. dev. of 3 runs, 1 loop each)\n"
     ]
    }
   ],
   "source": [
    "%timeit -n 1 -r 3 result = pairwise_distance_numba(data)"
   ]
  },
  {
   "cell_type": "markdown",
   "metadata": {},
   "source": [
    "### Multiprocessing (and refactoring)"
   ]
  },
  {
   "cell_type": "markdown",
   "metadata": {},
   "source": [
    "We can take advantage of multiple cores using the multiprocessing module. In this approach, separate __processes__ are used, __not threads__. The use of threads is generally blocked by Python because of the \"Global Interpreter Lock\". This was a necessary design feature as a trade-off for the enormous flexibility in memory management that Python makes possible. This means that there is no shared memory when using multiprocessing, and thus the individual tasks must be independent.\n",
    "\n",
    "Multiprocessing generally works well with lists, where one maps a function to each element of the list and these operations are computed as separated processes on separate cores per element of the list. To do this, we'll need to refactor our silly distance function. One approach would be to populate a list containing each of the vector pairs. The drawback here is the memory overhead of this list object:"
   ]
  },
  {
   "cell_type": "code",
   "execution_count": 56,
   "metadata": {},
   "outputs": [],
   "source": [
    "data = np.random.uniform(size=(100,100))"
   ]
  },
  {
   "cell_type": "code",
   "execution_count": 57,
   "metadata": {},
   "outputs": [],
   "source": [
    "def pairwise_list(X):\n",
    "\n",
    "    list_of_tuples = list()\n",
    "    \n",
    "    num_vectors = X.shape[0]\n",
    "    num_measurements = X.shape[1] \n",
    "    \n",
    "    for i in range(num_vectors):\n",
    "        for j in range(num_vectors):\n",
    "            list_of_tuples.append((X[i],X[j]))\n",
    "            \n",
    "    return(list_of_tuples)"
   ]
  },
  {
   "cell_type": "code",
   "execution_count": 58,
   "metadata": {},
   "outputs": [
    {
     "name": "stdout",
     "output_type": "stream",
     "text": [
      "CPU times: user 27.5 ms, sys: 0 ns, total: 27.5 ms\n",
      "Wall time: 27.4 ms\n"
     ]
    }
   ],
   "source": [
    "%%time\n",
    "list_of_tuples = pairwise_list(data)"
   ]
  },
  {
   "cell_type": "code",
   "execution_count": 59,
   "metadata": {},
   "outputs": [
    {
     "name": "stdout",
     "output_type": "stream",
     "text": [
      "<class 'list'>\n",
      "10000\n"
     ]
    }
   ],
   "source": [
    "print(type(list_of_tuples))\n",
    "print(len(list_of_tuples))"
   ]
  },
  {
   "cell_type": "markdown",
   "metadata": {},
   "source": [
    "Now we'll need to refactor our function for computing distances:"
   ]
  },
  {
   "cell_type": "code",
   "execution_count": 60,
   "metadata": {},
   "outputs": [],
   "source": [
    "def pairwise_distance_rf(X):\n",
    "    \n",
    "    assert(len(X) == 2)\n",
    "    assert(len(X[0]) == len(X[1]))\n",
    "    \n",
    "    d=0.\n",
    "    for k in range(len(X[1])):\n",
    "        d += np.square( np.subtract(X[0][k], X[1][k]))\n",
    "    \n",
    "    return( np.sqrt(np.sum(d) ) )"
   ]
  },
  {
   "cell_type": "code",
   "execution_count": 61,
   "metadata": {},
   "outputs": [
    {
     "name": "stdout",
     "output_type": "stream",
     "text": [
      "3.35 s ± 65.1 ms per loop (mean ± std. dev. of 3 runs, 1 loop each)\n"
     ]
    }
   ],
   "source": [
    "%timeit -n 1 -r 3  result = list(map(pairwise_distance_rf, list_of_tuples))"
   ]
  },
  {
   "cell_type": "markdown",
   "metadata": {},
   "source": [
    "Let's now repreat this with multiprocessing : "
   ]
  },
  {
   "cell_type": "code",
   "execution_count": 62,
   "metadata": {},
   "outputs": [],
   "source": [
    "import multiprocessing as mp"
   ]
  },
  {
   "cell_type": "code",
   "execution_count": 63,
   "metadata": {},
   "outputs": [
    {
     "name": "stdout",
     "output_type": "stream",
     "text": [
      "1.81 s ± 46.9 ms per loop (mean ± std. dev. of 3 runs, 1 loop each)\n"
     ]
    }
   ],
   "source": [
    "# we use the with statement to be sure we do not forget to do a pool.close() \n",
    "with mp.Pool(2) as pool :\n",
    "    %timeit -n 1 -r 3  result = pool.map(pairwise_distance_rf, list_of_tuples)"
   ]
  },
  {
   "cell_type": "code",
   "execution_count": 64,
   "metadata": {},
   "outputs": [
    {
     "name": "stdout",
     "output_type": "stream",
     "text": [
      "1\n",
      "3.39 s ± 61.9 ms per loop (mean ± std. dev. of 3 runs, 1 loop each)\n",
      "2\n",
      "1.89 s ± 32.5 ms per loop (mean ± std. dev. of 3 runs, 1 loop each)\n",
      "4\n",
      "1.31 s ± 46 ms per loop (mean ± std. dev. of 3 runs, 1 loop each)\n",
      "8\n",
      "1.34 s ± 14.6 ms per loop (mean ± std. dev. of 3 runs, 1 loop each)\n"
     ]
    }
   ],
   "source": [
    "for NP in [1,2,4,8]:\n",
    "    print(NP)\n",
    "    with mp.Pool(NP) as pool :\n",
    "        %timeit -n 1 -r 3  result = pool.map(pairwise_distance_rf, list_of_tuples)"
   ]
  },
  {
   "cell_type": "markdown",
   "metadata": {},
   "source": [
    "However, `multiprocessing` does not always lead to speedups as it may prevent numpy from doing some of its optimization tricks, such as vectorization.\n",
    "\n",
    "For instance, let's see how `multiprocessing` work on the vectorized version of our function :"
   ]
  },
  {
   "cell_type": "code",
   "execution_count": 65,
   "metadata": {},
   "outputs": [],
   "source": [
    "def pairwise_distance_rf_2(X):\n",
    "    \n",
    "    assert(len(X) == 2)\n",
    "    assert(len(X[0]) == len(X[1]))\n",
    "    \n",
    "    d = np.square( np.subtract(X[0], X[1]))\n",
    "    \n",
    "    return( np.sqrt(np.sum(d) ) )"
   ]
  },
  {
   "cell_type": "code",
   "execution_count": 66,
   "metadata": {},
   "outputs": [],
   "source": [
    "data = np.random.uniform(size=(300,100)) # I make the data a bit larger\n",
    "list_of_tuples = pairwise_list(data)"
   ]
  },
  {
   "cell_type": "code",
   "execution_count": 67,
   "metadata": {},
   "outputs": [
    {
     "name": "stdout",
     "output_type": "stream",
     "text": [
      "702 ms ± 30 ms per loop (mean ± std. dev. of 3 runs, 1 loop each)\n"
     ]
    }
   ],
   "source": [
    "%timeit -n 1 -r 3  result = list(map(pairwise_distance_rf_2, list_of_tuples))"
   ]
  },
  {
   "cell_type": "code",
   "execution_count": 68,
   "metadata": {},
   "outputs": [
    {
     "name": "stdout",
     "output_type": "stream",
     "text": [
      "2\n",
      "1.06 s ± 44 ms per loop (mean ± std. dev. of 3 runs, 1 loop each)\n",
      "4\n",
      "903 ms ± 28.7 ms per loop (mean ± std. dev. of 3 runs, 1 loop each)\n",
      "8\n",
      "893 ms ± 29.3 ms per loop (mean ± std. dev. of 3 runs, 1 loop each)\n"
     ]
    }
   ],
   "source": [
    "\n",
    "for NP in [2,4,8]:\n",
    "    print(NP)\n",
    "    with mp.Pool(NP) as pool :\n",
    "        %timeit -n 1 -r 3  result = pool.map(pairwise_distance_rf_2, list_of_tuples)"
   ]
  },
  {
   "cell_type": "markdown",
   "metadata": {
    "collapsed": true
   },
   "source": [
    "### numba and parallelization \n",
    "\n",
    "It is possible to provide a `numba` function to `mp.pool`, but `numba` already provides what's necessary to paralleliza your code :"
   ]
  },
  {
   "cell_type": "code",
   "execution_count": 69,
   "metadata": {},
   "outputs": [],
   "source": [
    "from numba import njit, prange\n",
    "\n",
    "@njit(parallel=True)\n",
    "def pairwise_distance_numba_prange(X):\n",
    "\n",
    "    num_vectors = X.shape[0]\n",
    "    num_measurements = X.shape[1] \n",
    "    D = np.empty((num_vectors, num_vectors), dtype=np.float64)\n",
    "    \n",
    "    for i in prange(num_vectors):\n",
    "        for j in range(num_vectors):\n",
    "            d = 0.\n",
    "            for k in range(num_measurements):\n",
    "                d += np.square( np.subtract(X[i][k], X[j][k])  )\n",
    "            D[i, j] = np.sqrt(d)\n",
    "    return(D)\n",
    "\n",
    "toydata = np.random.uniform(size=(10,10)) # I make toy data to launch the function once and compile it\n",
    "toyresult = pairwise_distance_numba_prange( toydata ) "
   ]
  },
  {
   "cell_type": "code",
   "execution_count": 70,
   "metadata": {},
   "outputs": [
    {
     "name": "stdout",
     "output_type": "stream",
     "text": [
      "643 ms ± 41.4 ms per loop (mean ± std. dev. of 3 runs, 1 loop each)\n",
      "17.5 ms ± 380 µs per loop (mean ± std. dev. of 3 runs, 1 loop each)\n",
      "1.61 ms ± 337 µs per loop (mean ± std. dev. of 3 runs, 1 loop each)\n"
     ]
    }
   ],
   "source": [
    "# No numba, vectorized\n",
    "%timeit -n 1 -r 3  result = list(map(pairwise_distance_rf_2, list_of_tuples))\n",
    "# numba\n",
    "%timeit -n 1 -r 3 result = pairwise_distance_numba( data )\n",
    "# numba parallel=True\n",
    "%timeit -n 1 -r 3 result = pairwise_distance_numba_prange( data )"
   ]
  },
  {
   "cell_type": "markdown",
   "metadata": {},
   "source": [
    "A significant improvement with Numba again, but clearly Numba really shines when working with nested loops.\n",
    "\n",
    "**In the end** which of these different method you should use will depend on the particulars of the computations you have to make."
   ]
  },
  {
   "cell_type": "code",
   "execution_count": 95,
   "metadata": {},
   "outputs": [
    {
     "name": "stdout",
     "output_type": "stream",
     "text": [
      "<class 'pandas.core.frame.DataFrame'>\n",
      "   x  y\n",
      "0  1  6\n",
      "1  2  7\n",
      "2  3  8\n",
      "   x   y\n",
      "0  1   6\n",
      "1  2   7\n",
      "2  3   8\n",
      "3  4   9\n",
      "4  5  10\n"
     ]
    }
   ],
   "source": [
    "import pandas as pd\n",
    "\n",
    "df = pd.DataFrame({\"x\": range(1,6), \"y\": range(6,11)})\n",
    "df2 = df.loc[(df[\"x\"] <= 3), :] \n",
    "print(type(df2))\n",
    "print(df2)\n",
    "print(df)"
   ]
  },
  {
   "cell_type": "code",
   "execution_count": 77,
   "metadata": {},
   "outputs": [
    {
     "data": {
      "text/html": [
       "<div>\n",
       "<style scoped>\n",
       "    .dataframe tbody tr th:only-of-type {\n",
       "        vertical-align: middle;\n",
       "    }\n",
       "\n",
       "    .dataframe tbody tr th {\n",
       "        vertical-align: top;\n",
       "    }\n",
       "\n",
       "    .dataframe thead th {\n",
       "        text-align: right;\n",
       "    }\n",
       "</style>\n",
       "<table border=\"1\" class=\"dataframe\">\n",
       "  <thead>\n",
       "    <tr style=\"text-align: right;\">\n",
       "      <th></th>\n",
       "      <th>x</th>\n",
       "      <th>y</th>\n",
       "    </tr>\n",
       "  </thead>\n",
       "  <tbody>\n",
       "    <tr>\n",
       "      <td>0</td>\n",
       "      <td>1</td>\n",
       "      <td>6</td>\n",
       "    </tr>\n",
       "    <tr>\n",
       "      <td>1</td>\n",
       "      <td>2</td>\n",
       "      <td>7</td>\n",
       "    </tr>\n",
       "    <tr>\n",
       "      <td>2</td>\n",
       "      <td>3</td>\n",
       "      <td>8</td>\n",
       "    </tr>\n",
       "  </tbody>\n",
       "</table>\n",
       "</div>"
      ],
      "text/plain": [
       "   x  y\n",
       "0  1  6\n",
       "1  2  7\n",
       "2  3  8"
      ]
     },
     "execution_count": 77,
     "metadata": {},
     "output_type": "execute_result"
    }
   ],
   "source": [
    "df.loc[df['x']<=3 , ] "
   ]
  },
  {
   "cell_type": "code",
   "execution_count": null,
   "metadata": {},
   "outputs": [],
   "source": []
  }
 ],
 "metadata": {
  "kernelspec": {
   "display_name": "Python 3",
   "language": "python",
   "name": "python3"
  },
  "language_info": {
   "codemirror_mode": {
    "name": "ipython",
    "version": 3
   },
   "file_extension": ".py",
   "mimetype": "text/x-python",
   "name": "python",
   "nbconvert_exporter": "python",
   "pygments_lexer": "ipython3",
   "version": "3.7.4"
  }
 },
 "nbformat": 4,
 "nbformat_minor": 2
}
