{
 "cells": [
  {
   "cell_type": "markdown",
   "id": "e9cdc8da",
   "metadata": {},
   "source": [
    "# Module 2 - describing and representing tabulated data \n",
    "-------------------------------------------------------------------------------------------------------\n",
    "\n",
    "## Table of Content <a id='toc'></a>\n",
    "\n",
    "\n",
    "\n",
    "1. **[Basic description - common summary statistics](#descr1)**\n",
    "   <br>\n",
    "\n",
    "2. **[Basic representation - plotting one column](#plt1)**  \n",
    "   [Interlude: multi-panel figures](#multi)  \n",
    "   [Exercise 1 - histograms](#ex1)  \n",
    "   <br>\n",
    "\n",
    "3. **[Accounting for categories in the data](#descr.3)**  \n",
    "   3.1 [`groupby`](#descr.3.1)  \n",
    "   3.2 [`catplot`](#descr.3.2)  \n",
    "   [Exercise 2 - representing categories](#ex2)  \n",
    "   <br>\n",
    "   \n",
    "4. **[Representing the relationship between 2 numerical variables](#plot2)**\n",
    "   <br>\n",
    "\n",
    "5. **[Writing plots to disk](#writing)**\n",
    "   <br>\n",
    "   \n",
    "6. **[Free form exercise](#exo)**\n",
    "   <br>\n",
    "\n",
    "**Supplementary Material:**  \n",
    "   * [Annex - seaborn themes + python graph gallery](#gallery)\n"
   ]
  },
  {
   "cell_type": "markdown",
   "id": "1659225d",
   "metadata": {},
   "source": [
    "## Introduction\n",
    "\n",
    "Before we begin this chapter in earnest, let's import some libraries and read the data:"
   ]
  },
  {
   "cell_type": "code",
   "execution_count": null,
   "id": "c7a47029",
   "metadata": {},
   "outputs": [],
   "source": [
    "import pandas as pd\n",
    "import matplotlib.pyplot as plt\n",
    "import seaborn as sns\n",
    "import numpy as np\n",
    "\n",
    "print(\"All modules loaded successfully!\")"
   ]
  },
  {
   "cell_type": "markdown",
   "id": "53909807",
   "metadata": {},
   "source": [
    "> Note: if you are missing some of the above modules, you should install them.\n",
    ">\n",
    ">    * Installation with **pip**: `pip install --user pandas matplotlib seaborn numpy` \n",
    ">    * Installation with **conda**: `conda install -c anaconda pandas matplotlib seaborn numpy`\n",
    "\n",
    "<br>\n",
    "<br>\n",
    "\n",
    "This is a configuration to make the plots work better when presenting online... you do **not need to run this cell**."
   ]
  },
  {
   "cell_type": "code",
   "execution_count": null,
   "id": "20ed89e8",
   "metadata": {},
   "outputs": [],
   "source": [
    "%matplotlib inline\n",
    "\n",
    "plt.rcParams['figure.figsize'] = 10, 10\n",
    "plt.rc(\"font\", size=20)"
   ]
  },
  {
   "cell_type": "markdown",
   "id": "58dc05d8",
   "metadata": {},
   "source": [
    "<br>\n",
    "<br>\n",
    "<br>\n",
    "\n",
    "[Back to ToC](#toc)\n",
    "\n",
    "\n",
    "## 1. Basic description - common summary statistics <a id='descr1'></a>\n",
    "-----------------------------------------------------------------------------------------\n",
    "\n",
    "When doing exploratory analysis of a dataset, it is often useful get some basic statistics on a per-column basis (since rows will typically represent the samples and columns the explanatory variables).\n",
    "\n",
    "Pandas has a number of methods that can be applied both on an entire DataFrame or on individual columns (Series):\n",
    "* **`describe()`**: prints summary statistics for all **numeric columns** (count, mean, min, max, std, quantiles).\n",
    "* **`count()`**: returns the count of values (in each column, if applied to a DataFrame), that are not NaN\n",
    "  (i.e. missing values - Not a Number).\n",
    "* **`value_counts()`**: returns the count of each value. Useful for discrete variables (e.g. factors).\n",
    "* `min()`, `max()`, `mean()`, `std()`, `quantile()`, `sum()`: returns the min, max, mean, etc.\n",
    "\n",
    "When applied to a DataFrame, these method compute values for all columns, skipping columns for which they cannot be applied (e.g. standard deviation can only be computed for numeric columns).\n",
    "\n",
    "> Note: by default, all these statistics are computed by columns (e.g. max value of all rows in a given column), but they can also be computed by row by adding the `axis=1` argument. E.g. `df.max(axis=1)` returns the max value among columns for each row.\n",
    "\n",
    "<br>\n",
    "\n",
    "**Example:** In the Titanic dataset, count the number of people that embarked at different ports.\n",
    "> *Note:* `Embarked` - Port of Embarkation (C = Cherbourg; Q = Queenstown; S = Southampton)"
   ]
  },
  {
   "cell_type": "code",
   "execution_count": null,
   "id": "bf48a4ac",
   "metadata": {},
   "outputs": [],
   "source": [
    "# Load the Titanic data set.\n",
    "df = pd.read_csv(\"data/titanic.csv\") \n",
    "df.head()"
   ]
  },
  {
   "cell_type": "code",
   "execution_count": null,
   "id": "fdbe6766",
   "metadata": {},
   "outputs": [],
   "source": [
    "df.Embarked.value_counts()"
   ]
  },
  {
   "cell_type": "markdown",
   "id": "de15aa6e",
   "metadata": {},
   "source": [
    "<br>\n",
    "\n",
    "**Example:** compute the mean, median, min and max passenger fare."
   ]
  },
  {
   "cell_type": "code",
   "execution_count": null,
   "id": "f40543e4",
   "metadata": {},
   "outputs": [],
   "source": [
    "print(\"mean Fare\", df.Fare.mean())\n",
    "print(\"median Fare\", df.Fare.median())\n",
    "print(\"min Fare\", df.Fare.min())\n",
    "print(\"max Fare\", df.Fare.max())"
   ]
  },
  {
   "cell_type": "markdown",
   "id": "cb428401",
   "metadata": {},
   "source": [
    "<br>\n",
    "\n",
    "Of course we can combine this with selections:\n",
    "> **Pro-tips:** \n",
    "> * Note the use of **`~`** to reverse the mask!\n",
    "> * You can use **&** and **|** to have several conditions.\n",
    "> * **Important:** if using several masks, do not forget the parenthesis!"
   ]
  },
  {
   "cell_type": "code",
   "execution_count": null,
   "id": "1751ac70",
   "metadata": {},
   "outputs": [],
   "source": [
    "mask_male = df.Sex == \"male\"\n",
    "print(\"median fare of male passengers  :\", df.Fare[mask_male].median())\n",
    "print(\"median fare of female passengers:\", df.Fare[~mask_male].median())\n",
    "print(\"count of female passengers under 18:\", df.Age[~mask_male & (df.Age <= 18)].count()) # Does not include NaN."
   ]
  },
  {
   "cell_type": "markdown",
   "id": "eabf39c2",
   "metadata": {},
   "source": [
    "<br>\n",
    "\n",
    "These methods can be used on **whole DataFrames**: by default they apply to each column.  \n",
    "\n",
    "**Example:**\n",
    "* Let's compute the mean values for each columnn of the Titanic data set.  \n",
    "  Note: one could use `df.mean(axis=1)` to compute a mean per row, but it would here be senseless."
   ]
  },
  {
   "cell_type": "code",
   "execution_count": null,
   "id": "a2cdb11f",
   "metadata": {},
   "outputs": [],
   "source": [
    "df.mean()  # Raises a TypeError or a FutureWarning, depending on the version of pandas."
   ]
  },
  {
   "cell_type": "markdown",
   "id": "0f9fe107",
   "metadata": {},
   "source": [
    "Depending on the version of pandas, we get either a **`TypeError`** (newer versions) or a **`FutureWarning`** (older versions), letting us know that in the future automatic dropping of non-numerical columns will raise an error. We can correct by explicitly selecting columns:"
   ]
  },
  {
   "cell_type": "code",
   "execution_count": null,
   "id": "e3057518",
   "metadata": {},
   "outputs": [],
   "source": [
    "df[[\"Age\", \"Pclass\", \"Family\", \"Fare\"]].mean()"
   ]
  },
  {
   "cell_type": "markdown",
   "id": "36e79d68",
   "metadata": {},
   "source": [
    "<br>\n",
    "\n",
    "<div class=\"alert alert-block alert-success\">\n",
    "\n",
    "### Micro-Exercise 1\n",
    "    \n",
    "* Compute the mean fare for each passenger class (`Pclass`).\n",
    "\n",
    "</div>"
   ]
  },
  {
   "cell_type": "code",
   "execution_count": null,
   "id": "5ad4484c",
   "metadata": {},
   "outputs": [],
   "source": []
  },
  {
   "cell_type": "markdown",
   "id": "081a7a73",
   "metadata": {},
   "source": [
    "<br>\n",
    "\n",
    "Another useful method is **`pd.crosstab()`** to create contingency tables. Such tables allow e.g. to look at the relationship between categorical variables:"
   ]
  },
  {
   "cell_type": "code",
   "execution_count": null,
   "id": "68adb0b9",
   "metadata": {},
   "outputs": [],
   "source": [
    "pd.crosstab(df.Pclass , df.Survived)"
   ]
  },
  {
   "cell_type": "markdown",
   "id": "939cbe48",
   "metadata": {},
   "source": [
    "<br>\n",
    "\n",
    "<div class=\"alert alert-block alert-success\">\n",
    "\n",
    "### Micro-Exercise 2\n",
    "    \n",
    "* Using the dataset of single cell data `data/pbmc_data.countMatrix.50.txt.zip`:\n",
    "  1. Compute the sum for each column.\n",
    "  2. Normalize each column by dividing its values by the column-wise sum.\n",
    "  \n",
    "</div>"
   ]
  },
  {
   "cell_type": "code",
   "execution_count": null,
   "id": "d3878be6",
   "metadata": {},
   "outputs": [],
   "source": []
  },
  {
   "cell_type": "markdown",
   "id": "64bc81d7",
   "metadata": {},
   "source": [
    "<br>\n",
    "<br>\n",
    "\n",
    "A very useful method of DataFrame to get an **overview of a dataset** is **`df.describe()`**:"
   ]
  },
  {
   "cell_type": "code",
   "execution_count": null,
   "id": "ad488b40",
   "metadata": {},
   "outputs": [],
   "source": [
    "df.describe()"
   ]
  },
  {
   "cell_type": "markdown",
   "id": "6ed291f4",
   "metadata": {},
   "source": [
    "The `df.describe()` function gives information about all numerical columns in the dataset at once (note that non-numerical values are absent here).\n",
    "\n",
    "It is very useful not only to get a first impression on the dataset, but also to catch eventual errors in the data: a negative number where there should be only positive values, missing values (NAs), ...\n",
    "\n",
    "\n",
    "<br>\n",
    "\n",
    "**BUT** the most eagle-eyed among you will have spotted a problem here... what is it? how to solve it ?\n",
    "\n"
   ]
  },
  {
   "cell_type": "code",
   "execution_count": null,
   "id": "910fe5a2",
   "metadata": {},
   "outputs": [],
   "source": [
    "# %load solutions/solution_describe.py"
   ]
  },
  {
   "cell_type": "markdown",
   "id": "8dc1ba13",
   "metadata": {},
   "source": [
    "<br>\n",
    "\n",
    "Anyway, back to the matter at hand.\n",
    "\n",
    "**`.describe()`** gives access to some of the most commonly used summary statistics:\n",
    "* (arithmetic) **mean** : ${\\displaystyle \\bar{x}={\\frac {1}{n}}\\sum _{i=1}^{n}x_{i}}$  or, for coders : `sum(x)/len(x)`\n",
    "* **standard deviation** (a.k.a. std, stdev) : this corresponds to the average of the absolute difference to the mean. It is the **square root of the variance**.\n",
    "* **minimum** and **maximum**: smallest and biggest value among the data. Looking at them can help detect outliers.\n",
    "* **quartiles** : they correspond to the value such that\n",
    "    * 25% (first quartile, Q1), \n",
    "    * 50% (second quartile, Q2, median), or\n",
    "    * 75% (second quartile, Q3)\n",
    "    \n",
    "      of the values are lower than them. They are less sensitive than the mean to outlier values.\n"
   ]
  },
  {
   "cell_type": "markdown",
   "id": "6a73c496",
   "metadata": {},
   "source": [
    "<br>\n",
    "<br>\n",
    "<br>\n",
    "\n",
    "[Back to ToC](#toc)\n",
    "\n",
    "## 2. Basic representation - plotting one column <a id='plt1'></a>\n",
    "-----------------------------------------------------------\n",
    "\n",
    "\n",
    "It is all nice to be able to display numerical summary numbers, but often data is best explored visually! To this end, there are a number of plotting libraries in python. Here we will mostly be using **matplotlib** and **seaborn**, which are two very popular plotting libraries in python.\n",
    "\n",
    "* **matplotlib** can be seen as a base library, which defines a lot of low-level plotting functions.\n",
    "* **seaborn** is built on top of matplotlib, and provides more high-level functions. It's designed to\n",
    "  interface very well with DataFrames.\n",
    "\n",
    "We will not delve in all the details of these two libraries, but will instead try to convey elements about their general philosophies and look at their most common functions/arguments. This should give you a head start to get the most out of their very well done tutorial and galleries:\n",
    " * [matplotlib](https://matplotlib.org/) - [tutorial](https://matplotlib.org/stable/tutorials/introductory/pyplot.html#sphx-glr-tutorials-introductory-pyplot-py) - [gallery](https://matplotlib.org/stable/gallery/index.html)\n",
    " * [seaborn](https://seaborn.pydata.org/) - [tutorial](https://seaborn.pydata.org/tutorial.html) - [gallery](https://seaborn.pydata.org/examples/index.html)\n",
    "\n",
    "<br>\n",
    "\n",
    "> Note: `pandas` also proposes plotting functions, which are basically also using `matplotlib`. \n",
    "\n",
    "<br>\n",
    "\n",
    "\n",
    "\n",
    "The simplest way to represent the distribution of a set of values using **seaborn** is to use its **`sns.displot()`** function:\n",
    "\n",
    "> \"displot\" is shorthand for distribution plot."
   ]
  },
  {
   "cell_type": "code",
   "execution_count": null,
   "id": "2610f554",
   "metadata": {},
   "outputs": [],
   "source": [
    "import seaborn as sns\n",
    "\n",
    "sns.displot(df.Fare)"
   ]
  },
  {
   "cell_type": "markdown",
   "id": "d9f9bddd",
   "metadata": {},
   "source": [
    "Ok, that is nice, but tiny... Le'ts make it larger:"
   ]
  },
  {
   "cell_type": "code",
   "execution_count": null,
   "id": "24e7165a",
   "metadata": {},
   "outputs": [],
   "source": [
    "sns.displot(df.Fare, height=7)"
   ]
  },
  {
   "cell_type": "markdown",
   "id": "6e0f9b34",
   "metadata": {},
   "source": [
    "Above, you should now see a histogram (in blue):\n",
    "* The *x-axis* corresponds to the fare paid by each passenger.\n",
    "* The *y-axis* corresponds to the **count**: the number of values falling in a given *bin*\n",
    "  (i.e. a bar of the histogram).\n",
    "\n",
    "By using the **`kind`** argument, one can change the type of plot:\n",
    "* `kind=\"hist\"`: histogram (this is the default).\n",
    "* `kind=\"kde\"`: density line (kernel density estimation).\n",
    "* `kind=\"ecdf\"`: cumulative distribution function.\n",
    "\n",
    "<br>\n",
    "\n",
    "**Example:**"
   ]
  },
  {
   "cell_type": "code",
   "execution_count": null,
   "id": "dbd65868",
   "metadata": {},
   "outputs": [],
   "source": [
    "# Note: kde stands for 'kernel density estimation', which is the method used to compute the density line.\n",
    "sns.displot(df.Fare, kind=\"kde\", height=7)"
   ]
  },
  {
   "cell_type": "markdown",
   "id": "07dca7b6",
   "metadata": {},
   "source": [
    "> Note that the y-axis is now in **density** units."
   ]
  },
  {
   "cell_type": "markdown",
   "id": "25a07eb7",
   "metadata": {},
   "source": [
    "Naturally, `displot()` has many options allowing to combine plot types and pimp your plot.  \n",
    "For instance, using `kde=True` will superimpose a density line:"
   ]
  },
  {
   "cell_type": "code",
   "execution_count": null,
   "id": "7b33a802",
   "metadata": {},
   "outputs": [],
   "source": [
    "g = sns.displot(df.Age, kde=True, color=\"red\", height=7)"
   ]
  },
  {
   "cell_type": "markdown",
   "id": "3614c652",
   "metadata": {},
   "source": [
    "> *Note:* having both the histogram and the density line switches the y-axis from density to count,\n",
    "  which is sometimes more interpretable."
   ]
  },
  {
   "cell_type": "markdown",
   "id": "9c4295ad",
   "metadata": {},
   "source": [
    "\n",
    "`sns.displot()` is what we could call a **figure-level** function:\n",
    " * It has several *kind* of representation.\n",
    " * It does not play nice in **multi-panel** figures.\n",
    "\n",
    "<br>\n",
    "<br>\n",
    "\n",
    "\n",
    "[Back to ToC](#toc)\n",
    "\n",
    "### Interlude: multi-panel figures <a id='multi'></a>\n",
    "\n",
    "We create Multi-panel figures using `matplotlib` command and concepts. \n",
    "To make it simple, we call `fig, axes = plt.subplots( nb_rows , nb_cols )`, which creates:\n",
    " * `fig`, a `figure` object which controls the whole multi-panel figure\n",
    " * `axes` : a list containing individual `axe` objects though which we can plot on individual panels of the figure\n"
   ]
  },
  {
   "cell_type": "code",
   "execution_count": null,
   "id": "3bbf0989",
   "metadata": {},
   "outputs": [],
   "source": [
    "# Create a list of 100 evenly spaced points between 0 and 10.\n",
    "x = np.linspace(0, 10, 100) \n",
    "\n",
    "# Create a figure with multiple panels: 1 row, 2 columns\n",
    "fig, axes = plt.subplots( 1, 2 , figsize=(10,8))\n",
    "\n",
    "print( axes ) # axes is a list of two axes objects\n",
    "\n",
    "## plotting on the first axe == left panel\n",
    "axes[0].plot(x, np.sin(x), label='sin')\n",
    "axes[0].set_title(\"sine plot\")\n",
    "axes[0].set_xlabel(\"value\")\n",
    "axes[0].set_ylabel(\"sine/cosine value\")\n",
    "axes[0].legend()\n",
    "\n",
    "## plotting on the second axe == right panel\n",
    "axes[1].plot(x, np.cos(x), label='cos')\n",
    "axes[1].set_title(\"cosine plot\")\n",
    "axes[1].set_xlabel(\"value\")\n",
    "axes[1].set_ylabel(\"sine/cosine value\")\n",
    "\n",
    "plt.tight_layout() ## this creates a more harmonious organization of the different panels\n",
    "plt.show()"
   ]
  },
  {
   "cell_type": "markdown",
   "id": "4cdc051d",
   "metadata": {},
   "source": [
    "<br>\n",
    "\n",
    "### Back to data representation ...\n",
    "\n",
    "The different `kind` (histogram, kde, ecdf) of `sns.displot()` can all be called individually using their own functions : `histplot()`, `kdeplot()`, `ecdfplot()`. \n",
    "\n",
    "In contrast to `sns.displot()` which is **figure-level**, these more-specialized functions are **axe-level**: they play nicely in a multiple panel context.\n",
    "\n",
    "They interface with `matplotlib`'s axes using the `ax` argument.\n"
   ]
  },
  {
   "cell_type": "code",
   "execution_count": null,
   "id": "3b406460",
   "metadata": {},
   "outputs": [],
   "source": [
    "# Creating multiple panels: 1 row, 2 columns.\n",
    "fig, axes = plt.subplots(1, 2)\n",
    "\n",
    "# Plotting on the first axe == left panel.\n",
    "sns.histplot(df.Age ,ax = axes[0])\n",
    "\n",
    "# Plotting on the second axe == right panel.\n",
    "sns.kdeplot(df.Fare ,ax = axes[1])\n",
    "\n",
    "plt.tight_layout()   # This creates a more harmonious organization of the different panels.\n",
    "plt.show()"
   ]
  },
  {
   "cell_type": "markdown",
   "id": "dbe8694c",
   "metadata": {},
   "source": [
    "<br>\n",
    "\n",
    "In **histogram**, a different number of *bins* shows different aspects of the distribution of your data and so it is important to choose one that is appropriate to your sample size and data. \n",
    "\n",
    "By default, seaborn automatically infers the number of *bins*. \n",
    "You may stick with the original or change it:"
   ]
  },
  {
   "cell_type": "code",
   "execution_count": null,
   "id": "81948c1b",
   "metadata": {},
   "outputs": [],
   "source": [
    "# Let's play with a different dataset for this example.\n",
    "dfFractions = pd.read_table(\"data/census1880_fractions.csv\", sep=\",\")\n",
    "\n",
    "# Set up a figure with multiple panels, here a 2 by 2 grid.\n",
    "f, axes = plt.subplots( 2, 2, figsize=(14, 7) )\n",
    "\n",
    "# axes is now a list of list of axes, to represent the 2d nature of our panels:\n",
    "#  [ [<axe>,<axe>] ,\n",
    "#    [<axe>,<axe>]]\n",
    "\n",
    "\n",
    "# Then you can specify where each plot goes on the figure with the ax argument of the \n",
    "#([0,0] is the top left corner; [0,1] is upper right, etc.).\n",
    "\n",
    "# Plot a simple histogram with bin size determined automatically.\n",
    "sns.histplot(\n",
    "    dfFractions[\"0-14 y.o.\"],\n",
    "    kde=False,\n",
    "    color=\"b\",\n",
    "    ax=axes[0, 0]\n",
    ").set_title(\"automatic\")\n",
    "\n",
    "# Plot a simple histogram with bin size 5, 10 , 1000\n",
    "sns.histplot(dfFractions[\"0-14 y.o.\"], bins=5   , kde=False, color=\"b\", ax=axes[0, 1]).set_title(\"5 bins\")\n",
    "sns.histplot(dfFractions[\"0-14 y.o.\"], bins=10  , kde=False, color=\"b\", ax=axes[1, 0]).set_title(\"10 bins\")\n",
    "sns.histplot(dfFractions[\"0-14 y.o.\"], bins=1000 , kde=False, color=\"b\", ax=axes[1, 1]).set_title(\"1000 bins\")\n",
    "\n",
    "plt.tight_layout()  # This makes the panels margins and setup more graceful."
   ]
  },
  {
   "cell_type": "markdown",
   "id": "4538cc55",
   "metadata": {},
   "source": [
    "\n",
    "So, to recap, we use `sns.histplot` instead of `sns.displot` : \n",
    " * `histplot` : gives a lower-level kind of plot which is easier to manipulate in multiple figure.\n",
    " * `displot` : high-level function, with a lot of capabilities, but does not play nice if not the top figure.\n",
    "     "
   ]
  },
  {
   "cell_type": "markdown",
   "id": "4b3470cf",
   "metadata": {},
   "source": [
    "\n",
    "<br>\n",
    "\n",
    "We can combine graphical elements coming from `matplotlib` and `seaborn` quite seamlessly.\n",
    "\n",
    "Here is a more advanced example where I represent the the **mean**, the **median** and the **mode** of a distribution on top of an histogram.\n"
   ]
  },
  {
   "cell_type": "code",
   "execution_count": null,
   "id": "b6e5fc90",
   "metadata": {},
   "outputs": [],
   "source": [
    "# Define a small function that plots a distribution, along with its mean median and mode.\n",
    "\n",
    "def plotWithMeanMedianMode(dat, ax):\n",
    "    \"\"\" \n",
    "        Takes:\n",
    "         * dat: a pandas series\n",
    "         * ax : a matplotlib axe    \n",
    "    \"\"\"\n",
    "    mode=dat.mode()[0]  # We only select the first mode.\n",
    "    mean=dat.mean()\n",
    "    median=dat.median()\n",
    "\n",
    "    sns.histplot(dat, kde=True, ax=ax)  # Line for histogram and density line.\n",
    "\n",
    "    ax.axvline(mean, color=\"r\", linestyle=\"--\", label=\"Mean\")\n",
    "    ax.axvline(median, color=\"g\", linestyle=\"-\", label=\"Median\")\n",
    "    ax.axvline(mode, color=\"b\", linestyle=\"-\", label=\"Mode\")\n",
    "    ax.legend()\n"
   ]
  },
  {
   "cell_type": "code",
   "execution_count": null,
   "id": "f7f4565e",
   "metadata": {},
   "outputs": [],
   "source": [
    "f, axes = plt.subplots(2, 1, figsize=(15, 10))\n",
    "\n",
    "plotWithMeanMedianMode(df.Fare, axes[0])\n",
    "plotWithMeanMedianMode(df.Age , axes[1])\n",
    "plt.show()"
   ]
  },
  {
   "cell_type": "markdown",
   "id": "2eb5d571",
   "metadata": {},
   "source": [
    "Of note here :\n",
    " * `axvline`: create a vertical line.\n",
    " * `label`: legend label associated with the element created by this function.\n",
    "   Common to a lot of matplotlib plotting functions.\n",
    " * `ax.legend()`: makes the legend appear.\n",
    " \n",
    "> You can specify where the legend goes with `loc=` one of `{'best', 'upper left', 'upper right', 'lower left', 'lower right', 'upper center', 'lower center', 'center left', 'center right', 'center'}` or a `(x,y)` tuple  (more options to manually specify elements in the `help()`)\n",
    "\n",
    "\n",
    "<br>\n",
    "<br>\n",
    "\n",
    "<div class=\"alert alert-block alert-success\">\n",
    "\n",
    "## Exercise 2.1 - histograms\n",
    "\n",
    "Exercises are located in the dedicated notebook `exercises_course1.ipynb`.\n",
    "\n",
    "</div>\n",
    "\n"
   ]
  },
  {
   "cell_type": "markdown",
   "id": "2887fb4d",
   "metadata": {},
   "source": [
    "<br>\n",
    "<br>\n",
    "\n",
    "[Back to ToC](#toc)\n",
    "\n",
    "## 3. Accounting for categories in the data <a id='descr.3'></a>\n",
    "\n",
    "\n",
    "Here the categories would be the passenger's gender, but depending on data-sets they could be a genotype (Wild-Type versus KO), sex, experimental condition, ...\n",
    "\n",
    "Of course, we could manually compute the means and plot an histogram for each category in our data-set, but pandas and seaborn offer much more efficient routines for this.\n"
   ]
  },
  {
   "cell_type": "markdown",
   "id": "d79c35eb",
   "metadata": {},
   "source": [
    "### 3.1 `groupby` <a id='descr.3.1'></a>\n",
    "\n",
    "Computing a summary statistics on a pandas DataFrame is done **using the `df.groupby(...)` method and applying some function** to the result of that grouping."
   ]
  },
  {
   "cell_type": "code",
   "execution_count": null,
   "id": "77f03eb9",
   "metadata": {},
   "outputs": [],
   "source": [
    "grouped = df.groupby(\"Sex\")  # Grouping by Sex.\n",
    "grouped[\"Age\"].median()      # Median age by gender."
   ]
  },
  {
   "cell_type": "markdown",
   "id": "26a7c0eb",
   "metadata": {},
   "source": [
    "So we get the median age per Sex. \n",
    "\n",
    "<br>\n",
    "\n",
    "Of course here there are only two categories, but this gets very interesting when there is a lot of categories.\n",
    "\n",
    "Remember our swiss census from 1880?\n"
   ]
  },
  {
   "cell_type": "code",
   "execution_count": null,
   "id": "d7d00ce6",
   "metadata": {
    "scrolled": true
   },
   "outputs": [],
   "source": [
    "df_census = pd.read_table(\"data/swiss_census_1880.csv\", sep=\",\")\n",
    "\n",
    "grouped = df_census.groupby(\"canton name\")\n",
    "grouped[\"Catholic\"].sum()                    # Number of catholics per canton in 1880."
   ]
  },
  {
   "cell_type": "markdown",
   "id": "c790e10c",
   "metadata": {},
   "source": [
    "<br>\n",
    "\n",
    "<div class=\"alert alert-block alert-success\">\n",
    " \n",
    "### Micro-Exercise:\n",
    "* Make a copy of the `df` data frame with `df.copy()`. Name it `dfc`, as shown here:\n",
    "```python\n",
    "dfc = df.copy()\n",
    "```\n",
    "\n",
    "* Add a new column named \"Age_category\" to `dfc`. Make use of the `age_category` function defined below\n",
    "  to classify passengers into their respective age classes.\n",
    "```python\n",
    "def age_category(x):\n",
    "    age_classes = {\"child\": 12, \"teenager\": 17, \"adult\": 64, \"senior\": 200}\n",
    "    for label, threshold in age_classes.items():\n",
    "        if x <= threshold:\n",
    "            return label\n",
    "```\n",
    "\n",
    "* Compute survival rates by gender, age category and passenger class.\n",
    "\n",
    "</div>"
   ]
  },
  {
   "cell_type": "code",
   "execution_count": null,
   "id": "93d0ba22",
   "metadata": {},
   "outputs": [],
   "source": [
    "dfc = df.copy()\n",
    "def age_category(x):\n",
    "    age_classes = {\"child\": 12, \"teenager\": 17, \"adult\": 64, \"senior\": 200}\n",
    "    for label, threshold in age_classes.items():\n",
    "        if x <= threshold:\n",
    "            return label\n"
   ]
  },
  {
   "cell_type": "code",
   "execution_count": null,
   "id": "a98e981c",
   "metadata": {},
   "outputs": [],
   "source": []
  },
  {
   "cell_type": "markdown",
   "id": "5603b74d",
   "metadata": {},
   "source": [
    "<br>\n",
    "\n",
    "[Back to ToC](#toc)\n",
    "\n",
    "### 3.2 `hue` and `catplot` <a id='descr.3.2'></a>\n",
    "\n",
    "Computing these summary statistics is all good, but you can also visualize them using the **`seaborn`** argument **`hue`**:\n",
    "\n"
   ]
  },
  {
   "cell_type": "code",
   "execution_count": null,
   "id": "997589b0",
   "metadata": {},
   "outputs": [],
   "source": [
    "sns.displot(x='Age', hue='Sex', data=df, kind='kde', height=7)"
   ]
  },
  {
   "cell_type": "markdown",
   "id": "3d5c3551",
   "metadata": {},
   "source": [
    "<br>\n",
    "\n",
    "**`hue`** is quite ubiquitous in seaborn functions, and lets you determine a categorical column by which you want to split your representation.\n",
    "\n",
    "Note how we switched our syntax too: we now use column names, with a `data=` argument specifying from which `DataFrame` the data comes.\n",
    "\n",
    "<br>\n",
    "\n",
    "The default seaborn scheme is fairly nice, but maybe you want to change it :\n"
   ]
  },
  {
   "cell_type": "code",
   "execution_count": null,
   "id": "33aaad48",
   "metadata": {},
   "outputs": [],
   "source": [
    "f, axes = plt.subplots(2, 2, figsize=(14, 7))\n",
    "\n",
    "# Default\n",
    "sns.kdeplot(x='Age', hue='Sex', linewidth=3, data=df , ax=axes[0][0])\n",
    "\n",
    "# Using an existing seaborn palette\n",
    "sns.set_palette(sns.color_palette('Set2'))\n",
    "sns.kdeplot( x='Age' , hue = 'Sex' , data=df , linewidth=3, ax=axes[0][1])\n",
    "\n",
    "\n",
    "# Setting manually, with hex values\n",
    "sns.kdeplot(x='Age', hue='Sex', data=df, linewidth=3, ax=axes[1][0] , \n",
    "           palette = ['#FFCC04','#1F8AB3'])\n",
    "\n",
    "\n",
    "# Setting semi manually, using the xkcd palette https://xkcd.com/color/rgb/\n",
    "sns.kdeplot(x='Age', hue='Sex', data=df , linewidth=3, ax= axes[1][1], \n",
    "           palette = ['xkcd:lavender', 'xkcd:dark mint'])\n",
    "\n",
    "plt.tight_layout()"
   ]
  },
  {
   "cell_type": "markdown",
   "id": "e20fa8f1",
   "metadata": {},
   "source": [
    "> *Note:* use `linewidth=` to get wider/narrower lines\n",
    "\n",
    "You can learn more on all the options there :\n",
    " * [matplotlib colors](https://matplotlib.org/stable/tutorials/colors/colors.html)\n",
    " * [seaborn colors](https://seaborn.pydata.org/tutorial/color_palettes.html)\n",
    " \n",
    "\n",
    "<br>\n",
    "\n",
    "Sometimes, the `displot` options don't really cut it, perhaps because you have many different categories, or maybe because you want to have more than one column to do the categorization.\n",
    "\n",
    "This is when **`sns.catplot()`**, another **figure-level** function with a lot a `kind`, saves the day!\n"
   ]
  },
  {
   "cell_type": "code",
   "execution_count": null,
   "id": "84c38576",
   "metadata": {},
   "outputs": [],
   "source": [
    "sns.catplot(\n",
    "    x=\"Fare\", y=\"Pclass\",\n",
    "    orient=\"horizontal\",\n",
    "    data=df,\n",
    "    aspect=2.0, height=7\n",
    ")"
   ]
  },
  {
   "cell_type": "markdown",
   "id": "078b8fbd",
   "metadata": {},
   "source": [
    "Like `sns.displot`, `sns.catplot` is a master function which is designed to create a full figure at once rather than be embedded in a larger figure. \n",
    "\n",
    "This is why its arguments are a bit different when it comes to setting the figure *height and width*, which is done using :\n",
    " * `height` : height of the figure (no trick there)\n",
    " * `aspect` : width/height ratio of the figure ( high aspect -> wider figure )"
   ]
  },
  {
   "cell_type": "markdown",
   "id": "c2e42806",
   "metadata": {},
   "source": [
    "The `kind` argument let's you control the overall look of the plot. I\n",
    "It can be:\n",
    "* 'strip' : this is the default, showing all data points. \n",
    "* **'box'** : the famous boxplot\n",
    "* **'violin'** : an alternative to the boxplot using density lines\n",
    "* **'bar'** : the (in)famous barplot\n",
    "* 'swarm' : similar to 'strip' but with another way of arranging the points\n",
    "* 'boxen' : some intermediary between a boxplot and a violin plot\n",
    "* 'point' : alternative to the barplot where only the top point is shown\n",
    "\n"
   ]
  },
  {
   "cell_type": "code",
   "execution_count": null,
   "id": "1671ed9e",
   "metadata": {},
   "outputs": [],
   "source": [
    "kinds = ['box', 'violin', 'bar', 'boxen', 'strip', 'point']  #,'swarm'] # swarm takes a long time to compute\n",
    "\n",
    "for i, k in enumerate(kinds):\n",
    "    sns.catplot(x=\"Fare\", y=\"Pclass\", orient=\"horizontal\", data=df, kind=k, aspect=5, height=2)\n"
   ]
  },
  {
   "cell_type": "markdown",
   "id": "18977e45",
   "metadata": {},
   "source": [
    "So here we can see:\n",
    " * **boxplot:** represent quartiles and a few other things.\n",
    " * **violinplot:** density line plot with an (optional) boxplot in the center.\n",
    " * **barplot:** just shows the mean + an error bar (by default 95% CI computed using bootstrapping).\n",
    " * **boxen:** the unholy child of a boxplot and a violinplot.\n",
    " * **strip:** the default, shows the points (super nice, except when you have a lot of points).\n",
    " * **point:** basically a barplot without bars and a line between categories.\n",
    "\n",
    "Given all this, one can reasonably ask the question : **which one is the *best* ?**\n",
    "\n",
    "While the answer is not clear about the best way to represent a distribution over one or multiple categories, we definitely have some [good answers regarding bad/misleading ways](https://stekhoven.shinyapps.io/barplotNonsense/) (hint, barplot does not shine).  \n",
    "\n",
    "\n"
   ]
  },
  {
   "cell_type": "markdown",
   "id": "cd7c3aa1",
   "metadata": {},
   "source": [
    "<br>\n",
    "\n",
    "Anyhow the `hue` argument can also be used here to great effect:"
   ]
  },
  {
   "cell_type": "code",
   "execution_count": null,
   "id": "076d3ee3",
   "metadata": {},
   "outputs": [],
   "source": [
    "sns.catplot(\n",
    "    x='Fare', y = 'Pclass',\n",
    "    hue='Sex',\n",
    "    orient='horizontal',\n",
    "    kind='box',\n",
    "    data=df,\n",
    "    aspect=2.0, height=4\n",
    ")\n",
    "# It is also very nice with kind=\"point\"."
   ]
  },
  {
   "cell_type": "markdown",
   "id": "ac29bf21",
   "metadata": {},
   "source": [
    "<br>\n",
    "<br>\n",
    "\n",
    "<div class=\"alert alert-block alert-success\">\n",
    "\n",
    "## Exercise 2.2 - Representing categories\n",
    "\n",
    "Exercises are located in the dedicated notebook `exercises_course1.ipynb`.\n",
    "\n",
    "</div>\n",
    "\n"
   ]
  },
  {
   "cell_type": "markdown",
   "id": "adf87280",
   "metadata": {},
   "source": [
    "<br>\n",
    "<br>\n",
    "\n",
    "[Back to ToC](#toc)\n",
    "\n",
    "## 4. Representing the relationship between 2 numerical variables <a id=\"plot2\" ></a>\n",
    "\n",
    "\n",
    "**`sns.scatterplot()`** lets us represent the relationship between two numerical variables."
   ]
  },
  {
   "cell_type": "code",
   "execution_count": null,
   "id": "3293a682",
   "metadata": {},
   "outputs": [],
   "source": [
    "df = pd.read_table(\"data/titanic.csv\", sep=\",\")  # Just in case we need to re-read the data."
   ]
  },
  {
   "cell_type": "code",
   "execution_count": null,
   "id": "bdb531f1",
   "metadata": {},
   "outputs": [],
   "source": [
    "# Reset the seaborn default theme.\n",
    "sns.reset_orig()"
   ]
  },
  {
   "cell_type": "code",
   "execution_count": null,
   "id": "78d4d379",
   "metadata": {},
   "outputs": [],
   "source": [
    "fig = plt.figure(figsize=(14,6))\n",
    "ax = sns.scatterplot(x='Fare', y='Age', data=df)\n",
    "plt.show()"
   ]
  },
  {
   "cell_type": "markdown",
   "id": "e0586987",
   "metadata": {},
   "source": [
    "<br>\n",
    "\n",
    "OK, it is not so nice... let's set the x-axis to a log scale :"
   ]
  },
  {
   "cell_type": "code",
   "execution_count": null,
   "id": "175c7386",
   "metadata": {},
   "outputs": [],
   "source": [
    "fig = plt.figure(figsize=(14, 6))\n",
    "ax = sns.scatterplot(x=\"Fare\", y=\"Age\", data=df)\n",
    "ax.set(xscale=\"log\")      # Setting axis to log scale.\n",
    "ax.set_xlim((3, 1000))    # Manually setting the limit of the x axis.\n",
    "plt.show()"
   ]
  },
  {
   "cell_type": "markdown",
   "id": "d63d6010",
   "metadata": {},
   "source": [
    "Of course, we can customize :"
   ]
  },
  {
   "cell_type": "code",
   "execution_count": null,
   "id": "ea293785",
   "metadata": {},
   "outputs": [],
   "source": [
    "fig = plt.figure(figsize=(15,10))\n",
    "ax = sns.scatterplot(\n",
    "    x=\"Fare\", y=\"Age\", \n",
    "    hue=\"Pclass\",\n",
    "    palette=[\"xkcd:tomato\", \"xkcd:teal\",\"xkcd:mustard\"],\n",
    "    style=\"Sex\",\n",
    "    data=df,\n",
    "    s=100\n",
    ")\n",
    "ax.set(xscale=\"log\")    # Setting axis to log scale.\n",
    "ax.set_xlim((3, 1000))  # Manually setting the limit of the x axis.\n",
    "plt.show()"
   ]
  },
  {
   "cell_type": "markdown",
   "id": "2b43c660",
   "metadata": {},
   "source": [
    "> *Note:* `style=` associates the marker shape to a column."
   ]
  },
  {
   "cell_type": "code",
   "execution_count": null,
   "id": "4d4a3e23",
   "metadata": {},
   "outputs": [],
   "source": [
    "# An alternative with more colors and a single marker.\n",
    "# This was adapted from: https://stackoverflow.com/questions/62230507/multiple-columns-for-hue-parameter-in-seaborn-violinplot\n",
    "\n",
    "fig = plt.figure(figsize=(15, 10))\n",
    "\n",
    "# We combine the 2 columns to later apply them as categories.\n",
    "CAT = df[[\"Pclass\", \"Sex\"]].apply(tuple, axis=1)\n",
    "\n",
    "ax = sns.scatterplot(\n",
    "    x=\"Fare\", y=\"Age\", \n",
    "    hue=CAT,\n",
    "    hue_order=sorted( CAT.unique() ), ## handle the order categories in legend\n",
    "    palette=sns.color_palette(\"Paired\")[:6] , ## here the paired palette is great\n",
    "    data=df, s=100\n",
    ")\n",
    "ax.set(xscale=\"log\")     # Setting axis to log scale.\n",
    "ax.set_xlim((3, 1000))   # Manually setting the limit of the x axis.\n",
    "plt.show()"
   ]
  },
  {
   "cell_type": "markdown",
   "id": "1ddddd0b",
   "metadata": {},
   "source": [
    "Finally, a little data exploration trick : **`sns.pairplot()`**"
   ]
  },
  {
   "cell_type": "code",
   "execution_count": 73,
   "id": "1bfbbbea",
   "metadata": {},
   "outputs": [
    {
     "data": {
      "text/plain": [
       "<seaborn.axisgrid.PairGrid at 0x7ff5b78fd990>"
      ]
     },
     "execution_count": 73,
     "metadata": {},
     "output_type": "execute_result"
    }
   ],
   "source": [
    "sns.pairplot(df_census.iloc[:, 3:10])"
   ]
  },
  {
   "cell_type": "markdown",
   "id": "94420fc5",
   "metadata": {},
   "source": [
    "<br>\n",
    "<br>\n",
    "<br>\n",
    "\n",
    "[Back to ToC](#toc)\n",
    "\n",
    "\n",
    "# 5. Writing plots to disk <a id='writing'></a>\n",
    "------------------------------------\n"
   ]
  },
  {
   "cell_type": "markdown",
   "id": "0b6bab9f",
   "metadata": {},
   "source": [
    "<br>\n",
    "\n",
    "To save figures to disk, we rely on the **`savefig()`** method:\n",
    "* Different output formats can be specified by changing the output file name extension, \n",
    "  e.g. `.pdf`, `.svg`, `.jpg`, ...\n",
    "* For raster formats, the `dpi` argument can be used to define the image quality.\n",
    "* See `help(plt.savefig)` or [here](https://matplotlib.org/stable/api/_as_gen/matplotlib.pyplot.savefig.html?highlight=savefig#matplotlib.pyplot.savefig) for more info."
   ]
  },
  {
   "cell_type": "code",
   "execution_count": 74,
   "id": "b4cb4792",
   "metadata": {},
   "outputs": [],
   "source": [
    "k = \"box\"\n",
    "\n",
    "# Make you plot as usual, redirecting it to a variable (my_plot).\n",
    "represented_variable, category = \"Total\", \"majority language\"\n",
    "my_plot = sns.catplot(\n",
    "    x=represented_variable,\n",
    "    y=category,\n",
    "    data=dfFractions,\n",
    "    kind=k, orient=\"h\",\n",
    "    height=10, aspect=2\n",
    ")\n",
    "\n",
    "# Save plot to disk, using the savefig() method:\n",
    "my_plot.savefig(\"output.png\")"
   ]
  },
  {
   "cell_type": "code",
   "execution_count": 75,
   "id": "47283188",
   "metadata": {
    "scrolled": true
   },
   "outputs": [
    {
     "name": "stdout",
     "output_type": "stream",
     "text": [
      "Help on function savefig in module matplotlib.pyplot:\n",
      "\n",
      "savefig(*args, **kwargs)\n",
      "    Save the current figure.\n",
      "    \n",
      "    Call signature::\n",
      "    \n",
      "      savefig(fname, *, dpi='figure', format=None, metadata=None,\n",
      "              bbox_inches=None, pad_inches=0.1,\n",
      "              facecolor='auto', edgecolor='auto',\n",
      "              backend=None, **kwargs\n",
      "             )\n",
      "    \n",
      "    The available output formats depend on the backend being used.\n",
      "    \n",
      "    Parameters\n",
      "    ----------\n",
      "    fname : str or path-like or binary file-like\n",
      "        A path, or a Python file-like object, or\n",
      "        possibly some backend-dependent object such as\n",
      "        `matplotlib.backends.backend_pdf.PdfPages`.\n",
      "    \n",
      "        If *format* is set, it determines the output format, and the file\n",
      "        is saved as *fname*.  Note that *fname* is used verbatim, and there\n",
      "        is no attempt to make the extension, if any, of *fname* match\n",
      "        *format*, and no extension is appended.\n",
      "    \n",
      "        If *format* is not set, then the format is inferred from the\n",
      "        extension of *fname*, if there is one.  If *format* is not\n",
      "        set and *fname* has no extension, then the file is saved with\n",
      "        :rc:`savefig.format` and the appropriate extension is appended to\n",
      "        *fname*.\n",
      "    \n",
      "    Other Parameters\n",
      "    ----------------\n",
      "    dpi : float or 'figure', default: :rc:`savefig.dpi`\n",
      "        The resolution in dots per inch.  If 'figure', use the figure's\n",
      "        dpi value.\n",
      "    \n",
      "    format : str\n",
      "        The file format, e.g. 'png', 'pdf', 'svg', ... The behavior when\n",
      "        this is unset is documented under *fname*.\n",
      "    \n",
      "    metadata : dict, optional\n",
      "        Key/value pairs to store in the image metadata. The supported keys\n",
      "        and defaults depend on the image format and backend:\n",
      "    \n",
      "        - 'png' with Agg backend: See the parameter ``metadata`` of\n",
      "          `~.FigureCanvasAgg.print_png`.\n",
      "        - 'pdf' with pdf backend: See the parameter ``metadata`` of\n",
      "          `~.backend_pdf.PdfPages`.\n",
      "        - 'svg' with svg backend: See the parameter ``metadata`` of\n",
      "          `~.FigureCanvasSVG.print_svg`.\n",
      "        - 'eps' and 'ps' with PS backend: Only 'Creator' is supported.\n",
      "    \n",
      "    bbox_inches : str or `.Bbox`, default: :rc:`savefig.bbox`\n",
      "        Bounding box in inches: only the given portion of the figure is\n",
      "        saved.  If 'tight', try to figure out the tight bbox of the figure.\n",
      "    \n",
      "    pad_inches : float, default: :rc:`savefig.pad_inches`\n",
      "        Amount of padding around the figure when bbox_inches is 'tight'.\n",
      "    \n",
      "    facecolor : color or 'auto', default: :rc:`savefig.facecolor`\n",
      "        The facecolor of the figure.  If 'auto', use the current figure\n",
      "        facecolor.\n",
      "    \n",
      "    edgecolor : color or 'auto', default: :rc:`savefig.edgecolor`\n",
      "        The edgecolor of the figure.  If 'auto', use the current figure\n",
      "        edgecolor.\n",
      "    \n",
      "    backend : str, optional\n",
      "        Use a non-default backend to render the file, e.g. to render a\n",
      "        png file with the \"cairo\" backend rather than the default \"agg\",\n",
      "        or a pdf file with the \"pgf\" backend rather than the default\n",
      "        \"pdf\".  Note that the default backend is normally sufficient.  See\n",
      "        :ref:`the-builtin-backends` for a list of valid backends for each\n",
      "        file format.  Custom backends can be referenced as \"module://...\".\n",
      "    \n",
      "    orientation : {'landscape', 'portrait'}\n",
      "        Currently only supported by the postscript backend.\n",
      "    \n",
      "    papertype : str\n",
      "        One of 'letter', 'legal', 'executive', 'ledger', 'a0' through\n",
      "        'a10', 'b0' through 'b10'. Only supported for postscript\n",
      "        output.\n",
      "    \n",
      "    transparent : bool\n",
      "        If *True*, the Axes patches will all be transparent; the\n",
      "        Figure patch will also be transparent unless *facecolor*\n",
      "        and/or *edgecolor* are specified via kwargs.\n",
      "    \n",
      "        If *False* has no effect and the color of the Axes and\n",
      "        Figure patches are unchanged (unless the Figure patch\n",
      "        is specified via the *facecolor* and/or *edgecolor* keyword\n",
      "        arguments in which case those colors are used).\n",
      "    \n",
      "        The transparency of these patches will be restored to their\n",
      "        original values upon exit of this function.\n",
      "    \n",
      "        This is useful, for example, for displaying\n",
      "        a plot on top of a colored background on a web page.\n",
      "    \n",
      "    bbox_extra_artists : list of `~matplotlib.artist.Artist`, optional\n",
      "        A list of extra artists that will be considered when the\n",
      "        tight bbox is calculated.\n",
      "    \n",
      "    pil_kwargs : dict, optional\n",
      "        Additional keyword arguments that are passed to\n",
      "        `PIL.Image.Image.save` when saving the figure.\n",
      "\n"
     ]
    }
   ],
   "source": [
    "help(plt.savefig)"
   ]
  },
  {
   "cell_type": "code",
   "execution_count": 76,
   "id": "d3ad6c09",
   "metadata": {},
   "outputs": [],
   "source": [
    "# For multi-panel figures:\n",
    "f, axes = plt.subplots(2, 2, figsize=(7, 7))\n",
    "\n",
    "sns.histplot(dfFractions['0-14 y.o.'], kde=False, color=\"b\", ax=axes[0, 0]).set_title('automatic')\n",
    "sns.histplot(dfFractions['0-14 y.o.'], bins=5   , kde=False, color=\"b\", ax=axes[0, 1]).set_title('5 bins')\n",
    "sns.histplot(dfFractions['0-14 y.o.'], bins=10  , kde=False, color=\"b\", ax=axes[1, 0]).set_title('10 bins')\n",
    "sns.histplot(dfFractions['0-14 y.o.'], bins=1000 , kde=False, color=\"b\", ax=axes[1, 1]).set_title('1000 bins')\n",
    "plt.tight_layout()  # This makes the panels margins and setup more graceful.\n",
    "\n",
    "f.savefig('output_multipanel.pdf')"
   ]
  },
  {
   "cell_type": "markdown",
   "id": "41fe3b81",
   "metadata": {},
   "source": [
    "<br>\n",
    "<br>\n",
    "<br>\n",
    "\n",
    "[Back to toc](#toc)\n",
    "\n",
    "<div class=\"alert alert-block alert-success\">\n",
    "\n",
    "## Exercise 2.3 - Free form exercise\n",
    "\n",
    "Exercises are located in the dedicated notebook `exercises_course1.ipynb`.\n",
    "\n",
    "</div>\n"
   ]
  },
  {
   "cell_type": "markdown",
   "id": "14e23d13",
   "metadata": {},
   "source": [
    "<br>\n",
    "<br>\n",
    "<br>\n",
    "\n",
    "# Additional Material\n",
    "------------------------------\n",
    "\n",
    "## Annex 1 - seaborn themes + python graph gallery <a id=\"gallery\"></a>\n",
    "\n",
    "Seaborn and matplotlib offer nigh-endless possibilities when it comes to customizing graph elements.\n",
    "* A simple way to change the general feeling of a figure is to play with\n",
    "  [seaborn themes](https://seaborn.pydata.org/tutorial/aesthetics.html), or\n",
    "  [matplotlib styles](https://www.dunderdata.com/blog/view-all-available-matplotlib-styles).\n",
    "\n",
    "* In general, when composing a figure we often start from an existing examples.\n",
    "  Here are useful resources to do just that:\n",
    "  * [matplotlib gallery](https://matplotlib.org/stable/gallery/index.html)\n",
    "  * [seaborn gallery](https://seaborn.pydata.org/examples/index.html)\n",
    "  * [python-graph-gallery](https://www.python-graph-gallery.com/)"
   ]
  },
  {
   "cell_type": "code",
   "execution_count": null,
   "id": "fcdfbf1f",
   "metadata": {},
   "outputs": [],
   "source": []
  }
 ],
 "metadata": {
  "kernelspec": {
   "display_name": "Environment (conda_py311)",
   "language": "python",
   "name": "conda_py311"
  },
  "language_info": {
   "codemirror_mode": {
    "name": "ipython",
    "version": 3
   },
   "file_extension": ".py",
   "mimetype": "text/x-python",
   "name": "python",
   "nbconvert_exporter": "python",
   "pygments_lexer": "ipython3",
   "version": "3.11.3"
  }
 },
 "nbformat": 4,
 "nbformat_minor": 5
}
