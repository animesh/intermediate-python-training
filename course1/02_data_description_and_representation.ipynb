{
 "cells": [
  {
   "cell_type": "markdown",
   "metadata": {},
   "source": [
    "# Module 2 - describing and representing tabulated data \n",
    "-------------------------------------------------------------------------------------------------------\n",
    "\n",
    "## Table of Content <a id='toc'></a>\n",
    "\n",
    "\n",
    "\n",
    "1. [Basic description - common summary statistics](#descr1)\n",
    "\n",
    "2. [Basic representation - plotting one column](#plt1)\n",
    "\n",
    "[Interlude: multi-panel figures](#multi)\n",
    "\n",
    "[Exercise 1 - histograms](#ex1)\n",
    "\n",
    "\n",
    "3. [Accounting for categories in the data](#descr.3)\n",
    "\n",
    "     3.1 [`groupby`](#descr.3.1)\n",
    "\n",
    "     3.2 [`catplot`](#descr.3.2)\n",
    "\n",
    "[Exercice 2 - representing categories](#ex2)\n",
    "\n",
    "4. [Representing the relationship between 2 numerical variables](#plot2)\n",
    "\n",
    "5. [Writing plots to disk](#writing)\n",
    "\n",
    "6. [Free form exercise](#exo)\n",
    "\n",
    "[Annex - seaborn themes + python graph gallery](#gallery)\n"
   ]
  },
  {
   "cell_type": "markdown",
   "metadata": {},
   "source": [
    "Before we begin this chapter in earnest, let's import some libraries and read the data:"
   ]
  },
  {
   "cell_type": "code",
   "execution_count": null,
   "metadata": {},
   "outputs": [],
   "source": [
    "import pandas as pd\n",
    "import matplotlib.pyplot as plt\n",
    "import seaborn as sns\n",
    "import numpy as np \n",
    "\n",
    "### This is some configuration to make the plots work better when presenting online\n",
    "%matplotlib inline\n",
    "\n",
    "import matplotlib.pylab as pylab\n",
    "pylab.rcParams['figure.figsize'] = 10, 10\n",
    "plt.rc(\"font\", size=20)\n",
    "###\n",
    "\n",
    "df = pd.read_table(\"data/titanic.csv\",sep=',') \n",
    "df.head()"
   ]
  },
  {
   "cell_type": "markdown",
   "metadata": {},
   "source": [
    "<br>\n",
    "<br>\n",
    "<br>\n",
    "\n",
    "[back to ToC](#toc)\n",
    "\n",
    "\n",
    "## 1. Basic description - common summary statistics <a id='descr1'></a>\n",
    "-----------------------------------------------------------------------------------------\n",
    "\n",
    "When doing exploratory analysis of a dataset, it is often useful get some basic statistics on a per-column basis (since rows will typically represent the samples and columns the explanatory variables).\n",
    "\n",
    "Pandas has a number of methods that can be applied both on an entire DataFrame or on individual columns (Series):\n",
    "* **`describe()`**: print summary statistics for all **numeric columns** (count, mean, min, max, std, quantiles).\n",
    "* **`count()`**: returns the count of values (in each column, if applied to a DataFrame), that are not NaN\n",
    "  (i.e. missing values - Not a Number).\n",
    "* **`value_counts()`**: returns the count of each value. Useful for discrete variables (e.g. factors).\n",
    "* `min()`, `max()`, `mean()`, `std()`, `quantile()`, `sum()`: returns the min, max, mean, etc.\n",
    "\n",
    "When applied to a DataFrame, these method compute values for all columns, skipping columns for which they cannot be applied (e.g. standard deviation can only be computed for numeric columns).\n",
    "\n",
    "> Note: by default, all these statistics are computed by columns (e.g. max value of all rows in a given column), but they can also be computed by row by adding the `axis=1` argument. E.g. `df.max(axis=1)` returns the max value among columns for each row.\n",
    "\n",
    "<br>\n",
    "\n",
    "**Example:** count the number of people that embarked at different ports.\n",
    "> *Note:* `Embarked` - Port of Embarkation (C = Cherbourg; Q = Queenstown; S = Southampton)"
   ]
  },
  {
   "cell_type": "code",
   "execution_count": null,
   "metadata": {},
   "outputs": [],
   "source": [
    "df.Embarked.value_counts()"
   ]
  },
  {
   "cell_type": "markdown",
   "metadata": {},
   "source": [
    "<br>\n",
    "\n",
    "**Example:** compute the mean, median, min and max fare."
   ]
  },
  {
   "cell_type": "code",
   "execution_count": null,
   "metadata": {},
   "outputs": [],
   "source": [
    "print('mean Fare',df.Fare.mean())\n",
    "print('median Fare',df.Fare.median())\n",
    "print('min Fare',df.Fare.min())\n",
    "print('max Fare',df.Fare.max())"
   ]
  },
  {
   "cell_type": "markdown",
   "metadata": {},
   "source": [
    "<br>\n",
    "\n",
    "Of course we can combine this with selections:\n",
    "> **Pro-tip:** note the use of **`~`** to reverse the mask!"
   ]
  },
  {
   "cell_type": "code",
   "execution_count": null,
   "metadata": {},
   "outputs": [],
   "source": [
    "mask_male = df.Sex == \"male\"\n",
    "print(\"median fare of male passengers  :\", df.Fare[mask_male].median())\n",
    "print(\"median fare of female passengers:\", df.Fare[~mask_male].median())"
   ]
  },
  {
   "cell_type": "markdown",
   "metadata": {},
   "source": [
    "<br>\n",
    "\n",
    "These methods can be used on **whole DataFrames**: by default they apply to each column."
   ]
  },
  {
   "cell_type": "code",
   "execution_count": null,
   "metadata": {},
   "outputs": [],
   "source": [
    "df.mean()\n",
    "# Note: one could use df.mean(axis=1) to compute a mean per row, but it would here be non-sensical"
   ]
  },
  {
   "cell_type": "markdown",
   "metadata": {},
   "source": [
    "We get a `FutureWarning`, letting us know that in the future automatic dropping of non-numerical columns will raise an error. We can correct by explicitly selecting columns:"
   ]
  },
  {
   "cell_type": "code",
   "execution_count": null,
   "metadata": {},
   "outputs": [],
   "source": [
    "df[[\"Age\",\"Pclass\",\"Family\",\"Fare\"]].mean()"
   ]
  },
  {
   "cell_type": "markdown",
   "metadata": {},
   "source": [
    "<br>\n",
    "\n",
    "<div class=\"alert alert-block alert-success\">\n",
    "\n",
    "### Micro-Exercise 6\n",
    "* Compute the mean fare for each passenger class (`Pclass`).\n",
    "\n",
    "</div>"
   ]
  },
  {
   "cell_type": "code",
   "execution_count": null,
   "metadata": {},
   "outputs": [],
   "source": []
  },
  {
   "cell_type": "markdown",
   "metadata": {},
   "source": [
    "<br>\n",
    "\n",
    "Another useful method is **`pd.crosstab()`** to create contigency tables. Such tables allow e.g. to look at the relationship between categorical variables:"
   ]
  },
  {
   "cell_type": "code",
   "execution_count": null,
   "metadata": {},
   "outputs": [],
   "source": [
    "pd.crosstab(df.Pclass , df.Survived)"
   ]
  },
  {
   "cell_type": "markdown",
   "metadata": {},
   "source": [
    "<br>\n",
    "\n",
    "<div class=\"alert alert-block alert-success\">\n",
    "\n",
    "### Micro-Exercise 7\n",
    "* Using the dataset of single cell data `data/pbmc_data.countMatrix.50.txt.zip`:\n",
    "  1. Compute the sum for each column.\n",
    "  2. Normalize each column by dividing its values by the column-wise sum.\n",
    "  \n",
    "</div>"
   ]
  },
  {
   "cell_type": "code",
   "execution_count": null,
   "metadata": {},
   "outputs": [],
   "source": [
    "df_sc = pd.read_table('data/pbmc_data.countMatrix.50.txt.zip', sep=\" \", index_col=0)"
   ]
  },
  {
   "cell_type": "code",
   "execution_count": null,
   "metadata": {},
   "outputs": [],
   "source": []
  },
  {
   "cell_type": "markdown",
   "metadata": {},
   "source": [
    "\n",
    "<br>\n",
    "\n",
    "A very useful method of DataFrame to get an **overview of a dataset** is **`df.describe()`**:"
   ]
  },
  {
   "cell_type": "code",
   "execution_count": null,
   "metadata": {},
   "outputs": [],
   "source": [
    "df.describe()"
   ]
  },
  {
   "cell_type": "markdown",
   "metadata": {},
   "source": [
    "The `df.describe()` function gives information about all numerical columns in the dataset at once (note that non-numerical values are absent here).\n",
    "\n",
    "It is very useful not only to get a first impression on the dataset, but also to catch eventual errors in the data: a negative number where there should be only positive values, missing values (NAs), ...\n",
    "\n",
    "\n",
    "<br>\n",
    "\n",
    "**BUT** the most eagle-eyed among you will have spotted a problem here... what is it? how to solve it ?\n",
    "\n"
   ]
  },
  {
   "cell_type": "code",
   "execution_count": null,
   "metadata": {},
   "outputs": [],
   "source": [
    "# %load solutions/solution_describe.py"
   ]
  },
  {
   "cell_type": "markdown",
   "metadata": {},
   "source": [
    "<br>\n",
    "\n",
    "Anyway, back to the matter at hand.\n",
    "\n",
    "**`.describe()`** gives access to some of the most commonly used summary statistics:\n",
    "* (arithmetic) **mean** : ${\\displaystyle \\bar{x}={\\frac {1}{n}}\\sum _{i=1}^{n}x_{i}}$  or, for coders : `sum(x)/len(x)`\n",
    "* **standard deviation** (a.k.a. std, stdev) : this corresponds to the average of the absolute difference to the mean. It is the **square root of the variance**.\n",
    "* **minimum** and **maximum**: smallest and biggest value among the data. Looking at them can help detect outliers.\n",
    "* **quartiles** : they correspond to the value such that\n",
    "    * 25% (first quartile, Q1), \n",
    "    * 50% (second quartile, Q2, median), or\n",
    "    * 75% (second quartile, Q3)\n",
    "    \n",
    "      of the values are lower than them. They are less sensitive than the mean to outlier values.\n"
   ]
  },
  {
   "cell_type": "markdown",
   "metadata": {},
   "source": [
    "<br>\n",
    "<br>\n",
    "<br>\n",
    "\n",
    "[back to ToC](#toc)\n",
    "\n",
    "## 2. Basic representation - plotting one column <a id='plt1'></a>\n",
    "-----------------------------------------------------------\n",
    "\n",
    "\n",
    "It is all nice to be able to display numerical summary numbers, but often data is best explored visually! To this end, there are a number of plotting libraries in python. Here we will mostly be using **matplotlib** and **seaborn**, which are two very popular plotting libraries in python.\n",
    "\n",
    "* **matplotlib** can be seen as a base library, which defines a lot of low-level plotting functions.\n",
    "* **seaborn** is built on top of matplotlib, and provides more high-level functions. It's designed to\n",
    "  interface very well with DataFrames.\n",
    "\n",
    "We will not delve in all the details of these two libraries, but will instead try to convey elements about their general philosophies and look at their most common functions/arguments. This should give you a head start to get the most out of their very well done tutorial and galleries:\n",
    " * [matplotlib](https://matplotlib.org/) - [tutorial](https://matplotlib.org/stable/tutorials/introductory/pyplot.html#sphx-glr-tutorials-introductory-pyplot-py) - [gallery](https://matplotlib.org/stable/gallery/index.html)\n",
    " * [seaborn](https://seaborn.pydata.org/) - [tutorial](https://seaborn.pydata.org/tutorial.html) - [gallery](https://seaborn.pydata.org/examples/index.html)\n",
    "\n",
    "<br>\n",
    "\n",
    "> Note: `pandas` also proposes plotting functions, which are basically also using `matplotlib`. \n",
    "\n",
    "<br>\n",
    "\n",
    "\n",
    "\n",
    "The simplest way to represent the distribution of a set of values using **seaborn** is to use its **`sns.displot()`** function:\n",
    "\n",
    "> \"displot\" is shorthand for distribution plot."
   ]
  },
  {
   "cell_type": "code",
   "execution_count": null,
   "metadata": {},
   "outputs": [],
   "source": [
    "import seaborn as sns\n",
    "\n",
    "sns.displot(df.Fare)"
   ]
  },
  {
   "cell_type": "markdown",
   "metadata": {},
   "source": [
    "Ok, that is nice, but tiny... Le'ts make it larger:"
   ]
  },
  {
   "cell_type": "code",
   "execution_count": null,
   "metadata": {},
   "outputs": [],
   "source": [
    "sns.displot(df.Fare , height = 7)"
   ]
  },
  {
   "cell_type": "markdown",
   "metadata": {},
   "source": [
    "Above, you should now see a histogram (in blue):\n",
    "* The *x-axis* corresponds to the fare paid by each passenger.\n",
    "* The *y-axis* corresponds to the **count**: the number of values falling in a given *bin*\n",
    "  (i.e. a bar of the histogram).\n",
    "\n",
    "By using the **`kind`** argument, one can change the type of plot:\n",
    "* `kind=\"hist\"`: histogram (this is the default).\n",
    "* `kind=\"kde\"`: density line (kernel density estimation).\n",
    "* `kind=\"ecdf\"`: cumulative distribution function.\n",
    "\n",
    "<br>\n",
    "\n",
    "**Example:**"
   ]
  },
  {
   "cell_type": "code",
   "execution_count": null,
   "metadata": {},
   "outputs": [],
   "source": [
    "# Note: kde stands for 'kernel density estimation', which is the method used to compute the density line.\n",
    "sns.displot(df.Fare, kind=\"kde\" , height = 7)"
   ]
  },
  {
   "cell_type": "markdown",
   "metadata": {},
   "source": [
    "> Note that the y-axis is now in **density** units."
   ]
  },
  {
   "cell_type": "markdown",
   "metadata": {},
   "source": [
    "Naturally, `displot()` has many options allowing to combine plot types and pimp your plot.  \n",
    "For instance, using `kde=True` will superimpose a density line:"
   ]
  },
  {
   "cell_type": "code",
   "execution_count": null,
   "metadata": {},
   "outputs": [],
   "source": [
    "g = sns.displot(df.Age, kde=True, color=\"red\" , height=7)"
   ]
  },
  {
   "cell_type": "markdown",
   "metadata": {},
   "source": [
    "> *Note:* having both the histogram and the density line switches the y-axis from density to count,\n",
    "  which is sometimes more interpretable."
   ]
  },
  {
   "cell_type": "markdown",
   "metadata": {},
   "source": [
    "\n",
    "`sns.displot()` is what we could call a **figure-level** function:\n",
    " * It has several *kind* of representation.\n",
    " * It does not play nice in **multi-panel** figures.\n",
    "\n",
    "\n",
    "[back to toc](#toc)\n",
    "\n",
    "<br>\n",
    "\n",
    "### Interlude: multi-panel figures <a id='multi'></a>\n",
    "\n",
    "We create Multi-panel figures using `matplotlib` command and concepts. \n",
    "To make it simple, we call `fig, axes = plt.subplots( nb_rows , nb_cols )`, which creates:\n",
    " * `fig`, a `figure` object which controls the whole multipanel figure\n",
    " * `axes` : a list containing individual `axe` objects though which we can plot on individual panels of the figure\n"
   ]
  },
  {
   "cell_type": "code",
   "execution_count": null,
   "metadata": {},
   "outputs": [],
   "source": [
    "\n",
    "# Create a list of 100 evenly spaced points between 0 and 10.\n",
    "x = np.linspace(0, 10, 100) \n",
    "\n",
    "# Create a figure with multiple panels: 1 row, 2 columns\n",
    "fig, axes = plt.subplots( 1, 2 , figsize=(10,8))\n",
    "\n",
    "print( axes ) # axes is a list of two axes objects\n",
    "\n",
    "## plotting on the first axe == left panel\n",
    "axes[0].plot(x, np.sin(x), label='sin')\n",
    "axes[0].set_title(\"sine plot\")\n",
    "axes[0].set_xlabel(\"value\")\n",
    "axes[0].set_ylabel(\"sine/cosine value\")\n",
    "axes[0].legend()\n",
    "\n",
    "## plotting on the second axe == right panel\n",
    "axes[1].plot(x, np.cos(x), label='cos')\n",
    "axes[1].set_title(\"cosine plot\")\n",
    "axes[1].set_xlabel(\"value\")\n",
    "axes[1].set_ylabel(\"sine/cosine value\")\n",
    "\n",
    "plt.tight_layout() ## this creates a more harmonious organization of the different panels\n",
    "plt.show()"
   ]
  },
  {
   "cell_type": "markdown",
   "metadata": {},
   "source": [
    "<br>\n",
    "\n",
    "### back to data representation ...\n",
    "\n",
    "The different `kind` (histogram, kde, ecdf) of `sns.displot()` can all be called individually using their own functions : `histplot()`, `kdeplot()`, `ecdfplot()`. \n",
    "\n",
    "In contrast to `sns.displot()` which is **figure-level**, these more-specialized functions are **axe-level**: they play nicely in a multiple panel context.\n",
    "\n",
    "They interface with `matplotlib`'s axes using the `ax` argument.\n"
   ]
  },
  {
   "cell_type": "code",
   "execution_count": null,
   "metadata": {},
   "outputs": [],
   "source": [
    "# Creating multiple panels: 1 row, 2 columns\n",
    "fig, axes = plt.subplots(1, 2)\n",
    "\n",
    "# Plotting on the first axe == left panel\n",
    "sns.histplot(df.Age ,ax = axes[0])\n",
    "\n",
    "# Plotting on the second axe == right panel\n",
    "sns.kdeplot(df.Fare ,ax = axes[1])\n",
    "\n",
    "plt.tight_layout()   # This creates a more harmonious organization of the different panels\n",
    "plt.show()"
   ]
  },
  {
   "cell_type": "markdown",
   "metadata": {},
   "source": [
    "<br>\n",
    "\n",
    "In **histogram**, a different number of *bins* shows different aspects of the distribution of your data and so it is important to choose one that is appropriate to your sample size and data. \n",
    "\n",
    "By default, seaborn automatically infers the number of *bins*. \n",
    "You may stick with the original or change it:"
   ]
  },
  {
   "cell_type": "code",
   "execution_count": null,
   "metadata": {},
   "outputs": [],
   "source": [
    "# Let's play with a different dataset for this example.\n",
    "dfFractions = pd.read_table(\"data/census1880_fractions.csv\", sep=\",\")\n",
    "\n",
    "# Set up a figure with multiple panels, here a 2 by 2 grid.\n",
    "f, axes = plt.subplots( 2, 2, figsize=(14, 7) )\n",
    "\n",
    "# axes is now a list of list of axes, to represent the 2d nature of our panels:\n",
    "#  [ [<axe>,<axe>] ,\n",
    "#    [<ax>,<axe>]]\n",
    "\n",
    "\n",
    "# then you can specify where each plot goes on the figure with the ax argument of the ([0,0] is the top left corner)\n",
    "\n",
    "# Plot a simple histogram with binsize determined automatically\n",
    "sns.histplot(dfFractions['0-14 y.o.'], kde=False, color=\"b\",\n",
    "             ax=axes[0, 0]).set_title('automatic')\n",
    "\n",
    "# Plot a simple histogram with binsize 5, 10 , 1000\n",
    "sns.histplot(dfFractions['0-14 y.o.'], bins=5   , kde=False, color=\"b\", ax=axes[0, 1]).set_title('5 bins')\n",
    "sns.histplot(dfFractions['0-14 y.o.'], bins=10  , kde=False, color=\"b\", ax=axes[1, 0]).set_title('10 bins')\n",
    "sns.histplot(dfFractions['0-14 y.o.'], bins=1000 , kde=False, color=\"b\", ax=axes[1, 1]).set_title('1000 bins')\n",
    "\n",
    "plt.tight_layout()# this makes the panels margins and setup more graceful"
   ]
  },
  {
   "cell_type": "markdown",
   "metadata": {},
   "source": [
    "\n",
    "So, to recap, we use `sns.histplot` instead of `sns.displot` : \n",
    " * `histplot` : gives a lower-level kind of plot which is easier to manipulate in multiple figure.\n",
    " * `displot` : high-level function, with a lot of capabilities, but does not play nice if not the top figure.\n",
    "     "
   ]
  },
  {
   "cell_type": "markdown",
   "metadata": {},
   "source": [
    "\n",
    "<br>\n",
    "\n",
    "We can combine graphical elements coming from `matplotlib` and `seaborn` quite seamlessly.\n",
    "\n",
    "Here is a more advanced example where I represent the the **mean**, the **median** and the **mode** of a distribution on top of an histogram.\n"
   ]
  },
  {
   "cell_type": "code",
   "execution_count": null,
   "metadata": {},
   "outputs": [],
   "source": [
    "\n",
    "\n",
    "# Define a small function that plots a distribution, along with its mean median and mode.\n",
    "def plotWithMeanMedianMode( dat , ax):\n",
    "    \"\"\" \n",
    "        Takes:\n",
    "         * dat: a pandas series\n",
    "         * ax : a matplotlib axe    \n",
    "    \"\"\"\n",
    "    mode=dat.mode()[0] #we only select the first mode\n",
    "    mean=dat.mean()\n",
    "    median=dat.median()\n",
    "\n",
    "    sns.histplot( dat , kde=True , ax=ax) # line for histogram and density line\n",
    "\n",
    "    ax.axvline(mean, color='r', linestyle='--' , label='Mean')\n",
    "    ax.axvline(median, color='g', linestyle='-' , label='Median')\n",
    "    ax.axvline(mode, color='b', linestyle='-' , label='Mode')\n",
    "    ax.legend()\n"
   ]
  },
  {
   "cell_type": "code",
   "execution_count": null,
   "metadata": {},
   "outputs": [],
   "source": [
    "f, axes = plt.subplots( 2, 1, figsize=(15, 10) )\n",
    "\n",
    "plotWithMeanMedianMode( df.Fare , ax=axes[0])\n",
    "plotWithMeanMedianMode( df.Age , ax=axes[1])\n",
    "plt.show()"
   ]
  },
  {
   "cell_type": "markdown",
   "metadata": {},
   "source": [
    "Of note here :\n",
    " * `axvline`: create a vertical line.\n",
    " * `label`: legend label associated with the element created by this function.\n",
    "   Common to a lot of matplotlib plotting functions.\n",
    " * `ax.legend()`: makes the legend appear.\n",
    " \n",
    "> You can specify where the legend goes with `loc=` one of `{'best', 'upper left', 'upper right', 'lower left', 'lower right', 'upper center', 'lower center', 'center left', 'center right', 'center'}` or a `(x,y)` tuple  (more options to manually specify elements in the `help()`)\n",
    "\n",
    "\n",
    "<br>\n",
    "<br>\n",
    "\n",
    "[back to ToC](#toc)\n",
    "\n",
    "### Exercise 1 - histograms <a id='ex1'></a>\n",
    "\n",
    "Using the Titanic dataset:\n",
    "\n",
    "1. Plot the `Age` distribution among first class passengers. Try to choose an appropriate mode of \n",
    "   representation (histogram? density line? number of bins?).\n",
    "2. Make a figure with 3 panels. In the panels, plot the histogram of the `Fare` among passengers in\n",
    "   the first, second, and third class, respectively.\n"
   ]
  },
  {
   "cell_type": "code",
   "execution_count": null,
   "metadata": {},
   "outputs": [],
   "source": []
  },
  {
   "cell_type": "markdown",
   "metadata": {},
   "source": [
    "Solutions:"
   ]
  },
  {
   "cell_type": "code",
   "execution_count": null,
   "metadata": {},
   "outputs": [],
   "source": [
    "# %load -r 1-6 solutions/solution_01_02.py\n",
    "# 1. Plot the Age distribution among first class passengers. Try to choose an appropriate mode of representation (histogram? density line? number of bins?)\n"
   ]
  },
  {
   "cell_type": "code",
   "execution_count": null,
   "metadata": {},
   "outputs": [],
   "source": [
    "# %load -r 7- solutions/solution_01_02.py\n",
    "#2. Make a figure with 3 panels. In the panels, plot the histogram of the `Fare` among passengers in\n",
    "#   the first, second, and third class, respectively."
   ]
  },
  {
   "cell_type": "markdown",
   "metadata": {},
   "source": [
    "<br>\n",
    "<br>\n",
    "\n",
    "[back to ToC](#toc)\n",
    "\n",
    "## 3. Accounting for categories in the data <a id='descr.3'></a>\n",
    "\n",
    "\n",
    "Here the categories would be the passenger class of sex, but depending on data-sets they could be a genotype (Wild-Type versus KO), sex, experimental condition, ...\n",
    "\n",
    "Of course, we could manually compute the means and plot an histogram for each category in our data-set, but pandas and seaborn offer much more efficient routines for this.\n"
   ]
  },
  {
   "cell_type": "markdown",
   "metadata": {},
   "source": [
    "### 3.1 `groupby` <a id='descr.3.1'></a>\n",
    "\n",
    "Computing a summary statistics on a pandas DataFrame is done **using the `df.groupby(...)` method and the applying some function** to the result of that grouping."
   ]
  },
  {
   "cell_type": "code",
   "execution_count": null,
   "metadata": {},
   "outputs": [],
   "source": [
    "grouped = df.groupby('Sex')     # grouping by Sex.\n",
    "grouped['Age'].median()         # median age."
   ]
  },
  {
   "cell_type": "markdown",
   "metadata": {},
   "source": [
    "So we get the median age per Sex. \n",
    "\n",
    "<br>\n",
    "\n",
    "Of course here there are only two categories, but this gets very interesting when there is a lot of categories.\n",
    "\n",
    "Remember our swiss census from 1880?\n"
   ]
  },
  {
   "cell_type": "code",
   "execution_count": null,
   "metadata": {
    "scrolled": true
   },
   "outputs": [],
   "source": [
    "df_census = pd.read_table(\"data/swiss_census_1880.csv\", sep=\",\")\n",
    "\n",
    "grouped = df_census.groupby(\"canton name\")\n",
    "grouped[\"Catholic\"].sum()                     # number of catholics per canton in 1880."
   ]
  },
  {
   "cell_type": "markdown",
   "metadata": {},
   "source": [
    "<br>\n",
    "\n",
    "<div class=\"alert alert-block alert-success\">\n",
    " \n",
    "### Micro-Exercise:\n",
    "* Make a copy of the `df` data frame with `df.copy()`. Name it `dfc`, as shown here:\n",
    "```python\n",
    "dfc = df.copy()\n",
    "```\n",
    "\n",
    "* Add a new column named \"Age_category\" to `dfc`. Make use of the `age_category` function defined below\n",
    "  to classify passengers into their respective age classes.\n",
    "```python\n",
    "def age_category(x):\n",
    "    age_classes = {\"child\": 12, \"teenager\": 17, \"adult\": 64, \"senior\": 200}\n",
    "    for label, threshold in age_classes.items():\n",
    "        if x <= threshold:\n",
    "            return label\n",
    "```\n",
    "\n",
    "* Compute survival rates by gender, age category and passenger class.\n",
    "\n",
    "</div>"
   ]
  },
  {
   "cell_type": "code",
   "execution_count": null,
   "metadata": {},
   "outputs": [],
   "source": [
    "dfc = df.copy()\n",
    "def age_category(x):\n",
    "    age_classes = {\"child\": 12, \"teenager\": 17, \"adult\": 64, \"senior\": 200}\n",
    "    for label, threshold in age_classes.items():\n",
    "        if x <= threshold:\n",
    "            return label\n"
   ]
  },
  {
   "cell_type": "code",
   "execution_count": null,
   "metadata": {},
   "outputs": [],
   "source": []
  },
  {
   "cell_type": "markdown",
   "metadata": {},
   "source": [
    "<br>\n",
    "\n",
    "[back to ToC](#toc)\n",
    "\n",
    "### 3.2 `hue` and `catplot` <a id='descr.3.2'></a>\n",
    "\n",
    "Computing these summary statistics is all good, but you can also vizualize them using `seaborn` argument `hue` : \n",
    "\n"
   ]
  },
  {
   "cell_type": "code",
   "execution_count": null,
   "metadata": {},
   "outputs": [],
   "source": [
    "sns.displot( x='Age', hue='Sex', data=df, kind='kde' , height=7)"
   ]
  },
  {
   "cell_type": "markdown",
   "metadata": {},
   "source": [
    "`hue` is quite ubiquitous in seaborn functions, and lets you determine a categorical column by which you want to split your representation.\n",
    "\n",
    "Note how we switched our syntax too: we now use column names, with a `data=` argument specifying from which `DataFrame` the data comes.\n",
    "\n",
    "<br>\n",
    "\n",
    "The default seaborn scheme is fairly nice, but maybe you want to change it :\n"
   ]
  },
  {
   "cell_type": "code",
   "execution_count": null,
   "metadata": {},
   "outputs": [],
   "source": [
    "f, axes = plt.subplots( 2, 2, figsize=(14, 7) )\n",
    "\n",
    "# default\n",
    "sns.kdeplot( x='Age' , hue = 'Sex' , linewidth=3, data=df , ax = axes[0][0])\n",
    "\n",
    "# using an existing seaborn palette\n",
    "sns.set_palette(sns.color_palette('Set2'))\n",
    "sns.kdeplot( x='Age' , hue = 'Sex' , data=df , linewidth=3, ax= axes[0][1])\n",
    "\n",
    "\n",
    "# setting manually, with hex values\n",
    "sns.kdeplot( x='Age' , hue = 'Sex' , data=df , linewidth=3, ax= axes[1][0] , \n",
    "           palette = ['#FFCC04','#1F8AB3'])\n",
    "\n",
    "\n",
    "# setting semi manually, using the xkcd palette https://xkcd.com/color/rgb/\n",
    "sns.kdeplot( x='Age' , hue = 'Sex' , data=df , linewidth=3, ax= axes[1][1] , \n",
    "           palette = [ 'xkcd:lavender' , 'xkcd:dark mint' ])\n",
    "\n",
    "plt.tight_layout()"
   ]
  },
  {
   "cell_type": "markdown",
   "metadata": {},
   "source": [
    "> *Note:* use `linewidth=` to get wider/narrower lines\n",
    "\n",
    "You can learn more on all the options there :\n",
    " * [matplotlib colors](https://matplotlib.org/stable/tutorials/colors/colors.html)\n",
    " * [seaborn colors](https://seaborn.pydata.org/tutorial/color_palettes.html)\n",
    " \n",
    "\n",
    "<br>\n",
    "\n",
    "Sometimes, the `displot` options don't really cut it, perhaps because you have many diffrent categories, or maybe because you want to have more than one column to do the categorization.\n",
    "\n",
    "This is when **`sns.catplot()`**, another **figure-level** function with a lot a `kind`, saves the day!\n"
   ]
  },
  {
   "cell_type": "code",
   "execution_count": null,
   "metadata": {},
   "outputs": [],
   "source": [
    "sns.catplot( x='Fare' , y = 'Pclass' ,\n",
    "            orient='horizontal' , \n",
    "            data=df , aspect = 2.0 , height = 7)"
   ]
  },
  {
   "cell_type": "markdown",
   "metadata": {},
   "source": [
    "Like `sns.displot`, `sns.catplot` is a master function which is designed to create a full figure at once rather than be embedded in a larger figure. \n",
    "\n",
    "This is why its arguments are a bit different when it comes to setting the figure *height and width*, which is done using :\n",
    " * `height` : height of the figure (no trick there)\n",
    " * `aspect` : width/height ratio of the figure ( high aspect -> wider figure )"
   ]
  },
  {
   "cell_type": "markdown",
   "metadata": {},
   "source": [
    "The `kind` argument let's you control the overall look of the plot. I\n",
    "It can be:\n",
    "* 'strip' : this is the default, showing all data points. \n",
    "* **'box'** : the famous boxplot\n",
    "* **'violin'** : an alternative to the boxplot using density lines\n",
    "* **'bar'** : the (in)famous barplot\n",
    "* 'swarm' : similar to 'strip' but with another way of aranging the points\n",
    "* 'boxen' : some intermediary between a boxplot and a violin plot\n",
    "* 'point' : alternative to the barplot where only the top point is shown\n",
    "\n"
   ]
  },
  {
   "cell_type": "code",
   "execution_count": null,
   "metadata": {},
   "outputs": [],
   "source": [
    "kinds = ['box','violin','bar','boxen','strip','point']  #,'swarm'] # swarm takes a long time to compute\n",
    "\n",
    "for i,k in enumerate(kinds):\n",
    "    sns.catplot( x='Fare', y='Pclass', orient='horizontal', data=df, kind=k, aspect=5 , height=2)\n"
   ]
  },
  {
   "cell_type": "markdown",
   "metadata": {},
   "source": [
    "So here we can see:\n",
    " * **boxplot:** represent quartiles and a few other things\n",
    " * **violinplot:** density line plot with an (optional) boxplot in the center \n",
    " * **barplot:** just shows the mean + an error bar (by default 95% CI computed using bootstrapping)\n",
    " * **boxen:** the unholy child of a boxplot and a violinplot\n",
    " * **strip:** the default, shows the points (super nice, except when you have a lot of points)\n",
    " * **point:** basically a barplot without bars and a line between categories\n",
    "\n",
    "Given all this, one can reasonnably ask the question : **which one is the *best* ?**\n",
    "\n",
    "While the answer is not clear about the best way to represent a distribution over one or multiple categories, we definitely have some [good answers regarding bad/misleading ways](https://stekhoven.shinyapps.io/barplotNonsense/) (hint, barplot does not shine).  \n",
    "\n",
    "\n"
   ]
  },
  {
   "cell_type": "markdown",
   "metadata": {},
   "source": [
    "<br>\n",
    "\n",
    "Anyhow the `hue` argument can also be used here to great effect:"
   ]
  },
  {
   "cell_type": "code",
   "execution_count": null,
   "metadata": {},
   "outputs": [],
   "source": [
    "sns.catplot( x='Fare' , \n",
    "            y = 'Pclass' , \n",
    "            hue='Sex' , \n",
    "            orient='horizontal' , \n",
    "            kind='box', data=df , aspect = 2.0 , height = 4)\n",
    "## it is also very nice with kind='point'"
   ]
  },
  {
   "cell_type": "markdown",
   "metadata": {},
   "source": [
    "<br>\n",
    "\n",
    "[Back to ToC](#toc)\n",
    "\n",
    "### Exercice 2 - representing categories <a id=\"ex2\"></a>\n",
    "\n",
    "Using the 1880 swiss census data:\n",
    "\n",
    "1. compute a new column \"fraction60+\" representing the fraction of 60+ years old people in each town.\n",
    "    **hint :** column `'60+ y.o.'` contains the number of 60+ years old ; column `'Total'` contains\n",
    "    the total number of inhabitant\n",
    "    \n",
    "2. Represent the proportion of people more 60 years old (`'60+ y.o.'`) across all cantons.\n",
    "   Choose the most appropriate kind of plot."
   ]
  },
  {
   "cell_type": "code",
   "execution_count": null,
   "metadata": {
    "scrolled": true
   },
   "outputs": [],
   "source": [
    "df_census = pd.read_table(\"data/swiss_census_1880.csv\", sep=\",\")\n",
    "df_census.head()"
   ]
  },
  {
   "cell_type": "code",
   "execution_count": null,
   "metadata": {},
   "outputs": [],
   "source": []
  },
  {
   "cell_type": "code",
   "execution_count": null,
   "metadata": {},
   "outputs": [],
   "source": [
    "# %load -r 1-5 solutions/solution_01_03.py\n",
    "# 1.  compute a new column \"fraction60+\" representing the fraction of 60+ years old people in each town."
   ]
  },
  {
   "cell_type": "code",
   "execution_count": null,
   "metadata": {},
   "outputs": [],
   "source": [
    "# %load -r 6- solutions/solution_01_03.py\n",
    "#2. Represent the proportion of people more 60 years old ('60+ y.o.') across all cantons. \n",
    "#   Choose the most appropriate kind of plot."
   ]
  },
  {
   "cell_type": "markdown",
   "metadata": {},
   "source": [
    "Of course possibilities are endless. Here is a fancy one, inspired by [this](https://seaborn.pydata.org/examples/kde_ridgeplot.html) and its [later correction](https://www.pythonfixing.com/2022/02/fixed-python-seaborn-ridge-plot.html)."
   ]
  },
  {
   "cell_type": "code",
   "execution_count": null,
   "metadata": {},
   "outputs": [],
   "source": [
    "# %load solutions/solution_01_03_fancy.py\n",
    "# fancy solution inspired by  https://seaborn.pydata.org/examples/kde_ridgeplot.html\n"
   ]
  },
  {
   "cell_type": "markdown",
   "metadata": {},
   "source": [
    "<br>\n",
    "<br>\n",
    "\n",
    "[back to ToC](#toc)\n",
    "\n",
    "## 4. Representing the relationship between 2 numerical variables <a id=\"plot2\" ></a>\n",
    "\n",
    "\n",
    "**`sns.scatterplot()`** lets us represent the relationship between two numerical variables."
   ]
  },
  {
   "cell_type": "code",
   "execution_count": null,
   "metadata": {},
   "outputs": [],
   "source": [
    "df = pd.read_table(\"data/titanic.csv\", sep=\",\") ## just in case we need to re-read  the data"
   ]
  },
  {
   "cell_type": "code",
   "execution_count": null,
   "metadata": {},
   "outputs": [],
   "source": [
    "#reset the seaborn default theme\n",
    "sns.reset_orig()"
   ]
  },
  {
   "cell_type": "code",
   "execution_count": null,
   "metadata": {},
   "outputs": [],
   "source": [
    "fig = plt.figure(figsize=(14,6))\n",
    "ax = sns.scatterplot(x='Fare', y='Age', data=df)"
   ]
  },
  {
   "cell_type": "markdown",
   "metadata": {},
   "source": [
    "OK, it is not so nice... let's set the x-axis to a log scale :"
   ]
  },
  {
   "cell_type": "code",
   "execution_count": null,
   "metadata": {},
   "outputs": [],
   "source": [
    "fig = plt.figure(figsize=(14,6))\n",
    "ax = sns.scatterplot( x = 'Fare' , y = 'Age' , data=df )\n",
    "ax.set(xscale=\"log\")      # setting axis to log scale.\n",
    "ax.set_xlim( (3,1000) )   # manually setting the limit of the x axis."
   ]
  },
  {
   "cell_type": "markdown",
   "metadata": {},
   "source": [
    "Of course, we can customize :"
   ]
  },
  {
   "cell_type": "code",
   "execution_count": null,
   "metadata": {},
   "outputs": [],
   "source": [
    "fig = plt.figure(figsize=(15,10))\n",
    "ax = sns.scatterplot( x = 'Fare' , y = 'Age' , \n",
    "                     hue='Pclass' , \n",
    "                     palette=['xkcd:tomato',\n",
    "                              'xkcd:teal','xkcd:mustard'],\n",
    "                     style='Sex', data=df , s=100 )\n",
    "ax.set(xscale=\"log\")      # setting axis to log scale.\n",
    "ax.set_xlim( (3,1000) )   # manually setting the limit of the x axis.\n"
   ]
  },
  {
   "cell_type": "markdown",
   "metadata": {},
   "source": [
    "> *Note:* `style=` associates the marker shape to a column."
   ]
  },
  {
   "cell_type": "code",
   "execution_count": null,
   "metadata": {},
   "outputs": [],
   "source": [
    "## an alternative with more colors and a single marker adapted from :\n",
    "#https://stackoverflow.com/questions/62230507/multiple-columns-for-hue-parameter-in-seaborn-violinplot\n",
    "\n",
    "fig = plt.figure(figsize=(15,10))\n",
    "\n",
    "## we combine the 2 columns to later apply them as categories\n",
    "CAT = df[ ['Pclass' , 'Sex' ] ].apply(tuple,axis=1)\n",
    "\n",
    "ax = sns.scatterplot( x = 'Fare' , y = 'Age' , \n",
    "                     hue=CAT,\n",
    "                     hue_order=sorted( CAT.unique() ), ## handle the order categories in legend\n",
    "                     palette = sns.color_palette(\"Paired\")[:6] , ## here the paired palette is great\n",
    "                     data=df , s=100 )\n",
    "ax.set(xscale=\"log\")      # setting axis to log scale.\n",
    "ax.set_xlim( (3,1000) )   # manually setting the limit of the x axis.\n"
   ]
  },
  {
   "cell_type": "markdown",
   "metadata": {},
   "source": [
    "Finally, a little data exploration trick : **`sns.pairplot()`**"
   ]
  },
  {
   "cell_type": "code",
   "execution_count": null,
   "metadata": {},
   "outputs": [],
   "source": [
    "sns.pairplot(df_census.iloc[:,3:10] )"
   ]
  },
  {
   "cell_type": "markdown",
   "metadata": {},
   "source": [
    "<br>\n",
    "<br>\n",
    "<br>\n",
    "\n",
    "[back to ToC](#toc)\n",
    "\n",
    "\n",
    "# 5. Writing plots to disk <a id='writing'></a>\n",
    "------------------------------------------------------------\n"
   ]
  },
  {
   "cell_type": "markdown",
   "metadata": {},
   "source": [
    "<br>\n",
    "\n",
    "To save figures to disk, we rely on the **`savefig()`** method:\n",
    "* Different output formats can be specified by changing the output file name extension, \n",
    "  e.g. `.pdf`, `.svg`, `.jpg`, ...\n",
    "* For raster formats, the `dpi` argument can be used to define the image quality.\n",
    "* See `help(plt.savefig)` or [here](https://matplotlib.org/stable/api/_as_gen/matplotlib.pyplot.savefig.html?highlight=savefig#matplotlib.pyplot.savefig) for more info."
   ]
  },
  {
   "cell_type": "code",
   "execution_count": null,
   "metadata": {},
   "outputs": [],
   "source": [
    "k = \"box\"\n",
    "\n",
    "# Make you plot as usual, redirecting it to a variable (my_plot)\n",
    "represented_variable, category = 'Total', 'majority language'\n",
    "my_plot = sns.catplot(\n",
    "    x=represented_variable,\n",
    "    y=category,\n",
    "    data=dfFractions,\n",
    "    kind=k, orient='h', height=10, aspect=2\n",
    ")\n",
    "\n",
    "# Save plot to disk, using the savefig() method:\n",
    "my_plot.savefig(\"output.png\")"
   ]
  },
  {
   "cell_type": "code",
   "execution_count": null,
   "metadata": {},
   "outputs": [],
   "source": [
    "help(plt.savefig)"
   ]
  },
  {
   "cell_type": "code",
   "execution_count": null,
   "metadata": {},
   "outputs": [],
   "source": [
    "# For multipanel figures:\n",
    "f, axes = plt.subplots(2, 2, figsize=(7, 7))\n",
    "\n",
    "sns.histplot(dfFractions['0-14 y.o.'], kde=False, color=\"b\", ax=axes[0, 0]).set_title('automatic')\n",
    "sns.histplot(dfFractions['0-14 y.o.'], bins=5   , kde=False, color=\"b\", ax=axes[0, 1]).set_title('5 bins')\n",
    "sns.histplot(dfFractions['0-14 y.o.'], bins=10  , kde=False, color=\"b\", ax=axes[1, 0]).set_title('10 bins')\n",
    "sns.histplot(dfFractions['0-14 y.o.'], bins=1000 , kde=False, color=\"b\", ax=axes[1, 1]).set_title('1000 bins')\n",
    "plt.tight_layout()# this makes the panels margins and setup more graceful\n",
    "\n",
    "f.savefig('output_multipanel.pdf')"
   ]
  },
  {
   "cell_type": "code",
   "execution_count": null,
   "metadata": {},
   "outputs": [],
   "source": []
  },
  {
   "cell_type": "markdown",
   "metadata": {},
   "source": [
    "<br>\n",
    "<br>\n",
    "<br>\n",
    "\n",
    "[back to toc](#toc)\n",
    "\n",
    "# 6. Free form exercise <a id='exo'></a>\n",
    "---------------------------------\n",
    "\n",
    "The goal of this exercise is to perform an exploration of some data related to heart disease.\n",
    "\n",
    "In particular, we want to explore the relationship between a `target` variable - whether patient has a heart disease or not - and several other variables such as cholesterol level, age, ...\n",
    "\n",
    "The data is present in the file `'data/heartData_simplified.csv'`, which is a cleaned and simplified version of the [UCI heart disease data set](https://archive.ics.uci.edu/ml/datasets/heart+Disease)\n",
    "\n",
    "\n",
    "### Description of the columns\n",
    "\n",
    "* age : Patient age in years\n",
    "* sex : Patient sex\n",
    "* chol : Cholesterol level in mg/dl. \n",
    "* thalach : Maxium heart rate during the stress test\n",
    "* oldpeak : Decrease of the ST segment during exercise according to the same one on rest.\n",
    "* ca : Number of main blood vessels coloured by the radioactive dye. The number varies between 0 to 3.\n",
    "* thal : Results of the blood flow observed via the radioactive dye.\n",
    "\t* defect -> fixed defect (no blood flow in some part of the heart)\n",
    "\t* normal -> normal blood flow\n",
    "\t* reversible -> reversible defect (a blood flow is observed but it is not normal)\n",
    "* target : Whether the patient has a heart disease or not\n",
    "\n",
    "### Instructions\n",
    "\n",
    "As stated earlier, your goal is to explore this data-set. \n",
    "One objective of this would be to diagnose eventual problems in this dataset (outliers, strange values) and prepare further statistical analysis and reporting.\n",
    "\n",
    "To this end you will want to formulate a number of hypothesis that would be interesting to pursue from this data (*e.g.*, is heart disease linked to  cholesterol levels), and gather evidence (plots, summary statistics) explaining why this hypothesis seems to be worth testing for.\n",
    "\n",
    "> Note : we do not ask you to perform the statistical testing itself. Do it if you feel like it.\n",
    "\n",
    "We will not provide a particular set of precise questions, but here are a few checkpoints to help you get stared :\n",
    "\n",
    "* Read the data as a pandas `DataFrame`\n",
    "* Compute summary statistics for the different variables \n",
    "* eventually, do the same for different subset of the data (for instance, grouping by sex)\n",
    "* use visualization to help you describe the relationship between the different variables\n",
    "* choose a few associations (2?4?) that seems promising and describe them\n"
   ]
  },
  {
   "cell_type": "markdown",
   "metadata": {},
   "source": [
    "## Annex - seaborn themes + python graph gallery <a id=\"gallery\"></a>\n",
    "\n",
    "Seaborn and matplotlib offer nigh-endless possibilities when it comes to costumizing graph elements.\n",
    "\n",
    "A simple way to change the general feeling of a figure is to play with [seaborn themes](https://seaborn.pydata.org/tutorial/aesthetics.html), or [matplotlib styles](https://www.dunderdata.com/blog/view-all-available-matplotlib-styles).\n",
    "\n",
    "In general, when composing a figure we often do not start from nothing, and work our ways from existing examples.\n",
    "Here are useful resources to do just that:\n",
    "- [matplotlib gallery](https://matplotlib.org/stable/gallery/index.html)\n",
    "- [seaborn gallery](https://seaborn.pydata.org/examples/index.html)\n",
    "- [python-graph-gallery](https://www.python-graph-gallery.com/)"
   ]
  },
  {
   "cell_type": "code",
   "execution_count": null,
   "metadata": {},
   "outputs": [],
   "source": []
  }
 ],
 "metadata": {
  "kernelspec": {
   "display_name": "Environment (conda_py38)",
   "language": "python",
   "name": "conda_py38"
  },
  "language_info": {
   "codemirror_mode": {
    "name": "ipython",
    "version": 3
   },
   "file_extension": ".py",
   "mimetype": "text/x-python",
   "name": "python",
   "nbconvert_exporter": "python",
   "pygments_lexer": "ipython3",
   "version": "3.8.8"
  }
 },
 "nbformat": 4,
 "nbformat_minor": 5
}
