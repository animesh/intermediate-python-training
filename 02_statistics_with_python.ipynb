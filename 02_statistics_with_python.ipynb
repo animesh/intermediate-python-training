{
 "cells": [
  {
   "cell_type": "markdown",
   "metadata": {},
   "source": [
    "# Module 2 - Statistics with python\n",
    "---------------------------------------------------\n",
    "\n",
    "This notebook aims to present how to perform classical statiscial procedure as well as some amount of regression using various python libraries, such as `scipy`.\n",
    "\n",
    "It **does not aim to replace a course on statistics**, but rather focuses on the code aspect."
   ]
  },
  {
   "cell_type": "code",
   "execution_count": 1,
   "metadata": {},
   "outputs": [
    {
     "name": "stdout",
     "output_type": "stream",
     "text": [
      "All libraries imported successfully!\n"
     ]
    }
   ],
   "source": [
    "import matplotlib.pyplot as plt\n",
    "from IPython.display import Image\n",
    "import seaborn as sns\n",
    "import scipy.stats as stats \n",
    "import pandas as pd\n",
    "import numpy as np\n",
    "print(\"All libraries imported successfully!\")"
   ]
  },
  {
   "cell_type": "code",
   "execution_count": 2,
   "metadata": {},
   "outputs": [],
   "source": [
    "import matplotlib as mpl\n",
    "font = {'family' : 'DejaVu Sans',\n",
    "        'weight' : 'bold',\n",
    "        'size'   : 16}\n",
    "\n",
    "mpl.rc('font', **font)"
   ]
  },
  {
   "cell_type": "markdown",
   "metadata": {},
   "source": [
    "<br>\n",
    "\n",
    "# Table of Content <a id='toc'></a>\n",
    "\n",
    "<br>\n",
    "\n",
    "1. [SciPy.stats and statistics in python](#stats)\n",
    "\n",
    "    1.1 [manipulation of random distributions](#stats.1)\n",
    "\n",
    "    1.1.1 [Drawing some random numbers : rvs](#stats.1.1)\n",
    "\n",
    "    1.1.2 [Looking up the quantiles and probability density functions](#stats.1.2)\n",
    "\n",
    "    1.2 [t-test](#stats.2)\n",
    "\n",
    "    1.3 [statistical power calculations](#stats.3)\n",
    "\n",
    "    1.4 [Multiple hypothesis testing](#stats.4)\n",
    "\n",
    "    1.5 [Fisher's exact test and the Chi-square test](#stats.5)\n",
    "\n",
    "    1.6 [1-way anova](#stats.6)\n",
    "\n",
    "\n",
    "2. [Correlation and linear regression](#reg)\n",
    "\n",
    "    2.1 [Correlation](#reg.1)\n",
    "\n",
    "    2.2 [Regression](#reg.2)\n",
    "\n",
    "[Free form exercise](#exo)"
   ]
  },
  {
   "cell_type": "markdown",
   "metadata": {},
   "source": [
    "<br>\n",
    "<br>\n",
    "\n",
    "# 1. `scipy.stats` and statistics in python <a id='stats'></a>\n",
    "-----------------------------------------------------------\n",
    "\n",
    "**[SciPy](https://scipy.org)** is a comprehensive project for scientific python programming, regrouping a [library](https://docs.scipy.org/doc/scipy/reference/) and implementing various tools and algorithm for scientific software.\n",
    "\n",
    "This section gives a primer on the **`scipy.stats`** library, which provides ways to interact with various random distribution functions, and implements numerous statistical tests.\n",
    "\n",
    "<br>\n",
    "\n",
    "\n",
    "## 1.1 manipulation of random distributions <a id='stats.1'></a>\n",
    "\n",
    "The **`scipy.stats`** module implements utilities for a large number of continuous and discrete distributions:"
   ]
  },
  {
   "cell_type": "code",
   "execution_count": 3,
   "metadata": {},
   "outputs": [
    {
     "name": "stdout",
     "output_type": "stream",
     "text": [
      "number of continuous distributions: 104\n",
      "number of discrete distributions:   19\n"
     ]
    }
   ],
   "source": [
    "from scipy import stats\n",
    "\n",
    "dist_continu = [d for d in dir(stats) if isinstance(getattr(stats, d), stats.rv_continuous)]\n",
    "dist_discrete = [d for d in dir(stats) if isinstance(getattr(stats, d), stats.rv_discrete)]\n",
    "print('number of continuous distributions: %d' % len(dist_continu))\n",
    "print('number of discrete distributions:   %d' % len(dist_discrete))\n"
   ]
  },
  {
   "cell_type": "markdown",
   "metadata": {},
   "source": [
    "let's experiment with the normal distribution, or `norm` in `scipy.stats`\n",
    "\n",
    "A look at `help(stats.norm)` tells us that:\n",
    "* The **`loc`** argument (location) specifies the **mean** of the distribution.\n",
    "* The **`scale`** argument specifies the **standard deviation** of the distribution.\n",
    "\n",
    "<br>\n",
    "\n",
    "**Example:** generate a specific normal distribution with a mean of 10 and a stdev of 2:"
   ]
  },
  {
   "cell_type": "code",
   "execution_count": 4,
   "metadata": {},
   "outputs": [
    {
     "name": "stdout",
     "output_type": "stream",
     "text": [
      "Type of N is: <class 'scipy.stats._distn_infrastructure.rv_frozen'>\n",
      "Mean and standard deviation: (array(10.), array(4.))\n"
     ]
    }
   ],
   "source": [
    "N = stats.norm(loc=10, scale=2)\n",
    "\n",
    "# The mean and variance of a distribution can be retrieved using the .stats method :\n",
    "print(\"Type of N is:\", type(N))\n",
    "print(\"Mean and standard deviation:\", N.stats())\n"
   ]
  },
  {
   "cell_type": "markdown",
   "metadata": {},
   "source": [
    "The scipy distribution object (`N` in our example) can then be used to interact with the distribution in many ways, as illustrated below.\n",
    "\n",
    "<br>\n",
    "\n",
    "### 1.1.1. Drawing random numbers: `rvs` <a id='stats.1.1'></a>\n",
    "\n",
    "The **`rvs()`** method allows to draw a random number of values from a distribution.\n",
    "* The `size` argument is 1 or several integers and defines the dimensions of the returned arrays of\n",
    "  random numbers."
   ]
  },
  {
   "cell_type": "code",
   "execution_count": 5,
   "metadata": {},
   "outputs": [
    {
     "data": {
      "text/plain": [
       "array([ 9.42820573,  8.77564601,  7.53792921,  9.36972609, 10.23263376,\n",
       "        6.69095386,  9.97134653, 11.80199524,  7.05570949,  7.7206921 ,\n",
       "       10.94571627,  8.2649163 ,  7.9475298 ,  9.51250588,  8.92203675,\n",
       "       13.85814145,  9.67710857,  9.91870663,  8.59379255, 10.59229596,\n",
       "       10.42213801, 12.31051958,  9.2151355 , 11.38908754, 10.40196913,\n",
       "        7.70500037,  7.00599876,  9.91480978,  8.15361168, 10.61808824,\n",
       "       10.55747422, 14.08154287,  9.70780581, 13.18596395, 10.63451277,\n",
       "       11.60105892,  6.74339516, 10.5622089 , 10.13444082,  6.62933188,\n",
       "       10.3754328 ,  9.15348392,  8.38721396,  9.73803915, 11.90030721,\n",
       "        9.89708646,  8.52595455, 10.55236126, 13.3182553 , 11.72734581])"
      ]
     },
     "execution_count": 5,
     "metadata": {},
     "output_type": "execute_result"
    }
   ],
   "source": [
    "N.rvs(size=[50]) "
   ]
  },
  {
   "cell_type": "code",
   "execution_count": 6,
   "metadata": {},
   "outputs": [
    {
     "data": {
      "text/plain": [
       "(array([  25.,  126.,  418.,  947., 1327., 1242.,  647.,  228.,   37.,\n",
       "           3.]),\n",
       " array([ 3.33497935,  4.75135995,  6.16774055,  7.58412115,  9.00050176,\n",
       "        10.41688236, 11.83326296, 13.24964356, 14.66602417, 16.08240477,\n",
       "        17.49878537]),\n",
       " <BarContainer object of 10 artists>)"
      ]
     },
     "execution_count": 6,
     "metadata": {},
     "output_type": "execute_result"
    },
    {
     "data": {
      "image/png": "[encoded data removed]",
      "text/plain": [
       "<Figure size 432x288 with 1 Axes>"
      ]
     },
     "metadata": {
      "needs_background": "light"
     },
     "output_type": "display_data"
    }
   ],
   "source": [
    "plt.hist(N.rvs(size=[5000])) "
   ]
  },
  {
   "cell_type": "markdown",
   "metadata": {},
   "source": [
    "**Warning:** as with any drawing of random variable on a computer, [one merely emulates randomness](https://en.wikipedia.org/wiki/Pseudorandom_number_generator).  \n",
    "\n",
    "The positive aspect of using pseudo-random numbers is that one can make random operation reproducible by setting up **random seed**."
   ]
  },
  {
   "cell_type": "code",
   "execution_count": 7,
   "metadata": {},
   "outputs": [
    {
     "name": "stdout",
     "output_type": "stream",
     "text": [
      "Are the random draws equal? True\n",
      "[12.97721811 11.35202174  9.16309726  8.38695837 11.11175166]\n",
      "[12.97721811 11.35202174  9.16309726  8.38695837 11.11175166]\n"
     ]
    }
   ],
   "source": [
    "import numpy as np\n",
    "\n",
    "# Set the random seed and draw 5 random numbers:\n",
    "np.random.seed(2021)   \n",
    "draw1 = N.rvs(size=5)\n",
    "\n",
    "# Set the random seed back to the same value as above -> 2021.\n",
    "np.random.seed(2021)\n",
    "draw2 = N.rvs(size=5)\n",
    "\n",
    "print(\"Are the random draws equal?\", all(draw1 == draw2))\n",
    "print(draw1)\n",
    "print(draw2)"
   ]
  },
  {
   "cell_type": "markdown",
   "metadata": {},
   "source": [
    "<br>\n",
    "\n",
    "### 1.1.2 Looking-up quantiles and probability density functions <a id='stats.1.2'></a>\n",
    "\n",
    "* **`pdf()`**: Probability Density Function.\n",
    "* **`cdf()`**: Cumulative Distribution Function.\n",
    "* **`ppf()`**: Percent Point Function (inverse of CDF), gives the quantiles of the distribution.\n",
    "\n",
    "<br>\n",
    "\n",
    "**Example:** using the PDF to plot a distribution."
   ]
  },
  {
   "cell_type": "code",
   "execution_count": 8,
   "metadata": {},
   "outputs": [
    {
     "data": {
      "image/png": "[encoded data removed]",
      "text/plain": [
       "<Figure size 432x288 with 1 Axes>"
      ]
     },
     "metadata": {
      "needs_background": "light"
     },
     "output_type": "display_data"
    }
   ],
   "source": [
    "import matplotlib.pyplot as plt \n",
    "\n",
    "X = np.arange(0, 20, 0.1)      # generate a sequence ranging from 0 to 20 with increment of 0.1\n",
    "plt.plot(X, N.pdf(X))          # for each element of the sequence, get the associated PDF value.\n",
    "plt.show()"
   ]
  },
  {
   "cell_type": "markdown",
   "metadata": {},
   "source": [
    "<br>\n",
    "\n",
    "**Example:** using the CDF to estimate a probability, using PPF to compute quantiles."
   ]
  },
  {
   "cell_type": "code",
   "execution_count": 9,
   "metadata": {},
   "outputs": [
    {
     "name": "stdout",
     "output_type": "stream",
     "text": [
      "What is the probability of drawing a number <= 15.0 ? 0.9937903346742238\n",
      "Quantiles: [0.025, 0.5, 0.975] -> [ 6.08007203 10.         13.91992797]\n"
     ]
    }
   ],
   "source": [
    "# cdf: Cumulative Distribution Function.\n",
    "print('What is the probability of drawing a number <= 15.0 ?', N.cdf(15.0))\n",
    "\n",
    "# ppf: gives the quantiles of the distribution.\n",
    "P = [0.025, 0.5, 0.975]\n",
    "Q = N.ppf(P)\n",
    "print('Quantiles:', P, '->', Q)"
   ]
  },
  {
   "cell_type": "markdown",
   "metadata": {},
   "source": [
    "<br>\n",
    "\n",
    "For **discrete distribution** these rules change a bit: `pdf()` is replaced by `pmf()`.\n",
    "\n",
    "Let's see an example of **binomial distribution** with 10 draws and a 0.5 probability of success:"
   ]
  },
  {
   "cell_type": "code",
   "execution_count": 10,
   "metadata": {},
   "outputs": [
    {
     "data": {
      "image/png": "[encoded data removed]",
      "text/plain": [
       "<Figure size 432x288 with 1 Axes>"
      ]
     },
     "metadata": {
      "needs_background": "light"
     },
     "output_type": "display_data"
    }
   ],
   "source": [
    "X = np.arange(0,10)\n",
    "plt.scatter(X, stats.binom.pmf(X, n=10, p=0.5))\n",
    "plt.show()"
   ]
  },
  {
   "cell_type": "markdown",
   "metadata": {},
   "source": [
    "Most distributions have a certain number of **parameters** which may control their overall **shape, location or scale**.\n",
    "* The **normal law** e.g. has two parameters: its mean ($\\mu$) and its standard deviation ($\\sigma$), \n",
    "  which respectively control its location and scale. In `scipy`, these are set via the `loc` (location)\n",
    "  and `scale` arguments."
   ]
  },
  {
   "cell_type": "code",
   "execution_count": 11,
   "metadata": {
    "scrolled": false
   },
   "outputs": [
    {
     "data": {
      "text/plain": [
       "<matplotlib.legend.Legend at 0x7fa0e6daf130>"
      ]
     },
     "execution_count": 11,
     "metadata": {},
     "output_type": "execute_result"
    },
    {
     "data": {
      "image/png": "[encoded data removed]",
      "text/plain": [
       "<Figure size 1008x504 with 1 Axes>"
      ]
     },
     "metadata": {
      "needs_background": "light"
     },
     "output_type": "display_data"
    }
   ],
   "source": [
    "x = np.linspace(-10,10, 100) # 100 equally separated points between -5 and 5\n",
    "fig, ax = plt.subplots(figsize=(14, 7))\n",
    "\n",
    "a= sns.lineplot(x=x, y=stats.norm.pdf(x , \n",
    "                                      loc = 0 , scale = 1) ,\n",
    "                ax = ax , label='mean= 0 , stdev=1')\n",
    "sns.lineplot(x=x, y=stats.norm.pdf(x , loc = -2 , scale = 1 ) ,\n",
    "             ax = ax , label='mean=-2 , stdev=1')\n",
    "sns.lineplot(x=x, y=stats.norm.pdf(x , loc = 1 , scale = 3 ) ,\n",
    "             ax = ax , label='mean= 1 , stdev=3')\n",
    "\n",
    "a.set(xlabel='value', ylabel='density')\n",
    "a.set_title('normal law - probability density function')\n",
    "ax.legend()"
   ]
  },
  {
   "cell_type": "markdown",
   "metadata": {},
   "source": [
    "<br>\n",
    "<br>\n",
    "\n",
    "[back to toc](#toc)\n",
    "\n",
    "## 1.2 t-test <a id='stats.2'></a>\n",
    "\n",
    "The **t-test** is used to determine if the means of two samples (drawn from 2 sub-populations for instance) are significantly different.\n",
    "\n",
    "It is a widely used test, with important but not overly complex assumptions:\n",
    " * Independence of data points.\n",
    " * The means of each sample should follow normal distributions.\n",
    " * *The two sample share the came variance* <- there are different flavors of the t-test depending\n",
    "   on that assumption.\n",
    "\n",
    "<br>\n",
    "\n",
    "**Example:** weight of mices of different genotypes and subjected to different diets."
   ]
  },
  {
   "cell_type": "code",
   "execution_count": 12,
   "metadata": {},
   "outputs": [
    {
     "data": {
      "text/plain": [
       "<seaborn.axisgrid.FacetGrid at 0x7fa0eefd9e80>"
      ]
     },
     "execution_count": 12,
     "metadata": {},
     "output_type": "execute_result"
    },
    {
     "data": {
      "image/png": "[encoded data removed]",
      "text/plain": [
       "<Figure size 360x360 with 1 Axes>"
      ]
     },
     "metadata": {
      "needs_background": "light"
     },
     "output_type": "display_data"
    }
   ],
   "source": [
    "mice_data = pd.read_csv('data/mice_data.csv')\n",
    "sns.catplot(x='weight' , y='genotype' , data=mice_data , kind='violin')"
   ]
  },
  {
   "cell_type": "code",
   "execution_count": 13,
   "metadata": {},
   "outputs": [
    {
     "name": "stdout",
     "output_type": "stream",
     "text": [
      "test statistic: \t0.18836850422505863\n",
      "p-value : \t0.8514498629523397\n"
     ]
    }
   ],
   "source": [
    "WTdata = mice_data['weight'][ mice_data['genotype'] == 'WT' ]\n",
    "KOdata = mice_data['weight'][ mice_data['genotype'] == 'KO' ]\n",
    "\n",
    "tstat , pval = stats.ttest_ind( KOdata , WTdata , \n",
    "                               equal_var=False)\n",
    "#use equal_var=True if you have tested for variance equality\n",
    "print('test statistic: ',tstat , sep='\\t')\n",
    "print('p-value : ',pval , sep='\\t')"
   ]
  },
  {
   "cell_type": "markdown",
   "metadata": {},
   "source": [
    "<br>\n",
    "\n",
    "### Micro-Exercise:\n",
    "* There is another column in the data-set : `diet`, which can take the values `\"HFD\"` and `\"CHOW\"`.\n",
    "  Perform a t-test exactly as before, but splitting mice by their `diet` rather than their `genotype`."
   ]
  },
  {
   "cell_type": "code",
   "execution_count": null,
   "metadata": {},
   "outputs": [],
   "source": []
  },
  {
   "cell_type": "markdown",
   "metadata": {},
   "source": [
    "<br>\n",
    "<br>\n",
    "\n",
    "[back to toc](#toc)\n",
    "\n",
    "## 1.3 Statistical power calculations <a id='stats.3'></a>\n",
    "\n",
    "\n",
    "For some widely used tests, functions exist to let you automatically compute statistical power for a given effect size or sample size."
   ]
  },
  {
   "cell_type": "code",
   "execution_count": 16,
   "metadata": {},
   "outputs": [
    {
     "name": "stdout",
     "output_type": "stream",
     "text": [
      "power: 0.5620066386966457\n"
     ]
    }
   ],
   "source": [
    "from statsmodels.stats.power import TTestIndPower\n",
    "\n",
    "mean_difference=1\n",
    "standard_dev=1\n",
    "sample_size=10\n",
    "\n",
    "effect_size = mean_difference/standard_dev\n",
    "\n",
    "P = TTestIndPower()\n",
    "print('power:', P.power(effect_size=effect_size, \n",
    "                        nobs1=sample_size, \n",
    "                        ratio=1 , alpha=0.05) )"
   ]
  },
  {
   "cell_type": "markdown",
   "metadata": {},
   "source": [
    "**Calculating statistical power can help inform our experimental design**. \n",
    "\n",
    "For example, how many observation per sample do we need if we want to detect a difference in mean of 1 with significance level (type I error) 0.01 and statistical power 0.80:"
   ]
  },
  {
   "cell_type": "code",
   "execution_count": 17,
   "metadata": {},
   "outputs": [
    {
     "name": "stdout",
     "output_type": "stream",
     "text": [
      "minimum sample size: 25.066708773444212\n"
     ]
    },
    {
     "name": "stderr",
     "output_type": "stream",
     "text": [
      "/home/wandrille/Installed_software/anaconda3/envs/py38/lib/python3.8/site-packages/seaborn/_decorators.py:36: FutureWarning: Pass the following variables as keyword args: x, y. From version 0.12, the only valid positional argument will be `data`, and passing other arguments without an explicit keyword will result in an error or misinterpretation.\n",
      "  warnings.warn(\n"
     ]
    },
    {
     "data": {
      "image/png": "[encoded data removed]",
      "text/plain": [
       "<Figure size 1008x504 with 1 Axes>"
      ]
     },
     "metadata": {
      "needs_background": "light"
     },
     "output_type": "display_data"
    }
   ],
   "source": [
    "effect_size=1\n",
    "sig_threshold = 0.01\n",
    "P = TTestIndPower()\n",
    "\n",
    "powers = []\n",
    "for sample_size in range(2,50):\n",
    "    powers.append( P.power(effect_size=effect_size , nobs1=sample_size , ratio=1 , alpha=sig_threshold) )\n",
    "\n",
    "fig,ax=plt.subplots(figsize=(14,7))\n",
    "sns.lineplot(range(2,50) , powers , label = 'effect size='+str(effect_size) , ax=ax)\n",
    "ax.axhline(0.8, color='r', linestyle='-')\n",
    "ax.set(xlabel='sample size', ylabel='power')\n",
    "\n",
    "\n",
    "## or, directly:\n",
    "print( 'minimum sample size:', P.solve_power(effect_size=effect_size , \n",
    "                                             nobs1=None ,  \n",
    "                                             ratio=1 , \n",
    "                                             alpha=sig_threshold , \n",
    "                                             power = 0.8))"
   ]
  },
  {
   "cell_type": "markdown",
   "metadata": {},
   "source": [
    "<br>\n",
    "<br>\n",
    "\n",
    "[back to toc](#toc)\n",
    "\n",
    "## 1.4 Multiple hypothesis testing <a id='stats.4'></a>\n",
    "\n",
    "Recall the definition of the p-value: the probability of obtaining a test statistic at least as extreme as the one observed, **if the null hypothesis is true**\n",
    "\n",
    "Thus, *even* if the p-value is, let's say, 0.04, there is still a 4% chance of obtaining such an extreme result by chance.\n",
    "\n",
    "This is often acceptable if we only perform one test. However when multiple tests are performed, it was shown  (by simulation), that even when there is no real effect some tests will turn out significant by chance.\n",
    "\n",
    "> This is the definition of the $\\alpha$ risk of type I error.\n",
    "\n",
    "Of course, this has important implication for science and the relevance of our results."
   ]
  },
  {
   "cell_type": "markdown",
   "metadata": {},
   "source": [
    "![image.png](img/xkcd882.png)"
   ]
  },
  {
   "cell_type": "markdown",
   "metadata": {},
   "source": [
    "> source: [xkcd](http://xkcd.com) (note: there are many relevant xkcd strips for everything related to stats/programming courses)"
   ]
  },
  {
   "cell_type": "code",
   "execution_count": 18,
   "metadata": {},
   "outputs": [
    {
     "name": "stderr",
     "output_type": "stream",
     "text": [
      "/home/wandrille/Installed_software/anaconda3/envs/py38/lib/python3.8/site-packages/seaborn/_decorators.py:36: FutureWarning: Pass the following variables as keyword args: x, y. From version 0.12, the only valid positional argument will be `data`, and passing other arguments without an explicit keyword will result in an error or misinterpretation.\n",
      "  warnings.warn(\n"
     ]
    },
    {
     "data": {
      "text/plain": [
       "[Text(0.5, 0, 'number of tests'),\n",
       " Text(0, 0.5, 'probability of at least 1 test significant by chance')]"
      ]
     },
     "execution_count": 18,
     "metadata": {},
     "output_type": "execute_result"
    },
    {
     "data": {
      "image/png": "[encoded data removed]",
      "text/plain": [
       "<Figure size 1008x504 with 1 Axes>"
      ]
     },
     "metadata": {
      "needs_background": "light"
     },
     "output_type": "display_data"
    }
   ],
   "source": [
    "P = np.array([1, 2, 5, 10, 50, 100])\n",
    "fig,ax=plt.subplots(figsize=(14,7))\n",
    "sns.lineplot( P , 1- 0.95**P ,ax=ax)\n",
    "ax.set(xlabel='number of tests', ylabel='probability of at least 1 test significant by chance')"
   ]
  },
  {
   "cell_type": "markdown",
   "metadata": {},
   "source": [
    "\n",
    "\n",
    "We need to change perspective.\n",
    "Instead of trying to limit the false positive probability for *each* test, we focus on:\n",
    "* The probability of obtaining **any** false positives (family-wise error rate, **FWER**)\n",
    "* The proportion of false positives among all findings (false discovery rate, **FDR**)\n",
    "\n",
    "> Controlling the FWER is often too stringent - limit type I errors, but get lots of type II errors. \n",
    "\n",
    "<br>\n",
    "\n",
    "### The Bonferroni method for controlling the FWER\n",
    "* Assume we are performing $N$ tests\n",
    "* To control the FWER at (e.g.) 0.05, only call variables with p-values below $0.05/N$ significant\n",
    "\n",
    "<br>\n",
    "\n",
    "### The Benjamini-Hochberg method for controlling the FDR\n",
    "\n",
    "- Assume we are performing $N$ tests\n",
    "- Intuition: for each p-value threshold $\\alpha$, we can estimate the number of false discoveries by $\\alpha N$\n",
    "- Compare this to the actual number of discoveries at the threshold - $N_\\alpha$\n",
    "- Choose a p-value threshold $\\alpha$ such that $\\alpha N/N_\\alpha$ is less than a desired threshold (e.g. 0.05) - this threshold would give an expected FDR of 0.05\n",
    "- Note that the FDR is truly a property of a *set* - in a set of genes with FDR = 0.05, we can expect around 5% to be false discoveries. However, we don't know *which* ones! It could be the most significant!\n",
    "- Often, we want a gene-wise measure of significance (like the p-value)\n",
    "- The q-value, or adjusted p-value, of a variable is the *smallest* FDR we have to accept in order to call that variable significant.\n",
    "- For example, if the adjusted p-value is 0.2, we have to accept that if we want to call this variable (and consequently, all variables with lower p-values) significant, there will be approximately 20% false discoveries among them.\n",
    "\n",
    "In python :\n",
    "\n",
    "```python\n",
    "from statsmodels.stats.multitest import multipletests\n",
    "\n",
    "# Bonferroni\n",
    "rejected,fwers,alphacSidak,alphacBonf = multipletests(pvals, alpha=0.05, method='bonferroni')\n",
    "\n",
    "# BH procedure\n",
    "rejected,fdrs,alphacSidak,alphacBonf = multipletests(pvals, alpha=0.05, method='fdr_bh')\n",
    "\n",
    "# Note: many other methods are available -> help(multipletests)\n",
    "```\n",
    "\n",
    "* rejected : true for hypothesis that can be rejected for the given alpha\n",
    "* fwers|fdrs : p-values corrected for multiple tests\n",
    "* alphacSidak : corrected alpha for Sidak method\n",
    "* alphacBonf : corrected alpha for Bonferroni method\n",
    "        "
   ]
  },
  {
   "cell_type": "code",
   "execution_count": 19,
   "metadata": {},
   "outputs": [],
   "source": [
    "# Imagine we perform 10 000 tests of 10 000 random data-sets\n",
    "pvals = []\n",
    "\n",
    "N = 10000\n",
    "mean_difference = 0 # no differences -> any detected difference is due to chance\n",
    "sample_size = 100\n",
    "std=1\n",
    "\n",
    "for i in range(N):\n",
    "    t , pval_ttest = stats.ttest_ind( np.random.randn( sample_size ) * std , \n",
    "                                     np.random.randn( sample_size ) * std + mean_difference ,equal_var=True)\n",
    "    pvals.append(pval_ttest)\n",
    "    \n",
    "pvals = np.array(pvals)\n",
    "# stats models proposes a function implementing numerous p-value correction methods\n",
    "# https://www.statsmodels.org/dev/generated/statsmodels.stats.multitest.multipletests.html\n",
    "\n",
    "from statsmodels.stats.multitest import multipletests\n",
    "\n",
    "rejected,fwers,alphacSidak,alphacBonf = multipletests(pvals, alpha=0.05, method='bonferroni')\n",
    "rejected,fdrs,alphacSidak,alphacBonf = multipletests(pvals, alpha=0.05, method='fdr_bh')"
   ]
  },
  {
   "cell_type": "code",
   "execution_count": 20,
   "metadata": {},
   "outputs": [
    {
     "name": "stdout",
     "output_type": "stream",
     "text": [
      "Fraction of (spuriously) significant tests:\n",
      "p-value: 0.0496\n",
      "FWER   : 0.0\n",
      "FDR    : 0.0\n"
     ]
    },
    {
     "data": {
      "image/png": "[encoded data removed]",
      "text/plain": [
       "<Figure size 1080x360 with 2 Axes>"
      ]
     },
     "metadata": {
      "needs_background": "light"
     },
     "output_type": "display_data"
    }
   ],
   "source": [
    "fig, ax = plt.subplots(1,2,figsize=(15, 5))\n",
    "sns.histplot( pvals ,bins = np.arange(0,1.05,0.01) ,  ax = ax[0] , label = 'p-value' , color='xkcd:vomit')\n",
    "sns.histplot( fwers ,bins = np.arange(0,1.05,0.01) ,   ax = ax[0] , label = 'FWER' , color='xkcd:tomato')\n",
    "sns.histplot( fdrs  ,bins = np.arange(0,1.05,0.01) ,  ax = ax[0] , label = 'FDR' , color='xkcd:lavender')\n",
    "ax[0].set_yscale('log')\n",
    "ax[0].legend()\n",
    "\n",
    "ax[1].scatter( pvals , fwers , label='FWER' , c='xkcd:tomato' , alpha=0.5)\n",
    "ax[1].scatter( pvals , fdrs , label='FDR' , c='xkcd:lavender', alpha=0.5)\n",
    "ax[1].set_xlabel('p-value')\n",
    "ax[1].set_ylabel('corrected value')\n",
    "\n",
    "print('Fraction of (spuriously) significant tests:')\n",
    "print('p-value:' , sum(pvals<0.05)/N )\n",
    "print('FWER   :' , sum(fwers<0.05)/N )\n",
    "print('FDR    :' , sum(fdrs <0.05)/N )"
   ]
  },
  {
   "cell_type": "code",
   "execution_count": 21,
   "metadata": {},
   "outputs": [],
   "source": [
    "# Now, imagine a different scenario where 100 out of the 10 000 tests \n",
    "pvals = []\n",
    "\n",
    "N = 10000 - 100\n",
    "mean_difference = 0 # no differences -> any detected difference is due to chance\n",
    "sample_size = 100\n",
    "std=1\n",
    "\n",
    "for i in range(N):\n",
    "    t , pval_ttest = stats.ttest_ind( np.random.randn( sample_size ) * std , \n",
    "                                     np.random.randn( sample_size ) * std + mean_difference ,equal_var=True)\n",
    "    pvals.append(pval_ttest)\n",
    "\n",
    "# now we add the different ones:\n",
    "mean_difference = 0.75\n",
    "for i in range(100):\n",
    "    t , pval_ttest = stats.ttest_ind( np.random.randn( sample_size ) * std , \n",
    "                                     np.random.randn( sample_size ) * std + mean_difference ,equal_var=True)\n",
    "    pvals.append(pval_ttest)\n",
    "\n",
    "    \n",
    "    \n",
    "pvals = np.array(pvals)\n",
    "# stats models proposes a function implementing numerous p-value correction methods\n",
    "# https://www.statsmodels.org/dev/generated/statsmodels.stats.multitest.multipletests.html\n",
    "\n",
    "from statsmodels.stats.multitest import multipletests\n",
    "\n",
    "rejected,fwers,alphacSidak,alphacBonf = multipletests(pvals, alpha=0.05, method='bonferroni')\n",
    "rejected,fdrs,alphacSidak,alphacBonf = multipletests(pvals, alpha=0.05, method='fdr_bh')"
   ]
  },
  {
   "cell_type": "code",
   "execution_count": 22,
   "metadata": {},
   "outputs": [
    {
     "name": "stdout",
     "output_type": "stream",
     "text": [
      "Number of significant tests:\n",
      "p-value: 579\n",
      "FWER   : 76\n",
      "FDR    : 101\n",
      "\n",
      "Number of correctly significant tests (out of 100):\n",
      "p-value: 100\n",
      "FWER   : 76\n",
      "FDR    : 98\n",
      "\n",
      "Number of spuriously significant tests (out of 9900):\n",
      "p-value: 479\n",
      "FWER   : 0\n",
      "FDR    : 3\n"
     ]
    }
   ],
   "source": [
    "print('Number of significant tests:')\n",
    "print('p-value:' , sum(pvals<0.05) )\n",
    "print('FWER   :' , sum(fwers<0.05) )\n",
    "print('FDR    :' , sum(fdrs <0.05) )\n",
    "print()\n",
    "print('Number of correctly significant tests (out of 100):')\n",
    "print('p-value:' , sum(pvals[-100:]<0.05) )\n",
    "print('FWER   :' , sum(fwers[-100:]<0.05) )\n",
    "print('FDR    :' , sum(fdrs[-100:] <0.05) )\n",
    "print()\n",
    "print('Number of spuriously significant tests (out of 9900):')\n",
    "print('p-value:' , sum(pvals[:-100]<0.05) )\n",
    "print('FWER   :' , sum(fwers[:-100]<0.05) )\n",
    "print('FDR    :' , sum(fdrs[:-100] <0.05) )"
   ]
  },
  {
   "cell_type": "markdown",
   "metadata": {},
   "source": [
    "<br>\n",
    "<br>\n",
    "\n",
    "[back to toc](#toc)\n",
    "\n",
    "## 1.5 Fisher's exact test and the Chi-square test <a id='stats.5'></a>\n",
    "\n",
    "* These two tests have for object the association between 2 categorical variables.\n",
    "* Their **null hypothesis** is the absence of association between the two variable.\n",
    "\n",
    "**Fisher's exact test**, as its name entails, computes a p-value which is exact, even for very low smaple sizes. However it becomes computationnaly complex to compute as the data set size or number of categories gets high.\n",
    "\n",
    "The **Chi-square test**, in contrast, uses an approximation of the exact p-value which is only valid when samples are big enough. However, it scales well to larger samples sizes and number of categories.\n",
    "\n",
    "\n",
    "Both tests start from a **contingency table**.\n",
    "\n",
    "We are going to use as example the historical [Lady tasting tea](https://en.wikipedia.org/wiki/Lady_tasting_tea).\n",
    "\n",
    "|  | detected as milk before | detected as milk after | marginal sums |\n",
    "|---|---|---|---|\n",
    "| **milk before** | 3 | 1 | **4** |\n",
    "| **milk after** | 1 | 3 | **4** |\n",
    "| **marginal sums**  | **4** | **4** | **8** |\n",
    "\n",
    "In our experiment, the lady was able to correctly identify 6 out of 8 cups.\n",
    "\n",
    "\n",
    "\n"
   ]
  },
  {
   "cell_type": "code",
   "execution_count": 23,
   "metadata": {},
   "outputs": [
    {
     "name": "stdout",
     "output_type": "stream",
     "text": [
      "Fisher's exact test\n",
      "\todds ratio: 9.0\n",
      "\tp-value: 0.48571428571428565\n",
      "Chi-square test\n",
      "\tchi2: 2.0\n",
      "\tp-value: 0.15729920705028105\n"
     ]
    }
   ],
   "source": [
    "# Fisher's exact test\n",
    "\n",
    "table = [[3,1],[1,3]]\n",
    "\n",
    "oddsratio, pvalue = stats.fisher_exact(table)\n",
    "print(\"Fisher's exact test\")\n",
    "print(\"\\todds ratio:\", oddsratio)\n",
    "print(\"\\tp-value:\", pvalue)\n",
    "\n",
    "# Chi-square\n",
    "chi2, pval, df, expected = stats.chi2_contingency(table, \n",
    "                                                  correction=False)\n",
    "print(\"Chi-square test\")\n",
    "print(\"\\tchi2:\", chi2)\n",
    "print(\"\\tp-value:\", pval)"
   ]
  },
  {
   "cell_type": "code",
   "execution_count": 24,
   "metadata": {},
   "outputs": [
    {
     "data": {
      "text/plain": [
       "array([[2., 2.],\n",
       "       [2., 2.]])"
      ]
     },
     "execution_count": 24,
     "metadata": {},
     "output_type": "execute_result"
    }
   ],
   "source": [
    "expected\n"
   ]
  },
  {
   "cell_type": "markdown",
   "metadata": {},
   "source": [
    "You can see here that the returned p-value is quite different from the one given by Fisher's exact test.\n",
    "\n",
    "> note that here we use `correction=False` as by default scipy implementation uses [Yates's correction](https://en.wikipedia.org/wiki/Yates%27s_correction_for_continuity), which is useful when the effectives are low. Try the same lines with the correction to see the difference.\n",
    "\n"
   ]
  },
  {
   "cell_type": "markdown",
   "metadata": {},
   "source": [
    "Let's imagine now that we have many cups and a very patient lady so that the contigency table looks like this:\n",
    "\n",
    "|  | detected as milk before | detected as milk after | marginal sums |\n",
    "|---|---|---|---|\n",
    "| **milk before** | 25 | 15 | **40** |\n",
    "| **milk after** | 18 | 22 | **40** |\n",
    "| **marginal sums**  | **40** | **40** | **80** |\n",
    "\n"
   ]
  },
  {
   "cell_type": "code",
   "execution_count": 25,
   "metadata": {},
   "outputs": [
    {
     "name": "stdout",
     "output_type": "stream",
     "text": [
      "Fisher's exact test\n",
      "\todds ratio: 2.037037037037037\n",
      "\tp-value: 0.17815079712391602\n",
      "Chi-square test\n",
      "\tchi2: 2.4638592080452546\n",
      "\tp-value: 0.11649225257988546\n"
     ]
    }
   ],
   "source": [
    "table = [[25,15],[18,22]]\n",
    "\n",
    "oddsratio , pvalue = stats.fisher_exact(table)\n",
    "print(\"Fisher's exact test\")\n",
    "print('\\todds ratio:',oddsratio)\n",
    "print('\\tp-value:',pvalue)\n",
    "\n",
    "chi2,pval , df, expected = stats.chi2_contingency(table, correction=False)\n",
    "print(\"Chi-square test\")\n",
    "print('\\tchi2:', chi2)\n",
    "print('\\tp-value:', pval)"
   ]
  },
  {
   "cell_type": "markdown",
   "metadata": {},
   "source": [
    "You can see that the p-value of the Chi-square test is now much closer to that of Fisher's exact test."
   ]
  },
  {
   "cell_type": "markdown",
   "metadata": {},
   "source": [
    "<br>\n",
    "<br>\n",
    "\n",
    "## Exercise 1\n",
    "\n",
    "Going back to the census data from 1880, in particular the `census1880_fractions.csv` file, we have kept the data as fraction and created a few categories.\n",
    "\n",
    "Test the association between majority religion (`'majority religion'`) and majority language (`'majority language'`).\n",
    "\n",
    "> **hint**: to create a contingency table between `colA` and `colB` in `df` :\n",
    "> `table = pd.crosstab( df.colA , df.colB )`\n",
    "\n",
    "\n",
    "**If you have time:**\n",
    "* how could you make Fisher's test work here?"
   ]
  },
  {
   "cell_type": "code",
   "execution_count": 26,
   "metadata": {},
   "outputs": [
    {
     "data": {
      "text/html": [
       "<div>\n",
       "<style scoped>\n",
       "    .dataframe tbody tr th:only-of-type {\n",
       "        vertical-align: middle;\n",
       "    }\n",
       "\n",
       "    .dataframe tbody tr th {\n",
       "        vertical-align: top;\n",
       "    }\n",
       "\n",
       "    .dataframe thead th {\n",
       "        text-align: right;\n",
       "    }\n",
       "</style>\n",
       "<table border=\"1\" class=\"dataframe\">\n",
       "  <thead>\n",
       "    <tr style=\"text-align: right;\">\n",
       "      <th></th>\n",
       "      <th>Unnamed: 0</th>\n",
       "      <th>town name</th>\n",
       "      <th>canton</th>\n",
       "      <th>canton name</th>\n",
       "      <th>Total</th>\n",
       "      <th>Swiss</th>\n",
       "      <th>Foreigner</th>\n",
       "      <th>Male</th>\n",
       "      <th>Female</th>\n",
       "      <th>0-14 y.o.</th>\n",
       "      <th>...</th>\n",
       "      <th>Reformed</th>\n",
       "      <th>Catholic</th>\n",
       "      <th>Other</th>\n",
       "      <th>German speakers</th>\n",
       "      <th>French speakers</th>\n",
       "      <th>Italian speakers</th>\n",
       "      <th>Romanche speakers</th>\n",
       "      <th>Non-national tongue speakers</th>\n",
       "      <th>majority religion</th>\n",
       "      <th>majority language</th>\n",
       "    </tr>\n",
       "  </thead>\n",
       "  <tbody>\n",
       "    <tr>\n",
       "      <th>0</th>\n",
       "      <td>0</td>\n",
       "      <td>Aeugst</td>\n",
       "      <td>ZH</td>\n",
       "      <td>Zürich</td>\n",
       "      <td>646</td>\n",
       "      <td>0.970588</td>\n",
       "      <td>0.029412</td>\n",
       "      <td>0.493808</td>\n",
       "      <td>0.506192</td>\n",
       "      <td>0.335913</td>\n",
       "      <td>...</td>\n",
       "      <td>0.910217</td>\n",
       "      <td>0.066563</td>\n",
       "      <td>0.023220</td>\n",
       "      <td>0.998452</td>\n",
       "      <td>0.000000</td>\n",
       "      <td>0.001548</td>\n",
       "      <td>0.0</td>\n",
       "      <td>0.000000</td>\n",
       "      <td>Reformed</td>\n",
       "      <td>German speakers</td>\n",
       "    </tr>\n",
       "    <tr>\n",
       "      <th>1</th>\n",
       "      <td>1</td>\n",
       "      <td>Affoltern am Albis</td>\n",
       "      <td>ZH</td>\n",
       "      <td>Zürich</td>\n",
       "      <td>2201</td>\n",
       "      <td>0.948660</td>\n",
       "      <td>0.051340</td>\n",
       "      <td>0.479328</td>\n",
       "      <td>0.520672</td>\n",
       "      <td>0.323944</td>\n",
       "      <td>...</td>\n",
       "      <td>0.882326</td>\n",
       "      <td>0.098137</td>\n",
       "      <td>0.019537</td>\n",
       "      <td>0.996365</td>\n",
       "      <td>0.002272</td>\n",
       "      <td>0.001363</td>\n",
       "      <td>0.0</td>\n",
       "      <td>0.000000</td>\n",
       "      <td>Reformed</td>\n",
       "      <td>German speakers</td>\n",
       "    </tr>\n",
       "    <tr>\n",
       "      <th>2</th>\n",
       "      <td>2</td>\n",
       "      <td>Bonstetten</td>\n",
       "      <td>ZH</td>\n",
       "      <td>Zürich</td>\n",
       "      <td>771</td>\n",
       "      <td>0.977951</td>\n",
       "      <td>0.022049</td>\n",
       "      <td>0.468223</td>\n",
       "      <td>0.531777</td>\n",
       "      <td>0.345006</td>\n",
       "      <td>...</td>\n",
       "      <td>0.968872</td>\n",
       "      <td>0.025940</td>\n",
       "      <td>0.005188</td>\n",
       "      <td>1.000000</td>\n",
       "      <td>0.000000</td>\n",
       "      <td>0.000000</td>\n",
       "      <td>0.0</td>\n",
       "      <td>0.000000</td>\n",
       "      <td>Reformed</td>\n",
       "      <td>German speakers</td>\n",
       "    </tr>\n",
       "    <tr>\n",
       "      <th>3</th>\n",
       "      <td>3</td>\n",
       "      <td>Hausen</td>\n",
       "      <td>ZH</td>\n",
       "      <td>Zürich</td>\n",
       "      <td>1363</td>\n",
       "      <td>0.957447</td>\n",
       "      <td>0.042553</td>\n",
       "      <td>0.469552</td>\n",
       "      <td>0.530448</td>\n",
       "      <td>0.251651</td>\n",
       "      <td>...</td>\n",
       "      <td>0.928833</td>\n",
       "      <td>0.069699</td>\n",
       "      <td>0.001467</td>\n",
       "      <td>0.984593</td>\n",
       "      <td>0.008804</td>\n",
       "      <td>0.006603</td>\n",
       "      <td>0.0</td>\n",
       "      <td>0.000000</td>\n",
       "      <td>Reformed</td>\n",
       "      <td>German speakers</td>\n",
       "    </tr>\n",
       "    <tr>\n",
       "      <th>4</th>\n",
       "      <td>4</td>\n",
       "      <td>Hedingen</td>\n",
       "      <td>ZH</td>\n",
       "      <td>Zürich</td>\n",
       "      <td>907</td>\n",
       "      <td>0.955899</td>\n",
       "      <td>0.044101</td>\n",
       "      <td>0.493936</td>\n",
       "      <td>0.506064</td>\n",
       "      <td>0.281147</td>\n",
       "      <td>...</td>\n",
       "      <td>0.949283</td>\n",
       "      <td>0.048512</td>\n",
       "      <td>0.002205</td>\n",
       "      <td>0.984564</td>\n",
       "      <td>0.000000</td>\n",
       "      <td>0.009923</td>\n",
       "      <td>0.0</td>\n",
       "      <td>0.005513</td>\n",
       "      <td>Reformed</td>\n",
       "      <td>German speakers</td>\n",
       "    </tr>\n",
       "  </tbody>\n",
       "</table>\n",
       "<p>5 rows × 22 columns</p>\n",
       "</div>"
      ],
      "text/plain": [
       "   Unnamed: 0           town name canton canton name  Total     Swiss  \\\n",
       "0           0              Aeugst     ZH      Zürich    646  0.970588   \n",
       "1           1  Affoltern am Albis     ZH      Zürich   2201  0.948660   \n",
       "2           2          Bonstetten     ZH      Zürich    771  0.977951   \n",
       "3           3              Hausen     ZH      Zürich   1363  0.957447   \n",
       "4           4            Hedingen     ZH      Zürich    907  0.955899   \n",
       "\n",
       "   Foreigner      Male    Female  0-14 y.o.  ...  Reformed  Catholic  \\\n",
       "0   0.029412  0.493808  0.506192   0.335913  ...  0.910217  0.066563   \n",
       "1   0.051340  0.479328  0.520672   0.323944  ...  0.882326  0.098137   \n",
       "2   0.022049  0.468223  0.531777   0.345006  ...  0.968872  0.025940   \n",
       "3   0.042553  0.469552  0.530448   0.251651  ...  0.928833  0.069699   \n",
       "4   0.044101  0.493936  0.506064   0.281147  ...  0.949283  0.048512   \n",
       "\n",
       "      Other  German speakers  French speakers  Italian speakers  \\\n",
       "0  0.023220         0.998452         0.000000          0.001548   \n",
       "1  0.019537         0.996365         0.002272          0.001363   \n",
       "2  0.005188         1.000000         0.000000          0.000000   \n",
       "3  0.001467         0.984593         0.008804          0.006603   \n",
       "4  0.002205         0.984564         0.000000          0.009923   \n",
       "\n",
       "   Romanche speakers  Non-national tongue speakers  majority religion  \\\n",
       "0                0.0                      0.000000           Reformed   \n",
       "1                0.0                      0.000000           Reformed   \n",
       "2                0.0                      0.000000           Reformed   \n",
       "3                0.0                      0.000000           Reformed   \n",
       "4                0.0                      0.005513           Reformed   \n",
       "\n",
       "   majority language  \n",
       "0    German speakers  \n",
       "1    German speakers  \n",
       "2    German speakers  \n",
       "3    German speakers  \n",
       "4    German speakers  \n",
       "\n",
       "[5 rows x 22 columns]"
      ]
     },
     "execution_count": 26,
     "metadata": {},
     "output_type": "execute_result"
    }
   ],
   "source": [
    "dfFractions = pd.read_csv('data/census1880_fractions.csv')\n",
    "dfFractions.head()"
   ]
  },
  {
   "cell_type": "markdown",
   "metadata": {},
   "source": [
    "Solutions:"
   ]
  },
  {
   "cell_type": "code",
   "execution_count": 1,
   "metadata": {},
   "outputs": [],
   "source": [
    "# %load -r -3 solutions/solution_02_01.py\n",
    "## creating the contingency table"
   ]
  },
  {
   "cell_type": "code",
   "execution_count": 2,
   "metadata": {},
   "outputs": [],
   "source": [
    "# %load -r 4-8 solutions/solution_02_01.py\n",
    "## performing chi-square"
   ]
  },
  {
   "cell_type": "code",
   "execution_count": null,
   "metadata": {},
   "outputs": [],
   "source": [
    "# %load -r 9- solutions/solution_02_01.py\n",
    "## how to use Fisher test?"
   ]
  },
  {
   "cell_type": "markdown",
   "metadata": {},
   "source": [
    "<br>\n",
    "<br>\n",
    "\n",
    "[back to toc](#toc)\n",
    "\n",
    "## 1.6 1-way anova <a id='stats.6'></a>\n",
    "\n",
    "The **ANOVA**, or **AN**alyse **O**f **VA**riance, stands maybe among the most used (and abused) type of statistical tests to date.\n",
    "\n",
    "The anova is used to analyze the differences among group means in a sample. \n",
    "In particular, we are going to concentrate here on the 1-way ANOVA, which evaluates the difference in means of a numerical variable across groups formed by another (single) variable.\n",
    "\n",
    "In this sense, it is a generalization of the t-test which is limited to 2 groups only (in fact, the 1-way anova and t-test are quivalent when there are only 2 groups).\n",
    "\n",
    "**Anova assumptions** :\n",
    "* subpopulation distributions are normal\n",
    "* samples have equal variances\n",
    "* observations are independent from one another\n",
    "\n",
    "**Test hypothesis** : \n",
    "given $m$ groups of mean $\\bar{x}_{1...m}$, each containing $n_i$ observations (for a total of $n$)\n",
    " * **Null hypothesis** : $H_0 : \\bar{x}_1 = \\bar{x}_2 = ... = \\bar{x}_m$\n",
    " * **Alternative hypothesis** : At least one of these means differ from the others\n",
    " \n",
    "The anova relies on the idea that if the mean varies between the different group then the overall variance of all samples should be significantly greater than the variance within each group (hence the name).\n",
    "\n",
    "<br>\n",
    "\n",
    "**Example:** In the 1880 Swiss census data: Is there difference in the proportion of the number of 60+ years old depending on the main language? "
   ]
  },
  {
   "cell_type": "code",
   "execution_count": 31,
   "metadata": {
    "scrolled": true
   },
   "outputs": [
    {
     "data": {
      "text/plain": [
       "French speakers      20\n",
       "German speakers      20\n",
       "Italian speakers     20\n",
       "Romanche speakers    20\n",
       "Name: majority language, dtype: int64"
      ]
     },
     "execution_count": 31,
     "metadata": {},
     "output_type": "execute_result"
    }
   ],
   "source": [
    "## here playing with the whole dataset is a bit silly, because we have the whole population.\n",
    "## let's imagine we only went and counted this fraction in 20 communes per language\n",
    "\n",
    "dfFractionsSample = dfFractions.groupby('majority language', group_keys=False).apply(lambda x: x.sample(20))\n",
    "dfFractionsSample['majority language'].value_counts()"
   ]
  },
  {
   "cell_type": "code",
   "execution_count": 32,
   "metadata": {},
   "outputs": [
    {
     "data": {
      "image/png": "[encoded data removed]",
      "text/plain": [
       "<Figure size 1008x504 with 2 Axes>"
      ]
     },
     "metadata": {
      "needs_background": "light"
     },
     "output_type": "display_data"
    }
   ],
   "source": [
    "fig,axes = plt.subplots(1,2 , figsize=(14,7),  sharey=True )\n",
    "sns.kdeplot(data=dfFractionsSample, y='60+ y.o.' , ax = axes[0] )\n",
    "sns.rugplot(data=dfFractionsSample, y='60+ y.o.' , ax = axes[0] )\n",
    "\n",
    "sns.violinplot( data=dfFractionsSample, x='majority language', y='60+ y.o.' , ax = axes[1])\n",
    "_ = axes[1].set_xticks( range(4), map(lambda x:x.partition(' ')[0] , dfFractionsSample['majority language'].unique() ))\n",
    "## the last line remoces the \" speaker\" at the end of x labels."
   ]
  },
  {
   "cell_type": "code",
   "execution_count": 33,
   "metadata": {},
   "outputs": [
    {
     "data": {
      "text/plain": [
       "majority language\n",
       "French speakers      [0.1064257028112449, 0.1739130434782608, 0.063...\n",
       "German speakers      [0.1246376811594203, 0.0944741532976827, 0.053...\n",
       "Italian speakers     [0.0958904109589041, 0.1385542168674698, 0.152...\n",
       "Romanche speakers    [0.1156462585034013, 0.1451612903225806, 0.175...\n",
       "Name: 60+ y.o., dtype: object"
      ]
     },
     "execution_count": 33,
     "metadata": {},
     "output_type": "execute_result"
    }
   ],
   "source": [
    "## nice trick to aggregate this data as a set of lists\n",
    "aggregated60fraction = dfFractionsSample.groupby('majority language')['60+ y.o.'].agg(list)\n",
    "aggregated60fraction"
   ]
  },
  {
   "cell_type": "code",
   "execution_count": 34,
   "metadata": {},
   "outputs": [
    {
     "name": "stdout",
     "output_type": "stream",
     "text": [
      "automated 1-way anova / F-test:\n",
      "F-stat : 6.590300422452274\n",
      "p-value: 0.0005105725639617182\n"
     ]
    }
   ],
   "source": [
    "\n",
    "Fstat , pval = stats.f_oneway( *aggregated60fraction )\n",
    "# equivalent to stats.f_oneway( aggregated60fraction[0] , aggregated60fraction[1] , ... )\n",
    "\n",
    "print('automated 1-way anova / F-test:')\n",
    "print('F-stat :',Fstat)\n",
    "print('p-value:',pval)\n"
   ]
  },
  {
   "cell_type": "code",
   "execution_count": 35,
   "metadata": {},
   "outputs": [
    {
     "data": {
      "text/html": [
       "<div>\n",
       "<style scoped>\n",
       "    .dataframe tbody tr th:only-of-type {\n",
       "        vertical-align: middle;\n",
       "    }\n",
       "\n",
       "    .dataframe tbody tr th {\n",
       "        vertical-align: top;\n",
       "    }\n",
       "\n",
       "    .dataframe thead th {\n",
       "        text-align: right;\n",
       "    }\n",
       "</style>\n",
       "<table border=\"1\" class=\"dataframe\">\n",
       "  <thead>\n",
       "    <tr style=\"text-align: right;\">\n",
       "      <th></th>\n",
       "      <th>mean</th>\n",
       "      <th>std</th>\n",
       "    </tr>\n",
       "    <tr>\n",
       "      <th>majority language</th>\n",
       "      <th></th>\n",
       "      <th></th>\n",
       "    </tr>\n",
       "  </thead>\n",
       "  <tbody>\n",
       "    <tr>\n",
       "      <th>French speakers</th>\n",
       "      <td>0.108322</td>\n",
       "      <td>0.030509</td>\n",
       "    </tr>\n",
       "    <tr>\n",
       "      <th>German speakers</th>\n",
       "      <td>0.094772</td>\n",
       "      <td>0.025665</td>\n",
       "    </tr>\n",
       "    <tr>\n",
       "      <th>Italian speakers</th>\n",
       "      <td>0.128571</td>\n",
       "      <td>0.030828</td>\n",
       "    </tr>\n",
       "    <tr>\n",
       "      <th>Romanche speakers</th>\n",
       "      <td>0.131764</td>\n",
       "      <td>0.034156</td>\n",
       "    </tr>\n",
       "  </tbody>\n",
       "</table>\n",
       "</div>"
      ],
      "text/plain": [
       "                       mean       std\n",
       "majority language                    \n",
       "French speakers    0.108322  0.030509\n",
       "German speakers    0.094772  0.025665\n",
       "Italian speakers   0.128571  0.030828\n",
       "Romanche speakers  0.131764  0.034156"
      ]
     },
     "execution_count": 35,
     "metadata": {},
     "output_type": "execute_result"
    }
   ],
   "source": [
    "# With this, it can be nice to report the mean and standard deviation of each groups\n",
    "dfFractionsSample.groupby('majority language')['60+ y.o.'].agg(['mean','std'])"
   ]
  },
  {
   "cell_type": "markdown",
   "metadata": {},
   "source": [
    "Note that the ANOVA only tests if there is at least one significant difference between groups.\n",
    "\n",
    "If you want to test for each differences, then **after an ANOVA**, we recommend [Tukey's honestly significant difference](https://docs.scipy.org/doc/scipy-1.8.1/reference/generated/scipy.stats.tukey_hsd.html)"
   ]
  },
  {
   "cell_type": "code",
   "execution_count": 36,
   "metadata": {},
   "outputs": [
    {
     "name": "stdout",
     "output_type": "stream",
     "text": [
      "Tukey's HSD Pairwise Group Comparisons (95.0% Confidence Interval)\n",
      "Comparison  Statistic  p-value  Lower CI  Upper CI\n",
      " (0 - 1)      0.014     0.499    -0.012     0.039\n",
      " (0 - 2)     -0.020     0.161    -0.046     0.005\n",
      " (0 - 3)     -0.023     0.079    -0.049     0.002\n",
      " (1 - 0)     -0.014     0.499    -0.039     0.012\n",
      " (1 - 2)     -0.034     0.004    -0.059    -0.009\n",
      " (1 - 3)     -0.037     0.001    -0.062    -0.012\n",
      " (2 - 0)      0.020     0.161    -0.005     0.046\n",
      " (2 - 1)      0.034     0.004     0.009     0.059\n",
      " (2 - 3)     -0.003     0.987    -0.028     0.022\n",
      " (3 - 0)      0.023     0.079    -0.002     0.049\n",
      " (3 - 1)      0.037     0.001     0.012     0.062\n",
      " (3 - 2)      0.003     0.987    -0.022     0.028\n",
      "\n"
     ]
    }
   ],
   "source": [
    "res = stats.tukey_hsd(*aggregated60fraction)\n",
    "print(res)"
   ]
  },
  {
   "cell_type": "code",
   "execution_count": 37,
   "metadata": {},
   "outputs": [
    {
     "name": "stdout",
     "output_type": "stream",
     "text": [
      "0 French speakers\n",
      "1 German speakers\n",
      "2 Italian speakers\n",
      "3 Romanche speakers\n"
     ]
    }
   ],
   "source": [
    "## the categories Ids correspond to the order in which the lists were provided:\n",
    "for i,n in enumerate(aggregated60fraction.index):\n",
    "    print(i,n)"
   ]
  },
  {
   "cell_type": "markdown",
   "metadata": {},
   "source": [
    "> Of course, there exists many other tests implemented in `scipy.stats` (as well as other libraries). Here is a little [cheat-sheet](https://machinelearningmastery.com/statistical-hypothesis-tests-in-python-cheat-sheet/) to help you explore this. \n",
    "\n",
    "> Scipy.stats documentation is also great!"
   ]
  },
  {
   "cell_type": "markdown",
   "metadata": {},
   "source": [
    "<br>\n",
    "<br>\n",
    "\n",
    "[back to toc](#toc)\n",
    "\n",
    "# 2. Correlation and linear regression <a id='reg'></a>\n",
    "-----------------------------------------------\n",
    "\n",
    "## 2.1 Correlation <a id='reg.1'></a>\n",
    "\n",
    "**Correlation** is a measure of the amount of relatedness between two measured variables. It comes in several flavours :\n",
    " * **Pearson's linear correlation** coefficient: for linear relationship only: **`stats.pearsonr(x,y)`**\n",
    " * **Spearman's rank correlation** coefficient: accepts non linear, but \"monotonic only\":\n",
    "   **`stats.spearmanr(x,y)`**\n",
    " * **Kendall's Tau**: relies on value order relation only, and is less influenced by the scale than\n",
    "   the two others: **`stats.kendalltau(x,y)`**\n",
    "\n"
   ]
  },
  {
   "cell_type": "code",
   "execution_count": null,
   "metadata": {},
   "outputs": [],
   "source": [
    "sigma=1./5\n",
    "\n",
    "linear=[[u,(u)/100+sigma*np.random.randn()] for u in range(10,500)]\n",
    "monotonic=[[u,50*(0.8**(u/10))+sigma*np.random.randn()] for u in range(10,500)]\n",
    "\n",
    "non_monotonic=[[u,(u)**3+3*u**2+sigma*np.random.randn()] for u in np.arange(-1,1,1./250)]\n",
    "\n",
    "together=[linear,monotonic,non_monotonic]\n",
    "plt.subplots(133,figsize=(15,5))\n",
    "for i in range(3):\n",
    "    plt.subplot(1,3,i+1)\n",
    "    x=[u[0] for u in together[i]]\n",
    "    y=[u[1] for u in together[i]]\n",
    "    plt.scatter(x,y)\n",
    "    plt.title('Pearson: {0:.3f}, Spearman: {1:.3f}, Kendall: {2:.3f}'.format(\n",
    "                                    stats.pearsonr(x,y)[0],##just like that\n",
    "                                    stats.spearmanr(x,y)[0],\n",
    "                                    stats.kendalltau(x,y)[0]))\n",
    "plt.tight_layout()    \n",
    "plt.show()\n"
   ]
  },
  {
   "cell_type": "markdown",
   "metadata": {},
   "source": [
    "[back to toc](#toc)\n",
    "\n",
    "<br>\n",
    "\n",
    "## 2.2 Regression <a id='reg.2'></a>\n",
    "\n",
    "Performing regression (linear or otherwise) is possible with `scipy`, but it is not the best.\n",
    "\n",
    "`statsmodels` offers much nicer options and statistical reports. Additionnally, this is a great opportunity to see together how to install a library. \n",
    "\n",
    "1. go to [https://www.statsmodels.org](https://www.statsmodels.org)\n",
    "2. click on the install page \n",
    "3. find the instruction for installation with Anaconda \n",
    "4. type the command in either a terminal (mac, linux) or in the anaconda-prompt (windows)\n"
   ]
  },
  {
   "cell_type": "code",
   "execution_count": null,
   "metadata": {},
   "outputs": [],
   "source": [
    "import statsmodels\n",
    "print(\"Module loaded successfully!\")"
   ]
  },
  {
   "cell_type": "markdown",
   "metadata": {},
   "source": [
    "<br>\n",
    "\n",
    "Let's load our data using pandas:"
   ]
  },
  {
   "cell_type": "code",
   "execution_count": null,
   "metadata": {},
   "outputs": [],
   "source": [
    "df_diabetes = pd.read_table(\"data/diabetes.csv\", sep=\",\")\n",
    "df_diabetes.head()"
   ]
  },
  {
   "cell_type": "code",
   "execution_count": null,
   "metadata": {},
   "outputs": [],
   "source": [
    "#pulling all the data together in the same dataFrame\n",
    "\n",
    "x = df_diabetes['bmi']                  # covariable bmi\n",
    "y = df_diabetes['disease progression']  # response variable disease progression\n",
    "\n",
    "\n",
    "fig, ax = plt.subplots(figsize=(10,10))  # setup graphical windows\n",
    "sns.scatterplot(x=x, y=y)                   # plot x versus y\n"
   ]
  },
  {
   "cell_type": "code",
   "execution_count": null,
   "metadata": {},
   "outputs": [],
   "source": [
    "stats.pearsonr(df_diabetes['bmi'],\n",
    "               df_diabetes['disease progression'] )"
   ]
  },
  {
   "cell_type": "code",
   "execution_count": null,
   "metadata": {},
   "outputs": [],
   "source": [
    "## We'll be using the statsmodel package, which computes a lot of cool metrics for you\n",
    "import statsmodels\n",
    "import statsmodels.api as sm\n",
    "\n",
    "X = sm.add_constant(x)## adding a intercept to the model\n",
    "model = sm.OLS(y, X)  ## defining an Ordinary Least Square variable\n",
    "results = model.fit() ## fitting it\n",
    "\n",
    "print( results.summary() )"
   ]
  },
  {
   "cell_type": "code",
   "execution_count": null,
   "metadata": {},
   "outputs": [],
   "source": [
    "## diagnostic plots :\n",
    "from statsmodels.graphics.gofplots import qqplot\n",
    "fig,axes = plt.subplots(1,2,figsize = (15,6))\n",
    "\n",
    "# plotting residuals (error of the model) vs. fitted values (prediction fo the model)\n",
    "# helps determine homoskedascticity and sphericity of errors  :\n",
    "# the points should show about the same spread all along the x axis, and be centered around 0.\n",
    "axes[0].scatter( results.fittedvalues , results.resid )\n",
    "axes[0].axhline(0.0 , color = 'grey')\n",
    "axes[0].set_xlabel('fitted values')\n",
    "axes[0].set_ylabel('residuals')\n",
    "\n",
    "# the QQplot (quantile-quantile plot) is  great plot to assess normality of the model's residual\n",
    "# basically points should stay close to the diagonal line if they follow something close to a normal distribution.\n",
    "qqplot(results.resid , ax = axes[1] , line='s') \n",
    "\n",
    "plt.show()\n",
    "\n"
   ]
  },
  {
   "cell_type": "code",
   "execution_count": null,
   "metadata": {},
   "outputs": [],
   "source": [
    "###Plotting the fit\n",
    "from statsmodels.sandbox.regression.predstd import wls_prediction_std\n",
    "\n",
    "# we obtain the predicted values for our model, as well as their 95% intervals\n",
    "prstd, iv_l, iv_u = wls_prediction_std(results) \n",
    "\n",
    "fig, ax = plt.subplots(figsize=(10,10))\n",
    "\n",
    "#ax.plot(x, y, 'o', label=\"data\")\n",
    "sns.scatterplot(x=x,y=y) # plot x versus y\n",
    "ax.plot(x, results.fittedvalues, 'r', label=\"OLS regression result\")\n",
    "ax.plot(x, iv_u, color='orange',linestyle='--' , label='95% fit interval')\n",
    "ax.plot(x, iv_l, color='orange',linestyle='--')\n",
    "ax.legend(loc='best',fontsize=10)\n",
    "#plt.yscale('log')"
   ]
  },
  {
   "cell_type": "markdown",
   "metadata": {},
   "source": [
    "<br>\n",
    "<br>\n",
    "<br>\n",
    "\n",
    "[back to toc](#toc)\n",
    "\n",
    "# Free form exercise <a id='exo'></a>\n",
    "---------------------------------\n",
    "\n",
    "Continuing on the free-form exercise from the previous notebook, take the few associations (2?4?) which you described and see how you could test/model them.\n",
    "\n",
    "\n",
    "The data is in the file `'data/heartData_simplified.csv'`\n",
    "\n",
    "### Description of the columns\n",
    "\n",
    "* age : Patient age in years\n",
    "* sex : Patient sex\n",
    "* chol : Cholesterol level in mg/dl. \n",
    "* thalach : Maxium heart rate during the stress test\n",
    "* oldpeak : Decrease of the ST segment during exercise according to the same one on rest.\n",
    "* ca : Number of main blood vessels coloured by the radioactive dye. The number varies between 0 to 3.\n",
    "* thal : Results of the blood flow observed via the radioactive dye.\n",
    "\t* defect -> fixed defect (no blood flow in some part of the heart)\n",
    "\t* normal -> normal blood flow\n",
    "\t* reversible -> reversible defect (a blood flow is observed but it is not normal)\n",
    "* target : Whether the patient has a heart disease or not\n",
    "\n"
   ]
  },
  {
   "cell_type": "code",
   "execution_count": null,
   "metadata": {},
   "outputs": [],
   "source": []
  },
  {
   "cell_type": "markdown",
   "metadata": {},
   "source": [
    "<br>\n",
    "<br>\n",
    "\n",
    "\n",
    "## Going further: using R-style formula in statsmodels\n",
    "\n",
    "If you have been doing some regression in R, you would have come across *formula*, where instead of different dataframes for dependent variable covariables, on gives a single `DataFrame` along with a formular of the type `y ~ x`.\n",
    "\n",
    "These offer a fairly simple and elegant way of specifying your model, with an efficient hamdling of intercepts, as well as interaction effects.\n",
    "\n",
    "Going into details on these formula is beyond the scope of this course, but we encourage you to go though this very well made tutorial: https://www.statsmodels.org/devel/example_formulas.html"
   ]
  }
 ],
 "metadata": {
  "kernelspec": {
   "display_name": "Environment (conda_py38)",
   "language": "python",
   "name": "conda_py38"
  },
  "language_info": {
   "codemirror_mode": {
    "name": "ipython",
    "version": 3
   },
   "file_extension": ".py",
   "mimetype": "text/x-python",
   "name": "python",
   "nbconvert_exporter": "python",
   "pygments_lexer": "ipython3",
   "version": "3.8.8"
  }
 },
 "nbformat": 4,
 "nbformat_minor": 2
}
