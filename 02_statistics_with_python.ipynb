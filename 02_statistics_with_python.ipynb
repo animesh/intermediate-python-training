{
 "cells": [
  {
   "cell_type": "markdown",
   "metadata": {},
   "source": [
    "# Doing statistics using python\n",
    "\n",
    "This notebook aims to present how to perform classical statiscial procedure as well as some amount of regression using various python libraries, such as `scipy`.\n",
    "\n",
    "It **does not aim to replace a course on statistics**, but rather focuses on the code aspect."
   ]
  },
  {
   "cell_type": "code",
   "execution_count": 1,
   "metadata": {},
   "outputs": [],
   "source": [
    "import matplotlib.pyplot as plt\n",
    "from IPython.display import Image\n",
    "import seaborn as sns\n",
    "import scipy.stats as stats \n",
    "import pandas as pd\n",
    "import numpy as np"
   ]
  },
  {
   "cell_type": "markdown",
   "metadata": {},
   "source": [
    "<br>\n",
    "\n",
    "# SciPy.stats and statistics in python\n",
    "\n",
    "\n",
    "SciPy references a comprehensive [project for scientific python programming](https://scipy.org) regrouping as well  as a [library](https://docs.scipy.org/doc/scipy/reference/) (which is part of the project) implementing various tools and algorithm for scientific software.\n",
    "\n",
    "Here we will give a few pointers on the `scipy.stats` library, which provides ways to interact with various random distribution functions, as well as implement numerous statistical tests.\n"
   ]
  },
  {
   "cell_type": "markdown",
   "metadata": {},
   "source": [
    "## manipulation of random distributions\n",
    "\n",
    "scipy.stats implements utilisties for a large number of continuous and discrete distributions :"
   ]
  },
  {
   "cell_type": "code",
   "execution_count": 2,
   "metadata": {},
   "outputs": [
    {
     "name": "stdout",
     "output_type": "stream",
     "text": [
      "number of continuous distributions: 101\n",
      "number of discrete distributions:   16\n"
     ]
    }
   ],
   "source": [
    "from scipy import stats\n",
    "\n",
    "dist_continu = [d for d in dir(stats) if isinstance(getattr(stats, d), stats.rv_continuous)]\n",
    "dist_discrete = [d for d in dir(stats) if isinstance(getattr(stats, d), stats.rv_discrete)]\n",
    "print('number of continuous distributions: %d' % len(dist_continu))\n",
    "print('number of discrete distributions:   %d' % len(dist_discrete))\n"
   ]
  },
  {
   "cell_type": "markdown",
   "metadata": {},
   "source": [
    "let's experiment with the normal distribution, or `norm` in `scipy.stats`\n",
    "\n",
    "\n",
    "A look at `help(stats.norm)` tells us that \n",
    "```\n",
    " |  The location (``loc``) keyword specifies the mean.\n",
    " |  The scale (``scale``) keyword specifies the standard deviation.\n",
    "```\n"
   ]
  },
  {
   "cell_type": "code",
   "execution_count": 3,
   "metadata": {},
   "outputs": [
    {
     "name": "stdout",
     "output_type": "stream",
     "text": [
      "(array(10.), array(4.))\n"
     ]
    }
   ],
   "source": [
    "## we can generate a specific normal distribution :\n",
    "N = stats.norm(loc = 10 , scale = 2)\n",
    "\n",
    "# the mean and variance of a distribution can be retrieved using the .stats method :\n",
    "print(N.stats())"
   ]
  },
  {
   "cell_type": "markdown",
   "metadata": {},
   "source": [
    "That object can then be used to interact with the distribution in many ways.\n",
    "\n",
    "\n",
    "### Drawing some random numbers : rvs"
   ]
  },
  {
   "cell_type": "code",
   "execution_count": 4,
   "metadata": {},
   "outputs": [
    {
     "data": {
      "text/plain": [
       "array([11.66724202, 10.02097068,  6.67449135,  9.76611358, 11.11929811,\n",
       "       10.86087944, 13.45102178, 10.92272727, 12.99817122,  7.78572383,\n",
       "        6.77524915,  7.16668799, 12.28093916, 12.03779454,  9.97363246,\n",
       "        5.90686355,  9.29481832, 13.45670282,  9.86054772,  9.23646014,\n",
       "       12.4806438 ,  9.44678232,  9.43395975,  9.25743032, 13.62518527,\n",
       "       10.2105332 ,  8.03811705, 10.14767352, 10.82669617, 10.18665253,\n",
       "       10.85720395, 10.79256221,  5.84598272, 10.15808237, 10.32289784,\n",
       "        8.02523472, 11.39017754,  7.39968379,  9.87609605,  9.18399916,\n",
       "       10.61994776, 11.89930776,  8.01032451, 10.76460052,  9.76905002,\n",
       "        8.93315473,  9.87011339, 10.39161869, 10.04334884, 10.40415934])"
      ]
     },
     "execution_count": 4,
     "metadata": {},
     "output_type": "execute_result"
    }
   ],
   "source": [
    "# draw some random number in this distribution : rvs\n",
    "# the size argument is 1 or several integers and defines the dimensions of the returned arrays of random numbers\n",
    "N.rvs(size = [50]) "
   ]
  },
  {
   "cell_type": "code",
   "execution_count": 5,
   "metadata": {},
   "outputs": [
    {
     "data": {
      "text/plain": [
       "(array([  13.,   87.,  304.,  694., 1148., 1272.,  879.,  443.,  124.,\n",
       "          36.]),\n",
       " array([ 3.24549545,  4.55229161,  5.85908776,  7.16588392,  8.47268008,\n",
       "         9.77947624, 11.0862724 , 12.39306856, 13.69986472, 15.00666088,\n",
       "        16.31345704]),\n",
       " <BarContainer object of 10 artists>)"
      ]
     },
     "execution_count": 5,
     "metadata": {},
     "output_type": "execute_result"
    },
    {
     "data": {
      "image/png": "[encoded data removed]",
      "text/plain": [
       "<Figure size 432x288 with 1 Axes>"
      ]
     },
     "metadata": {
      "needs_background": "light"
     },
     "output_type": "display_data"
    }
   ],
   "source": [
    "plt.hist( N.rvs(size = [5000])  ) "
   ]
  },
  {
   "cell_type": "markdown",
   "metadata": {},
   "source": [
    "as with any drawing of random variable on a computer, [one merely emulates randomness](https://en.wikipedia.org/wiki/Pseudorandom_number_generator). This also means that one can make some random operation reproducible by setting up the random seed.\n",
    "\n"
   ]
  },
  {
   "cell_type": "code",
   "execution_count": 6,
   "metadata": {},
   "outputs": [
    {
     "name": "stdout",
     "output_type": "stream",
     "text": [
      "Are the ramdom draws equal? [ True  True  True  True  True]\n",
      "[12.97721811 11.35202174  9.16309726  8.38695837 11.11175166]\n",
      "[12.97721811 11.35202174  9.16309726  8.38695837 11.11175166]\n"
     ]
    }
   ],
   "source": [
    "import numpy as np\n",
    "np.random.seed(2021) # we set the random seed\n",
    "draw1 = N.rvs(size=5)\n",
    "np.random.seed(2021) # we set the random seed back to 2021\n",
    "draw2 = N.rvs(size=5)\n",
    "print(\"Are the ramdom draws equal?\",draw1 == draw2)\n",
    "print(draw1)\n",
    "print(draw2)"
   ]
  },
  {
   "cell_type": "markdown",
   "metadata": {},
   "source": [
    "### Looking up the quantiles and probability density functions\n"
   ]
  },
  {
   "cell_type": "code",
   "execution_count": 7,
   "metadata": {},
   "outputs": [
    {
     "data": {
      "image/png": "[encoded data removed]",
      "text/plain": [
       "<Figure size 432x288 with 1 Axes>"
      ]
     },
     "metadata": {
      "needs_background": "light"
     },
     "output_type": "display_data"
    },
    {
     "name": "stdout",
     "output_type": "stream",
     "text": [
      "what is the probability of drawing a number <=15.0 ? 0.9937903346742238\n",
      "quantiles: [0.025, 0.5, 0.975] -> [ 6.08007203 10.         13.91992797]\n"
     ]
    }
   ],
   "source": [
    "#  pdf: Probability Density Function\n",
    "# I know this is not the plotting lesson, but here is a small recipe to plot the distribution\n",
    "import matplotlib.pyplot as plt \n",
    "X = np.arange(0,20,0.1)\n",
    "plt.plot( X , N.pdf(X) )\n",
    "plt.show()\n",
    "\n",
    "#    cdf: Cumulative Distribution Function\n",
    "print('what is the probability of drawing a number <=15.0 ?' ,  N.cdf(15.0)) \n",
    "\n",
    "\n",
    "#    ppf: Percent Point Function (Inverse of CDF) , gives the quantiles of the distribution\n",
    "P = [0.025,0.5,0.975]\n",
    "Q = N.ppf(P)\n",
    "print( 'quantiles:', P , '->' , Q )\n"
   ]
  },
  {
   "cell_type": "code",
   "execution_count": 8,
   "metadata": {},
   "outputs": [
    {
     "data": {
      "image/png": "[encoded data removed]",
      "text/plain": [
       "<Figure size 432x288 with 1 Axes>"
      ]
     },
     "metadata": {
      "needs_background": "light"
     },
     "output_type": "display_data"
    }
   ],
   "source": [
    "# For discrete distribution these rules change a bit , the pdf function is replaced by pmf:\n",
    "X = np.arange(0,10)\n",
    "plt.scatter( X , stats.binom.pmf( X ,  n = 10 , p = 0.5 ) ) # binomial distribution with 10 draws and a 0.5 probability of success\n",
    "plt.show()"
   ]
  },
  {
   "cell_type": "markdown",
   "metadata": {},
   "source": [
    "Most distributions have a certain number of **parameters** which may control their overall **shape, location or scale**.\n",
    "\n",
    "For Instance the normal law has two parameters : its mean ($\\mu$) and its standard deviation ($\\sigma$), which respectively control its location and scale. In `scipy`, these are expressed in terms of `loc` (location) and `scale`."
   ]
  },
  {
   "cell_type": "code",
   "execution_count": 9,
   "metadata": {
    "scrolled": true
   },
   "outputs": [
    {
     "data": {
      "text/plain": [
       "<matplotlib.legend.Legend at 0x7f605a6650a0>"
      ]
     },
     "execution_count": 9,
     "metadata": {},
     "output_type": "execute_result"
    },
    {
     "data": {
      "image/png": "[encoded data removed]",
      "text/plain": [
       "<Figure size 1008x504 with 1 Axes>"
      ]
     },
     "metadata": {
      "needs_background": "light"
     },
     "output_type": "display_data"
    }
   ],
   "source": [
    "x = np.linspace(-10,10, 100) # 100 equally separated points between -5 and 5\n",
    "fig, ax = plt.subplots(figsize=(14, 7))\n",
    "\n",
    "a= sns.lineplot(x=x, y=stats.norm.pdf(x , loc = 0 , scale = 1) , ax = ax , label='mean= 0 , stdev=1')\n",
    "sns.lineplot(x=x, y=stats.norm.pdf(x , loc = -2 , scale = 1 ) , ax = ax , label='mean=-2 , stdev=1')\n",
    "sns.lineplot(x=x, y=stats.norm.pdf(x , loc = 1 , scale = 3 ) , ax = ax , label='mean= 1 , stdev=3')\n",
    "\n",
    "a.set(xlabel='value', ylabel='density')\n",
    "a.set_title('normal law - probability density function')\n",
    "ax.legend()"
   ]
  },
  {
   "cell_type": "markdown",
   "metadata": {},
   "source": [
    "## t-test\n",
    "\n",
    "The **t-test** is used to determine if the means of two samples (drawn from 2 sub-populations for instance) are significantly different.\n",
    "\n",
    "It is a widely used test, with important but not overly complex assumptions:\n",
    " * independence of data points\n",
    " * the means of each sample should follow normal distributions\n",
    " * *the two sample share the came variance* <- different flavors of the test depending on that one."
   ]
  },
  {
   "cell_type": "code",
   "execution_count": 10,
   "metadata": {},
   "outputs": [
    {
     "data": {
      "text/plain": [
       "<seaborn.axisgrid.FacetGrid at 0x7f605a640520>"
      ]
     },
     "execution_count": 10,
     "metadata": {},
     "output_type": "execute_result"
    },
    {
     "data": {
      "image/png": "[encoded data removed]",
      "text/plain": [
       "<Figure size 360x360 with 1 Axes>"
      ]
     },
     "metadata": {
      "needs_background": "light"
     },
     "output_type": "display_data"
    }
   ],
   "source": [
    "mice_data = pd.read_csv( 'data/mice_data.csv' ) # data about the weight of mices of different genotypes and subjected to different diets\n",
    "sns.catplot(x='weight' , y='genotype' , data=mice_data , kind='violin')"
   ]
  },
  {
   "cell_type": "code",
   "execution_count": 11,
   "metadata": {},
   "outputs": [
    {
     "name": "stdout",
     "output_type": "stream",
     "text": [
      "test statistic : \t0.18836850422505863\n",
      "p-value : \t0.8514498629523397\n"
     ]
    }
   ],
   "source": [
    "WTdata = mice_data['weight'][ mice_data['genotype'] == 'WT' ]\n",
    "KOdata = mice_data['weight'][ mice_data['genotype'] == 'KO' ]\n",
    "\n",
    "tstat , pval = stats.ttest_ind( KOdata , WTdata , equal_var=False)#use equal_var=True if you have tested for variance equality\n",
    "print('test statistic : ',tstat , sep='\\t')\n",
    "print('p-value : ',pval , sep='\\t')"
   ]
  },
  {
   "cell_type": "markdown",
   "metadata": {},
   "source": [
    "**micro exercise :** there is another column in the data-set : `diet`, which can take the values `\"HFD\"` and `\"CHOW\"`. Perform a t-test exactly as before, but splitting mice by their `diet` rather than their `genotype`."
   ]
  },
  {
   "cell_type": "code",
   "execution_count": 12,
   "metadata": {},
   "outputs": [
    {
     "data": {
      "text/html": [
       "<div>\n",
       "<style scoped>\n",
       "    .dataframe tbody tr th:only-of-type {\n",
       "        vertical-align: middle;\n",
       "    }\n",
       "\n",
       "    .dataframe tbody tr th {\n",
       "        vertical-align: top;\n",
       "    }\n",
       "\n",
       "    .dataframe thead th {\n",
       "        text-align: right;\n",
       "    }\n",
       "</style>\n",
       "<table border=\"1\" class=\"dataframe\">\n",
       "  <thead>\n",
       "    <tr style=\"text-align: right;\">\n",
       "      <th></th>\n",
       "      <th>diet</th>\n",
       "      <th>genotype</th>\n",
       "      <th>weight</th>\n",
       "    </tr>\n",
       "  </thead>\n",
       "  <tbody>\n",
       "    <tr>\n",
       "      <th>0</th>\n",
       "      <td>HFD</td>\n",
       "      <td>WT</td>\n",
       "      <td>31.2</td>\n",
       "    </tr>\n",
       "    <tr>\n",
       "      <th>1</th>\n",
       "      <td>HFD</td>\n",
       "      <td>WT</td>\n",
       "      <td>32.1</td>\n",
       "    </tr>\n",
       "    <tr>\n",
       "      <th>2</th>\n",
       "      <td>HFD</td>\n",
       "      <td>WT</td>\n",
       "      <td>30.3</td>\n",
       "    </tr>\n",
       "    <tr>\n",
       "      <th>3</th>\n",
       "      <td>HFD</td>\n",
       "      <td>WT</td>\n",
       "      <td>45.0</td>\n",
       "    </tr>\n",
       "    <tr>\n",
       "      <th>4</th>\n",
       "      <td>HFD</td>\n",
       "      <td>WT</td>\n",
       "      <td>39.2</td>\n",
       "    </tr>\n",
       "  </tbody>\n",
       "</table>\n",
       "</div>"
      ],
      "text/plain": [
       "  diet genotype  weight\n",
       "0  HFD       WT    31.2\n",
       "1  HFD       WT    32.1\n",
       "2  HFD       WT    30.3\n",
       "3  HFD       WT    45.0\n",
       "4  HFD       WT    39.2"
      ]
     },
     "execution_count": 12,
     "metadata": {},
     "output_type": "execute_result"
    }
   ],
   "source": [
    "mice_data.head()"
   ]
  },
  {
   "cell_type": "code",
   "execution_count": 13,
   "metadata": {},
   "outputs": [
    {
     "data": {
      "text/plain": [
       "<seaborn.axisgrid.FacetGrid at 0x7f605a559b80>"
      ]
     },
     "execution_count": 13,
     "metadata": {},
     "output_type": "execute_result"
    },
    {
     "data": {
      "image/png": "[encoded data removed]",
      "text/plain": [
       "<Figure size 360x360 with 1 Axes>"
      ]
     },
     "metadata": {
      "needs_background": "light"
     },
     "output_type": "display_data"
    }
   ],
   "source": [
    "sns.catplot(x='weight' , y='diet' , data=mice_data , kind='violin')"
   ]
  },
  {
   "cell_type": "code",
   "execution_count": 14,
   "metadata": {},
   "outputs": [
    {
     "name": "stdout",
     "output_type": "stream",
     "text": [
      "test statistic : \t-7.738758252909616\n",
      "p-value : \t9.244177959442075e-10\n"
     ]
    }
   ],
   "source": [
    "data1 = mice_data['weight'][ mice_data['diet'] == 'CHOW' ]\n",
    "data2 = mice_data['weight'][ mice_data['diet'] == 'HFD' ]\n",
    "\n",
    "tstat , pval = stats.ttest_ind( data1 , data2 , equal_var=False)#use equal_var=True if you have tested for variance equality\n",
    "print('test statistic : ',tstat , sep='\\t')\n",
    "print('p-value : ',pval , sep='\\t')"
   ]
  },
  {
   "cell_type": "code",
   "execution_count": 15,
   "metadata": {},
   "outputs": [
    {
     "name": "stdout",
     "output_type": "stream",
     "text": [
      "Help on function ttest_ind in module scipy.stats.stats:\n",
      "\n",
      "ttest_ind(a, b, axis=0, equal_var=True, nan_policy='propagate', alternative='two-sided')\n",
      "    Calculate the T-test for the means of *two independent* samples of scores.\n",
      "    \n",
      "    This is a two-sided test for the null hypothesis that 2 independent samples\n",
      "    have identical average (expected) values. This test assumes that the\n",
      "    populations have identical variances by default.\n",
      "    \n",
      "    Parameters\n",
      "    ----------\n",
      "    a, b : array_like\n",
      "        The arrays must have the same shape, except in the dimension\n",
      "        corresponding to `axis` (the first, by default).\n",
      "    axis : int or None, optional\n",
      "        Axis along which to compute test. If None, compute over the whole\n",
      "        arrays, `a`, and `b`.\n",
      "    equal_var : bool, optional\n",
      "        If True (default), perform a standard independent 2 sample test\n",
      "        that assumes equal population variances [1]_.\n",
      "        If False, perform Welch's t-test, which does not assume equal\n",
      "        population variance [2]_.\n",
      "    \n",
      "        .. versionadded:: 0.11.0\n",
      "    nan_policy : {'propagate', 'raise', 'omit'}, optional\n",
      "        Defines how to handle when input contains nan.\n",
      "        The following options are available (default is 'propagate'):\n",
      "    \n",
      "          * 'propagate': returns nan\n",
      "          * 'raise': throws an error\n",
      "          * 'omit': performs the calculations ignoring nan values\n",
      "    alternative : {'two-sided', 'less', 'greater'}, optional\n",
      "        Defines the alternative hypothesis.\n",
      "        The following options are available (default is 'two-sided'):\n",
      "    \n",
      "          * 'two-sided'\n",
      "          * 'less': one-sided\n",
      "          * 'greater': one-sided\n",
      "    \n",
      "        .. versionadded:: 1.6.0\n",
      "    \n",
      "    Returns\n",
      "    -------\n",
      "    statistic : float or array\n",
      "        The calculated t-statistic.\n",
      "    pvalue : float or array\n",
      "        The two-tailed p-value.\n",
      "    \n",
      "    Notes\n",
      "    -----\n",
      "    We can use this test, if we observe two independent samples from\n",
      "    the same or different population, e.g. exam scores of boys and\n",
      "    girls or of two ethnic groups. The test measures whether the\n",
      "    average (expected) value differs significantly across samples. If\n",
      "    we observe a large p-value, for example larger than 0.05 or 0.1,\n",
      "    then we cannot reject the null hypothesis of identical average scores.\n",
      "    If the p-value is smaller than the threshold, e.g. 1%, 5% or 10%,\n",
      "    then we reject the null hypothesis of equal averages.\n",
      "    \n",
      "    References\n",
      "    ----------\n",
      "    .. [1] https://en.wikipedia.org/wiki/T-test#Independent_two-sample_t-test\n",
      "    \n",
      "    .. [2] https://en.wikipedia.org/wiki/Welch%27s_t-test\n",
      "    \n",
      "    Examples\n",
      "    --------\n",
      "    >>> from scipy import stats\n",
      "    >>> np.random.seed(12345678)\n",
      "    \n",
      "    Test with sample with identical means:\n",
      "    \n",
      "    >>> rvs1 = stats.norm.rvs(loc=5,scale=10,size=500)\n",
      "    >>> rvs2 = stats.norm.rvs(loc=5,scale=10,size=500)\n",
      "    >>> stats.ttest_ind(rvs1,rvs2)\n",
      "    (0.26833823296239279, 0.78849443369564776)\n",
      "    >>> stats.ttest_ind(rvs1,rvs2, equal_var = False)\n",
      "    (0.26833823296239279, 0.78849452749500748)\n",
      "    \n",
      "    `ttest_ind` underestimates p for unequal variances:\n",
      "    \n",
      "    >>> rvs3 = stats.norm.rvs(loc=5, scale=20, size=500)\n",
      "    >>> stats.ttest_ind(rvs1, rvs3)\n",
      "    (-0.46580283298287162, 0.64145827413436174)\n",
      "    >>> stats.ttest_ind(rvs1, rvs3, equal_var = False)\n",
      "    (-0.46580283298287162, 0.64149646246569292)\n",
      "    \n",
      "    When n1 != n2, the equal variance t-statistic is no longer equal to the\n",
      "    unequal variance t-statistic:\n",
      "    \n",
      "    >>> rvs4 = stats.norm.rvs(loc=5, scale=20, size=100)\n",
      "    >>> stats.ttest_ind(rvs1, rvs4)\n",
      "    (-0.99882539442782481, 0.3182832709103896)\n",
      "    >>> stats.ttest_ind(rvs1, rvs4, equal_var = False)\n",
      "    (-0.69712570584654099, 0.48716927725402048)\n",
      "    \n",
      "    T-test with different means, variance, and n:\n",
      "    \n",
      "    >>> rvs5 = stats.norm.rvs(loc=8, scale=20, size=100)\n",
      "    >>> stats.ttest_ind(rvs1, rvs5)\n",
      "    (-1.4679669854490653, 0.14263895620529152)\n",
      "    >>> stats.ttest_ind(rvs1, rvs5, equal_var = False)\n",
      "    (-0.94365973617132992, 0.34744170334794122)\n",
      "\n"
     ]
    }
   ],
   "source": [
    "help( stats.ttest_ind )"
   ]
  },
  {
   "cell_type": "markdown",
   "metadata": {},
   "source": [
    "## statistical power calculations\n",
    "\n",
    "For wome widely used tests, functions let you automatically compute statistical power for a given effect size or sample size "
   ]
  },
  {
   "cell_type": "code",
   "execution_count": 16,
   "metadata": {},
   "outputs": [
    {
     "name": "stdout",
     "output_type": "stream",
     "text": [
      "power: 0.5620066386966457\n"
     ]
    }
   ],
   "source": [
    "from statsmodels.stats.power import TTestIndPower\n",
    "\n",
    "\n",
    "mean_difference=1\n",
    "standard_dev=1\n",
    "sample_size=10\n",
    "\n",
    "effect_size = mean_difference/standard_dev\n",
    "\n",
    "P = TTestIndPower()\n",
    "print( 'power:' , P.power(effect_size=effect_size , nobs1=sample_size , ratio=1 , alpha=0.05) )"
   ]
  },
  {
   "cell_type": "markdown",
   "metadata": {},
   "source": [
    "**Calculating statistical power can help inform our experimental design**. \n",
    "\n",
    "For example, how many observation per sample do we need if we want to detect a difference in mean of 1 with significance level (type I error) 0.01 and statistical power 0.80:"
   ]
  },
  {
   "cell_type": "code",
   "execution_count": 17,
   "metadata": {},
   "outputs": [
    {
     "name": "stdout",
     "output_type": "stream",
     "text": [
      "minimum sample size: 25.066708773444212\n"
     ]
    },
    {
     "name": "stderr",
     "output_type": "stream",
     "text": [
      "/home/wandrille/Installed_software/anaconda3/envs/py38/lib/python3.8/site-packages/seaborn/_decorators.py:36: FutureWarning: Pass the following variables as keyword args: x, y. From version 0.12, the only valid positional argument will be `data`, and passing other arguments without an explicit keyword will result in an error or misinterpretation.\n",
      "  warnings.warn(\n"
     ]
    },
    {
     "data": {
      "image/png": "[encoded data removed]",
      "text/plain": [
       "<Figure size 1008x504 with 1 Axes>"
      ]
     },
     "metadata": {
      "needs_background": "light"
     },
     "output_type": "display_data"
    }
   ],
   "source": [
    "effect_size=1\n",
    "sig_threshold = 0.01\n",
    "P = TTestIndPower()\n",
    "\n",
    "powers = []\n",
    "for sample_size in range(2,50):\n",
    "    powers.append( P.power(effect_size=effect_size , nobs1=sample_size , ratio=1 , alpha=sig_threshold) )\n",
    "\n",
    "fig,ax=plt.subplots(figsize=(14,7))\n",
    "sns.lineplot(range(2,50) , powers , label = 'effect size='+str(effect_size) , ax=ax)\n",
    "ax.axhline(0.8, color='r', linestyle='-')\n",
    "ax.set(xlabel='sample size', ylabel='power')\n",
    "\n",
    "\n",
    "## or, directly:\n",
    "print( 'minimum sample size:', P.solve_power(effect_size=effect_size , nobs1=None ,  ratio=1 , alpha=sig_threshold , power = 0.8))"
   ]
  },
  {
   "cell_type": "markdown",
   "metadata": {},
   "source": [
    "\n",
    "## Multiple hypothesis testing\n",
    "\n",
    "Recall the definition of the p-value: the probability of obtaining a test statistic at least as extreme as the one observed, **if the null hypothesis is true**\n",
    "\n",
    "Thus, *even* if the p-value is, let's say, 0.04, there is still a 4% chance of obtaining such an extreme result by chance.\n",
    "\n",
    "This is often acceptable if we only perform one test, if we perform many tests we have seen (with the simulations), that even when there is no real effect some tests will turn out significant by chance.\n",
    "\n",
    "> This is the definition of the $\\alpha$ risk fo type I error is.\n",
    "\n",
    "Of course, this has important implication for science and the relevance of our results."
   ]
  },
  {
   "cell_type": "markdown",
   "metadata": {},
   "source": [
    "![image.png](img/xkcd882.png)"
   ]
  },
  {
   "cell_type": "markdown",
   "metadata": {},
   "source": [
    "> source : [xkcd](http://xkcd.com) (note: there are many relevant xkcd strips for everything related to stats/programming courses)"
   ]
  },
  {
   "cell_type": "code",
   "execution_count": 19,
   "metadata": {},
   "outputs": [
    {
     "name": "stderr",
     "output_type": "stream",
     "text": [
      "/home/wandrille/Installed_software/anaconda3/envs/py38/lib/python3.8/site-packages/seaborn/_decorators.py:36: FutureWarning: Pass the following variables as keyword args: x, y. From version 0.12, the only valid positional argument will be `data`, and passing other arguments without an explicit keyword will result in an error or misinterpretation.\n",
      "  warnings.warn(\n"
     ]
    },
    {
     "data": {
      "text/plain": [
       "[Text(0.5, 0, 'number of tests'),\n",
       " Text(0, 0.5, 'probability of at least 1 test significant by chance')]"
      ]
     },
     "execution_count": 19,
     "metadata": {},
     "output_type": "execute_result"
    },
    {
     "data": {
      "image/png": "[encoded data removed]",
      "text/plain": [
       "<Figure size 1008x504 with 1 Axes>"
      ]
     },
     "metadata": {
      "needs_background": "light"
     },
     "output_type": "display_data"
    }
   ],
   "source": [
    "P = np.array([1, 2, 5, 10, 50, 100])\n",
    "fig,ax=plt.subplots(figsize=(14,7))\n",
    "sns.lineplot( P , 1- 0.95**P ,ax=ax)\n",
    "ax.set(xlabel='number of tests', ylabel='probability of at least 1 test significant by chance')"
   ]
  },
  {
   "cell_type": "markdown",
   "metadata": {},
   "source": [
    "\n",
    "\n",
    "We need to change perspective.\n",
    "Instead of trying to limit the false positive probability for *each* test, we focus on:\n",
    "* the probability of obtaining **any** false positives (family-wise error rate, **FWER**)\n",
    "* the proportion of false positives among all findings (false discovery rate, **FDR**)\n",
    "\n",
    "> Controlling the FWER is often too stringent - limit type I errors, but get lots of type II errors. \n",
    "\n",
    "### The Bonferroni method for controlling the FWER\n",
    "\n",
    "- Assume we are performing $N$ tests\n",
    "- To control the FWER at (e.g.) 0.05, only call variables with p-values below $0.05/N$ significant\n",
    "\n",
    "### The Benjamini-Hochberg method for controlling the FDR\n",
    "\n",
    "- Assume we are performing $N$ tests\n",
    "- Intuition: for each p-value threshold $\\alpha$, we can estimate the number of false discoveries by $\\alpha N$\n",
    "- Compare this to the actual number of discoveries at the threshold - $N_\\alpha$\n",
    "- Choose a p-value threshold $\\alpha$ such that $\\alpha N/N_\\alpha$ is less than a desired threshold (e.g. 0.05) - this threshold would give an expected FDR of 0.05\n",
    "- Note that the FDR is truly a property of a *set* - in a set of genes with FDR = 0.05, we can expect around 5% to be false discoveries. However, we don't know *which* ones! It could be the most significant!\n",
    "- Often, we want a gene-wise measure of significance (like the p-value)\n",
    "- The q-value, or adjusted p-value, of a variable is the *smallest* FDR we have to accept in order to call that variable significant.\n",
    "- For example, if the adjusted p-value is 0.2, we have to accept that if we want to call this variable (and consequently, all variables with lower p-values) significant, there will be approximately 20% false discoveries among them.\n"
   ]
  },
  {
   "cell_type": "code",
   "execution_count": 20,
   "metadata": {},
   "outputs": [],
   "source": [
    "# imagine we perform 10 000 tests of 10 000 random data-sets\n",
    "pvals = []\n",
    "\n",
    "N=10000\n",
    "mean_difference=0 # no differences -> any detected difference is due to chance\n",
    "sample_size = 100\n",
    "std=1\n",
    "\n",
    "for i in range(N):\n",
    "    t , pval_ttest = stats.ttest_ind( np.random.randn( sample_size ) * std , \n",
    "                                     np.random.randn( sample_size ) * std + mean_difference ,equal_var=True)\n",
    "    \n",
    "    pvals.append(pval_ttest)\n",
    "pvals = np.array(pvals)\n",
    "# stats models proposes a function implementing numerous p-value correction methods\n",
    "# https://www.statsmodels.org/dev/generated/statsmodels.stats.multitest.multipletests.html\n",
    "\n",
    "from statsmodels.stats.multitest import multipletests\n",
    "\n",
    "rejected,fwers,alphacSidak,alphacBonf = multipletests(pvals, alpha=0.05, method='bonferroni')\n",
    "rejected,fdrs,alphacSidak,alphacBonf = multipletests(pvals, alpha=0.05, method='fdr_bh')"
   ]
  },
  {
   "cell_type": "code",
   "execution_count": 21,
   "metadata": {},
   "outputs": [
    {
     "name": "stdout",
     "output_type": "stream",
     "text": [
      "Fraction of (spuriously) significant tests:\n",
      "p-value: 0.0496\n",
      "FWER   : 0.0\n",
      "FDR    : 0.0\n"
     ]
    },
    {
     "data": {
      "text/plain": [
       "<matplotlib.legend.Legend at 0x7f605a172220>"
      ]
     },
     "execution_count": 21,
     "metadata": {},
     "output_type": "execute_result"
    },
    {
     "data": {
      "image/png": "[encoded data removed]",
      "text/plain": [
       "<Figure size 1008x504 with 1 Axes>"
      ]
     },
     "metadata": {
      "needs_background": "light"
     },
     "output_type": "display_data"
    }
   ],
   "source": [
    "fig,ax=plt.subplots(figsize=(14,7))\n",
    "sns.histplot( pvals ,bins = np.arange(0,1.05,0.01) ,  ax = ax , label = 'p-value' , color='blue')\n",
    "sns.histplot( fwers ,bins = np.arange(0,1.05,0.01) ,   ax = ax , label = 'FWER' , color='yellow')\n",
    "sns.histplot( fdrs  ,bins = np.arange(0,1.05,0.01) ,  ax = ax , label = 'FDR' , color='green')\n",
    "\n",
    "print('Fraction of (spuriously) significant tests:')\n",
    "print('p-value:' , sum(pvals<0.05)/N )\n",
    "print('FWER   :' , sum(fwers<0.05)/N )\n",
    "print('FDR    :' , sum(fdrs <0.05)/N )\n",
    "plt.legend()"
   ]
  },
  {
   "cell_type": "markdown",
   "metadata": {},
   "source": [
    "# Fisher's exact test and the Chi-square test\n",
    "\n",
    "These two tests have for object the association between 2 categorical variables.\n",
    "\n",
    "Their **null hypothesis** is the absence of association between the two variable.\n",
    "\n",
    "\n",
    "**Fisher's exact test**, as its name entails, computes a p-value which is exact, even for very low smaple sizes. However it becomes computationnaly complex to compute as the data set size or number of categories gets high.\n",
    "\n",
    "The **Chi-square test**, in contrast, uses an approximation of the exact p-value which is only valid when samples are big enough. However, it scales well to larger samples sizes and number of categories.\n",
    "\n",
    "\n",
    "Both tests start from a **contingency table**.\n",
    "\n",
    "We are going to use as example the historical [Lady tasting tea](https://en.wikipedia.org/wiki/Lady_tasting_tea).\n",
    "\n",
    "|  | detected as milk before | detected as milk after | marginal sums |\n",
    "|---|---|---|---|\n",
    "| **milk before** | 3 | 1 | **4** |\n",
    "| **milk after** | 1 | 3 | **4** |\n",
    "| **marginal sums**  | **4** | **4** | **8** |\n",
    "\n",
    "In our experiment, the lady was able to correctly identify 6 out of 8 cups.\n",
    "\n",
    "\n",
    "\n"
   ]
  },
  {
   "cell_type": "code",
   "execution_count": 22,
   "metadata": {},
   "outputs": [
    {
     "name": "stdout",
     "output_type": "stream",
     "text": [
      "Fisher's exact test\n",
      "\todds ratio: 9.0\n",
      "\tp-value: 0.48571428571428527\n",
      "Chi-square test\n",
      "\tchi2: 2.0\n",
      "\tp-value: 0.15729920705028105\n"
     ]
    }
   ],
   "source": [
    "## fisher exact test\n",
    "\n",
    "table = [[3,1],[1,3]]\n",
    "\n",
    "oddsratio , pvalue = stats.fisher_exact(table)\n",
    "print(\"Fisher's exact test\")\n",
    "print('\\todds ratio:',oddsratio)\n",
    "print('\\tp-value:',pvalue)\n",
    "\n",
    "### chi square\n",
    "chi2,pval , df, expected = stats.chi2_contingency(table , correction=False)\n",
    "print(\"Chi-square test\")\n",
    "print('\\tchi2:', chi2)\n",
    "print('\\tp-value:', pval)"
   ]
  },
  {
   "cell_type": "markdown",
   "metadata": {},
   "source": [
    "You can see here that the returned p-value is quite different from the one given by Fisher's exact test.\n",
    "\n",
    "> note that here we use `correction=False` as by default scipy implementation uses [Yates's correction](https://en.wikipedia.org/wiki/Yates%27s_correction_for_continuity), which is useful when the effectives are low. Try the same lines with the correction to see the difference.\n",
    "\n"
   ]
  },
  {
   "cell_type": "markdown",
   "metadata": {},
   "source": [
    "Let's imagine now that we have a many cups and very patient lady so that the contigency table looks like this:\n",
    "\n",
    "|  | detected as milk before | detected as milk after | marginal sums |\n",
    "|---|---|---|---|\n",
    "| **milk before** | 25 | 15 | **40** |\n",
    "| **milk after** | 18 | 22 | **40** |\n",
    "| **marginal sums**  | **40** | **40** | **80** |\n",
    "\n"
   ]
  },
  {
   "cell_type": "code",
   "execution_count": 23,
   "metadata": {},
   "outputs": [
    {
     "name": "stdout",
     "output_type": "stream",
     "text": [
      "Fisher's exact test\n",
      "\todds ratio: 2.037037037037037\n",
      "\tp-value: 0.17815079712391613\n",
      "Chi-square test\n",
      "\tchi2: 2.4638592080452546\n",
      "\tp-value: 0.11649225257988546\n"
     ]
    }
   ],
   "source": [
    "table = [[25,15],[18,22]]\n",
    "\n",
    "oddsratio , pvalue = stats.fisher_exact(table)\n",
    "print(\"Fisher's exact test\")\n",
    "print('\\todds ratio:',oddsratio)\n",
    "print('\\tp-value:',pvalue)\n",
    "\n",
    "chi2,pval , df, expected = stats.chi2_contingency(table , correction=False)\n",
    "print(\"Chi-square test\")\n",
    "print('\\tchi2:', chi2)\n",
    "print('\\tp-value:', pval)"
   ]
  },
  {
   "cell_type": "markdown",
   "metadata": {},
   "source": [
    "You can see that the p-value of the Chi-square test is now much closer to that of Fisher's exact test."
   ]
  },
  {
   "cell_type": "markdown",
   "metadata": {},
   "source": [
    "# Excercise\n",
    "\n",
    "Come back to the census data from 1880, in particular in the file `'census1880_fractions.csv'` file we have kept the data as fraction and created a few categories.\n",
    "\n",
    "Test the association between majority religion (`'majority_religion'`) and majority language (`'majority_language'`).\n",
    "\n",
    "> Tip: to create a contingency table :\n",
    "\n",
    "> ```table = pd.crosstab( dfFractions['majority religion'] , dfFractions['majority language'] )```\n",
    "\n",
    "\n",
    "**extra question if you have the time :** How could you make Fisher's test work here?"
   ]
  },
  {
   "cell_type": "code",
   "execution_count": 24,
   "metadata": {},
   "outputs": [],
   "source": [
    "dfFractions = pd.read_csv('data/census1880_fractions.csv')"
   ]
  },
  {
   "cell_type": "code",
   "execution_count": 25,
   "metadata": {},
   "outputs": [
    {
     "data": {
      "text/html": [
       "<div>\n",
       "<style scoped>\n",
       "    .dataframe tbody tr th:only-of-type {\n",
       "        vertical-align: middle;\n",
       "    }\n",
       "\n",
       "    .dataframe tbody tr th {\n",
       "        vertical-align: top;\n",
       "    }\n",
       "\n",
       "    .dataframe thead th {\n",
       "        text-align: right;\n",
       "    }\n",
       "</style>\n",
       "<table border=\"1\" class=\"dataframe\">\n",
       "  <thead>\n",
       "    <tr style=\"text-align: right;\">\n",
       "      <th></th>\n",
       "      <th>Unnamed: 0</th>\n",
       "      <th>town name</th>\n",
       "      <th>canton</th>\n",
       "      <th>canton name</th>\n",
       "      <th>Total</th>\n",
       "      <th>Swiss</th>\n",
       "      <th>Foreigner</th>\n",
       "      <th>Male</th>\n",
       "      <th>Female</th>\n",
       "      <th>0-14 y.o.</th>\n",
       "      <th>...</th>\n",
       "      <th>Reformed</th>\n",
       "      <th>Catholic</th>\n",
       "      <th>Other</th>\n",
       "      <th>German speakers</th>\n",
       "      <th>Franch speakers</th>\n",
       "      <th>Italian speakers</th>\n",
       "      <th>Romansche speakers</th>\n",
       "      <th>Non-national tongue speakers</th>\n",
       "      <th>majority religion</th>\n",
       "      <th>majority language</th>\n",
       "    </tr>\n",
       "  </thead>\n",
       "  <tbody>\n",
       "    <tr>\n",
       "      <th>0</th>\n",
       "      <td>0</td>\n",
       "      <td>Aeugst</td>\n",
       "      <td>ZH</td>\n",
       "      <td>Zürich</td>\n",
       "      <td>646</td>\n",
       "      <td>0.970588</td>\n",
       "      <td>0.029412</td>\n",
       "      <td>0.493808</td>\n",
       "      <td>0.506192</td>\n",
       "      <td>0.335913</td>\n",
       "      <td>...</td>\n",
       "      <td>0.910217</td>\n",
       "      <td>0.066563</td>\n",
       "      <td>0.023220</td>\n",
       "      <td>0.998452</td>\n",
       "      <td>0.000000</td>\n",
       "      <td>0.001548</td>\n",
       "      <td>0.0</td>\n",
       "      <td>0.000000</td>\n",
       "      <td>Reformed</td>\n",
       "      <td>German speakers</td>\n",
       "    </tr>\n",
       "    <tr>\n",
       "      <th>1</th>\n",
       "      <td>1</td>\n",
       "      <td>Affoltern am Albis</td>\n",
       "      <td>ZH</td>\n",
       "      <td>Zürich</td>\n",
       "      <td>2201</td>\n",
       "      <td>0.948660</td>\n",
       "      <td>0.051340</td>\n",
       "      <td>0.479328</td>\n",
       "      <td>0.520672</td>\n",
       "      <td>0.323944</td>\n",
       "      <td>...</td>\n",
       "      <td>0.882326</td>\n",
       "      <td>0.098137</td>\n",
       "      <td>0.019537</td>\n",
       "      <td>0.996365</td>\n",
       "      <td>0.002272</td>\n",
       "      <td>0.001363</td>\n",
       "      <td>0.0</td>\n",
       "      <td>0.000000</td>\n",
       "      <td>Reformed</td>\n",
       "      <td>German speakers</td>\n",
       "    </tr>\n",
       "    <tr>\n",
       "      <th>2</th>\n",
       "      <td>2</td>\n",
       "      <td>Bonstetten</td>\n",
       "      <td>ZH</td>\n",
       "      <td>Zürich</td>\n",
       "      <td>771</td>\n",
       "      <td>0.977951</td>\n",
       "      <td>0.022049</td>\n",
       "      <td>0.468223</td>\n",
       "      <td>0.531777</td>\n",
       "      <td>0.345006</td>\n",
       "      <td>...</td>\n",
       "      <td>0.968872</td>\n",
       "      <td>0.025940</td>\n",
       "      <td>0.005188</td>\n",
       "      <td>1.000000</td>\n",
       "      <td>0.000000</td>\n",
       "      <td>0.000000</td>\n",
       "      <td>0.0</td>\n",
       "      <td>0.000000</td>\n",
       "      <td>Reformed</td>\n",
       "      <td>German speakers</td>\n",
       "    </tr>\n",
       "    <tr>\n",
       "      <th>3</th>\n",
       "      <td>3</td>\n",
       "      <td>Hausen</td>\n",
       "      <td>ZH</td>\n",
       "      <td>Zürich</td>\n",
       "      <td>1363</td>\n",
       "      <td>0.957447</td>\n",
       "      <td>0.042553</td>\n",
       "      <td>0.469552</td>\n",
       "      <td>0.530448</td>\n",
       "      <td>0.251651</td>\n",
       "      <td>...</td>\n",
       "      <td>0.928833</td>\n",
       "      <td>0.069699</td>\n",
       "      <td>0.001467</td>\n",
       "      <td>0.984593</td>\n",
       "      <td>0.008804</td>\n",
       "      <td>0.006603</td>\n",
       "      <td>0.0</td>\n",
       "      <td>0.000000</td>\n",
       "      <td>Reformed</td>\n",
       "      <td>German speakers</td>\n",
       "    </tr>\n",
       "    <tr>\n",
       "      <th>4</th>\n",
       "      <td>4</td>\n",
       "      <td>Hedingen</td>\n",
       "      <td>ZH</td>\n",
       "      <td>Zürich</td>\n",
       "      <td>907</td>\n",
       "      <td>0.955899</td>\n",
       "      <td>0.044101</td>\n",
       "      <td>0.493936</td>\n",
       "      <td>0.506064</td>\n",
       "      <td>0.281147</td>\n",
       "      <td>...</td>\n",
       "      <td>0.949283</td>\n",
       "      <td>0.048512</td>\n",
       "      <td>0.002205</td>\n",
       "      <td>0.984564</td>\n",
       "      <td>0.000000</td>\n",
       "      <td>0.009923</td>\n",
       "      <td>0.0</td>\n",
       "      <td>0.005513</td>\n",
       "      <td>Reformed</td>\n",
       "      <td>German speakers</td>\n",
       "    </tr>\n",
       "  </tbody>\n",
       "</table>\n",
       "<p>5 rows × 22 columns</p>\n",
       "</div>"
      ],
      "text/plain": [
       "   Unnamed: 0           town name canton canton name  Total     Swiss  \\\n",
       "0           0              Aeugst     ZH      Zürich    646  0.970588   \n",
       "1           1  Affoltern am Albis     ZH      Zürich   2201  0.948660   \n",
       "2           2          Bonstetten     ZH      Zürich    771  0.977951   \n",
       "3           3              Hausen     ZH      Zürich   1363  0.957447   \n",
       "4           4            Hedingen     ZH      Zürich    907  0.955899   \n",
       "\n",
       "   Foreigner      Male    Female  0-14 y.o.  ...  Reformed  Catholic  \\\n",
       "0   0.029412  0.493808  0.506192   0.335913  ...  0.910217  0.066563   \n",
       "1   0.051340  0.479328  0.520672   0.323944  ...  0.882326  0.098137   \n",
       "2   0.022049  0.468223  0.531777   0.345006  ...  0.968872  0.025940   \n",
       "3   0.042553  0.469552  0.530448   0.251651  ...  0.928833  0.069699   \n",
       "4   0.044101  0.493936  0.506064   0.281147  ...  0.949283  0.048512   \n",
       "\n",
       "      Other  German speakers  Franch speakers  Italian speakers  \\\n",
       "0  0.023220         0.998452         0.000000          0.001548   \n",
       "1  0.019537         0.996365         0.002272          0.001363   \n",
       "2  0.005188         1.000000         0.000000          0.000000   \n",
       "3  0.001467         0.984593         0.008804          0.006603   \n",
       "4  0.002205         0.984564         0.000000          0.009923   \n",
       "\n",
       "   Romansche speakers  Non-national tongue speakers  majority religion  \\\n",
       "0                 0.0                      0.000000           Reformed   \n",
       "1                 0.0                      0.000000           Reformed   \n",
       "2                 0.0                      0.000000           Reformed   \n",
       "3                 0.0                      0.000000           Reformed   \n",
       "4                 0.0                      0.005513           Reformed   \n",
       "\n",
       "   majority language  \n",
       "0    German speakers  \n",
       "1    German speakers  \n",
       "2    German speakers  \n",
       "3    German speakers  \n",
       "4    German speakers  \n",
       "\n",
       "[5 rows x 22 columns]"
      ]
     },
     "execution_count": 25,
     "metadata": {},
     "output_type": "execute_result"
    }
   ],
   "source": [
    "dfFractions.head()"
   ]
  },
  {
   "cell_type": "markdown",
   "metadata": {},
   "source": [
    "## 1-way anova\n",
    "\n",
    "The ANOVA, or ANalyse Of VAriance, stands maybe among the most used (and abused) type of statistical tests to date.\n",
    "\n",
    "The anova is used to analyze the differences among group means in a sample. \n",
    "In particular, we are going to concentrate here on the 1-way ANOVA, which evaluates the difference in means of a numerical variable across groups formed by another (single) variable.\n",
    "\n",
    "In this sense, it is a generalization of the t-test which is limited to 2 groups only (in fact, the 1-way anova and t-test are quivalent when there are only 2 groups).\n",
    "\n",
    "**Anova assumptions** :\n",
    "* subpopulation distributions are normal\n",
    "* samples have equal variances\n",
    "* observations are independent from one another\n",
    "\n",
    "**Test hypothesis** : \n",
    "given $m$ groups of mean $\\bar{x}_{1...m}$, each containing $n_i$ observations (for a total of $n$)\n",
    " * **Null hypothesis** : $H_0 : \\bar{x}_1 = \\bar{x}_2 = ... = \\bar{x}_m$\n",
    " * **Alternative hypothesis** : At least one of these means differ from the others\n",
    " \n",
    "The anova relies on the idea that if the mean varies between the different group then the overall variance of all samples should be significantly greater than the variance within each group (hence the name).\n"
   ]
  },
  {
   "cell_type": "code",
   "execution_count": null,
   "metadata": {},
   "outputs": [],
   "source": [
    "# imagine we measure the height of the same number of individuals individuals in 3 plant subspecies\n",
    "sampleSize = 10\n",
    "numberOfGroups = 3\n",
    "dfPlant = pd.DataFrame({'subSpecies' : [0]*sampleSize + [1]*sampleSize + [2]*sampleSize ,\n",
    "                        'plantSize' : np.concatenate( ( np.random.randn(sampleSize) + 15 , \n",
    "                                                       np.random.randn(sampleSize) + 16 , \n",
    "                                                       np.random.randn(sampleSize) + 17 )) } )\n",
    "fig,axes = plt.subplots(1,2 , figsize=(14,7),  sharey=True )\n",
    "sns.distplot(dfPlant['plantSize'] , rug=True, ax = axes[0] , vertical=True )\n",
    "sns.violinplot('subSpecies', 'plantSize' , data=dfPlant, kind = 'violin' , ax = axes[1])"
   ]
  },
  {
   "cell_type": "code",
   "execution_count": null,
   "metadata": {},
   "outputs": [],
   "source": [
    "dfPlant"
   ]
  },
  {
   "cell_type": "code",
   "execution_count": null,
   "metadata": {},
   "outputs": [],
   "source": [
    "Fstat , pval = stats.f_oneway( dfPlant['plantSize'][dfPlant['subSpecies'] == 0],\n",
    "                dfPlant['plantSize'][dfPlant['subSpecies'] == 1],\n",
    "                dfPlant['plantSize'][dfPlant['subSpecies'] == 2] )\n",
    "print('automated 1-way anova / F-test:')\n",
    "print('F-stat :',Fstat)\n",
    "print('p-value:',pval)\n"
   ]
  },
  {
   "cell_type": "markdown",
   "metadata": {},
   "source": [
    "## Correlation and linear regression\n",
    "\n",
    "### Correlation\n",
    "\n",
    "**Correlation** is a measure of the amount of relatedness between two measured variables. It comes in several flavours :\n",
    " * Pearson's linear correlation coefficient : for linear relationship only\n",
    " * Spearman's rank correlation coefficient : accepts non linear, but \"monotonic only\"\n",
    " * Kendall's Tau : relies on an order relation only and less influenced by the scale as the others\n",
    "\n"
   ]
  },
  {
   "cell_type": "code",
   "execution_count": null,
   "metadata": {},
   "outputs": [],
   "source": [
    "sigma=1./5\n",
    "\n",
    "linear=[[u,(u)/100+sigma*np.random.randn()] for u in range(10,500)]\n",
    "monotonic=[[u,50*(0.8**(u/10))+sigma*np.random.randn()] for u in range(10,500)]\n",
    "\n",
    "non_monotonic=[[u,(u)**3+3*u**2+sigma*np.random.randn()] for u in np.arange(-1,1,1./250)]\n",
    "\n",
    "together=[linear,monotonic,non_monotonic]\n",
    "plt.subplots(133,figsize=(15,5))\n",
    "for i in range(3):\n",
    "    plt.subplot(1,3,i+1)\n",
    "    x=[u[0] for u in together[i]]\n",
    "    y=[u[1] for u in together[i]]\n",
    "    plt.scatter(x,y)\n",
    "    plt.title('Pearson: {0:.3f}, Spearman: {1:.3f}, Kendall: {2:.3f}'.format(\n",
    "                                    stats.pearsonr(x,y)[0],##just like that\n",
    "                                    stats.spearmanr(x,y)[0],\n",
    "                                    stats.kendalltau(x,y)[0]))\n",
    "plt.tight_layout()    \n",
    "plt.show()\n"
   ]
  },
  {
   "cell_type": "markdown",
   "metadata": {},
   "source": [
    "### Regression\n",
    "\n",
    "Performing regression (linear or otherwise) is possible with `scipy`, but it is not the best.\n",
    "\n",
    "`statsmodels` offers much nicer options and statistical reports. Additionnally, this is a great opportunity to see together how to install a library. \n",
    "\n",
    "1. go to [https://www.statsmodels.org](https://www.statsmodels.org)\n",
    "2. click on the install page \n",
    "3. find the instruction for installation with Anaconda \n",
    "4. type the command in either a terminal (mac,linux) or in the anaconda-prompt (windows)\n"
   ]
  },
  {
   "cell_type": "code",
   "execution_count": null,
   "metadata": {},
   "outputs": [],
   "source": [
    "import statsmodels\n",
    "print('OK')"
   ]
  },
  {
   "cell_type": "code",
   "execution_count": null,
   "metadata": {},
   "outputs": [],
   "source": [
    "df_diabetes = pd.read_table( \"data/diabetes.csv\" , sep=',' )\n",
    "df_diabetes.head()"
   ]
  },
  {
   "cell_type": "code",
   "execution_count": null,
   "metadata": {},
   "outputs": [],
   "source": [
    "#pulling all the data together in the same dataFrame\n",
    "\n",
    "x = df_diabetes['bmi'] # covariable bmi\n",
    "y = df_diabetes['disease progression'] # response variable disease progression\n",
    "\n",
    "\n",
    "fig, ax = plt.subplots( figsize = (10,10)) #setup graphical windows\n",
    "sns.scatterplot(x=x,y=y) # plot x versus y\n"
   ]
  },
  {
   "cell_type": "code",
   "execution_count": null,
   "metadata": {},
   "outputs": [],
   "source": [
    "stats.pearsonr(df_diabetes['bmi'],\n",
    "               df_diabetes['disease progression'] )"
   ]
  },
  {
   "cell_type": "code",
   "execution_count": null,
   "metadata": {},
   "outputs": [],
   "source": [
    "## We'll be using the statsmodel package, which computes a lot of cool metrics for you\n",
    "import statsmodels\n",
    "import statsmodels.api as sm\n",
    "\n",
    "X = sm.add_constant(x)## adding a intercept to the model\n",
    "model = sm.OLS(y, X)  ## defining an Ordinary Least Square variable\n",
    "results = model.fit() ## fitting it\n",
    "\n",
    "print( results.summary() )"
   ]
  },
  {
   "cell_type": "code",
   "execution_count": null,
   "metadata": {},
   "outputs": [],
   "source": [
    "###Plotting the fit\n",
    "from statsmodels.sandbox.regression.predstd import wls_prediction_std\n",
    "\n",
    "# we obtain the predicted values for our model, as well as their 95% intervals\n",
    "prstd, iv_l, iv_u = wls_prediction_std(results) \n",
    "\n",
    "fig, ax = plt.subplots(figsize=(10,10))\n",
    "\n",
    "#ax.plot(x, y, 'o', label=\"data\")\n",
    "sns.scatterplot(x=x,y=y) # plot x versus y\n",
    "ax.plot(x, results.fittedvalues, 'r', label=\"OLS regression result\")\n",
    "ax.plot(x, iv_u, color='orange',linestyle='--' , label='95% fit interval')\n",
    "ax.plot(x, iv_l, color='orange',linestyle='--')\n",
    "ax.legend(loc='best',fontsize=10)\n",
    "#plt.yscale('log')"
   ]
  },
  {
   "cell_type": "markdown",
   "metadata": {},
   "source": [
    "### Going further : using R-style formula in statsmodels\n",
    "\n",
    "If you have been doing some regression in R, you would have come across *formula*, where instead of different dataframes for dependent variable covariables, on gives a single `DataFrame` along with a formular of the type `y ~ x`.\n",
    "\n",
    "These offer a fairly simple and elegant way of specifying your model, with an efficient hamdling of intercepts, as well as interaction effects.\n",
    "\n",
    "Going into details on these formula is beyond the scope of this course, but we encourage you to go though this very well made tutorial: https://www.statsmodels.org/devel/example_formulas.html"
   ]
  },
  {
   "cell_type": "code",
   "execution_count": null,
   "metadata": {},
   "outputs": [],
   "source": []
  }
 ],
 "metadata": {
  "kernelspec": {
   "display_name": "Environment (conda_py38)",
   "language": "python",
   "name": "conda_py38"
  },
  "language_info": {
   "codemirror_mode": {
    "name": "ipython",
    "version": 3
   },
   "file_extension": ".py",
   "mimetype": "text/x-python",
   "name": "python",
   "nbconvert_exporter": "python",
   "pygments_lexer": "ipython3",
   "version": "3.8.8"
  }
 },
 "nbformat": 4,
 "nbformat_minor": 2
}
