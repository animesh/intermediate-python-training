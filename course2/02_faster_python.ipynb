{
 "cells": [
  {
   "cell_type": "markdown",
   "metadata": {},
   "source": [
    "# Optimizing Python \n",
    "----------------------------------------------\n"
   ]
  },
  {
   "cell_type": "code",
   "execution_count": null,
   "metadata": {},
   "outputs": [],
   "source": [
    "%load_ext autoreload\n",
    "%autoreload 2"
   ]
  },
  {
   "cell_type": "markdown",
   "metadata": {},
   "source": [
    "<br>\n",
    "\n",
    "# Table of Content <a id='toc'></a>\n",
    "\n",
    "\n",
    "1. [numpy](#4)\n",
    "   \n",
    "2. [Numba](#6)\n",
    "\n",
    "3. [Cython](#5)\n",
    "\n"
   ]
  },
  {
   "cell_type": "markdown",
   "metadata": {},
   "source": [
    "<br>\n",
    "<br>\n",
    "<br>\n",
    "\n",
    "[back to the toc](#toc)\n",
    "\n",
    "\n",
    "\n",
    "Now that we have seen the tools to measure our code resource usage, we will review a couple of tricks that can help you speedup your python code tremendously.\n",
    "\n",
    "The firsts are basic:\n",
    " 1. **apply standard good-sense** : does your code reads/write to the disk more than it need to ? Do you spend a lot of time searching for items in lists instead of dictionnaries ?\n",
    " 2. **switch to numpy** : vectorized operations are great (as we have seen). \n",
    " \n"
   ]
  },
  {
   "cell_type": "markdown",
   "metadata": {},
   "source": [
    "# 1. numpy <a id=\"4\"></a>\n",
    "\n",
    "If you have not done it already, a very good first step is to use numpy strucutres and functions wherever possible.\n",
    "\n",
    "Indeed, numpy implements efficient (it is all C++ under the hood) and vectorized operations, within a fairly easy to approach interface.\n",
    "\n",
    "It base struture is the **array**, which can be multi-dimensional, and can contains a single type of object (eg, all floats).\n"
   ]
  },
  {
   "cell_type": "code",
   "execution_count": null,
   "metadata": {},
   "outputs": [],
   "source": [
    "import numpy as np\n",
    "\n",
    "\n",
    "L= [1,3,45,2,3]\n",
    "\n",
    "A = np.array(L)\n",
    "\n",
    "print('list',L)\n",
    "print('array',A)"
   ]
  },
  {
   "cell_type": "markdown",
   "metadata": {},
   "source": [
    "there are many array creation routines, some of which we have already seen:"
   ]
  },
  {
   "cell_type": "code",
   "execution_count": null,
   "metadata": {},
   "outputs": [],
   "source": [
    "np.zeros( (5,5) )# create a 5x5 array of 0s"
   ]
  },
  {
   "cell_type": "code",
   "execution_count": null,
   "metadata": {},
   "outputs": [],
   "source": [
    "np.random.randn(10)# 10 values randomly droawn from a standard normal distribution"
   ]
  },
  {
   "cell_type": "markdown",
   "metadata": {},
   "source": [
    "But the nicest is that you can perform operations on whole arrays at once, and fast:"
   ]
  },
  {
   "cell_type": "code",
   "execution_count": null,
   "metadata": {},
   "outputs": [],
   "source": [
    "A = np.random.randn(10**6)\n",
    "L = list(A) # for comparison\n",
    "\n",
    "# multiply all elements by 13:\n",
    "%timeit -n 3 -r 7 A*13\n",
    "\n",
    "%timeit -n 3 -r 7  [x*13 for x in L]\n"
   ]
  },
  {
   "cell_type": "markdown",
   "metadata": {},
   "source": [
    "That is a speedup of ~200!\n",
    "\n",
    "The same thing works if you want to do operation between arrays:"
   ]
  },
  {
   "cell_type": "code",
   "execution_count": null,
   "metadata": {},
   "outputs": [],
   "source": [
    "A1 = np.random.randint(low=1,high=6,size=3) ## 3 random numbers\n",
    "A2 = np.random.randint(low=1,high=6,size=3) ## 3 other random numbers\n",
    "print(A1,'+',A2,'->',A1+A2)"
   ]
  },
  {
   "cell_type": "markdown",
   "metadata": {},
   "source": [
    "It also has a number of nice common functions :"
   ]
  },
  {
   "cell_type": "code",
   "execution_count": null,
   "metadata": {},
   "outputs": [],
   "source": [
    "print(\"sum\")\n",
    "%timeit -n 3 -r 7 A.sum()\n",
    "%timeit -n 3 -r 7 sum(L) #  compare with builtin sum\n",
    "print(\"***\")\n",
    "print(\"mean\")\n",
    "%timeit -n 3 -r 7 A.mean()\n",
    "%timeit -n 3 -r 7 sum(L)/len(L) \n",
    "print(\"***\")\n",
    "print(\"standard deviation\")\n",
    "%timeit -n 3 -r 7 A.sum()\n",
    "\n",
    "## we have to build a little function here\n",
    "def std(L):\n",
    "    m = sum(L)/len(L) \n",
    "    s = 0\n",
    "    for i in L:\n",
    "        s+= (i-m)**2\n",
    "    return (s/len(L))**0.5\n",
    "%timeit -n 3 -r 7 std(L) \n",
    "\n",
    "print('***')\n",
    "print('sorting')\n",
    "%timeit -n 3 -r 7 np.sort(A)\n",
    "%timeit -n 3 -r 7 sorted(L)"
   ]
  },
  {
   "cell_type": "markdown",
   "metadata": {},
   "source": [
    "Of course, that's just scratching the surface, but you can see how even a few lines of code here can make you code much faster.\n",
    "\n",
    "If you are not familiar with numpy, we recommend you take some time to practice with it as it is somewhat ubiquitous in scientific python. Their [absolute beginner's guide](https://numpy.org/doc/stable/user/absolute_beginners.html) is a good (and actually fairly thorough) starting point.\n",
    "\n",
    "\n",
    "remember, in the previous section we rewrote the `pairwise_distance` function in numpy:"
   ]
  },
  {
   "cell_type": "code",
   "execution_count": null,
   "metadata": {},
   "outputs": [],
   "source": [
    "def pairwise_distance(X):\n",
    "\n",
    "    num_vectors = len(X)\n",
    "    num_measurements = len(X[0])\n",
    "    D = [[0]*num_vectors for x in range(num_vectors)]\n",
    "    \n",
    "    for i in range(num_vectors):\n",
    "        for j in range(num_vectors):\n",
    "            d = []\n",
    "            for k in range(num_measurements):\n",
    "                d.append( ( X[i][k] - X[j][k] )**2 )\n",
    "            \n",
    "            D[i][j] = sum(d) **0.5\n",
    "    return(D)\n",
    "\n",
    "\n",
    "def pairwise_distance_numpy(X):\n",
    "\n",
    "    num_vectors = X.shape[0]\n",
    "    num_measurements = X.shape[1] \n",
    "    D = np.empty((num_vectors, num_vectors), dtype=np.float64)\n",
    "    \n",
    "    for i in range(num_vectors):\n",
    "        for j in range(num_vectors):\n",
    "            d = np.square( np.subtract(X[i], X[j]) )\n",
    "            D[i, j] = np.sqrt(np.sum(d))\n",
    "    return(D)"
   ]
  },
  {
   "cell_type": "markdown",
   "metadata": {},
   "source": [
    "You can play *spot the differences* between these 2 implementations"
   ]
  },
  {
   "cell_type": "markdown",
   "metadata": {},
   "source": [
    "**Optional micro-exercise:** consider the following native python code, which computes the integral of $x^2-x$."
   ]
  },
  {
   "cell_type": "code",
   "execution_count": null,
   "metadata": {},
   "outputs": [],
   "source": [
    "def integrate_f_native(a, b, N):\n",
    "    s = 0\n",
    "    dx = (b - a) / N\n",
    "    for i in range(N):\n",
    "        x = a + i * dx\n",
    "        s += x ** 2 - x\n",
    "    return s * dx\n",
    "\n",
    "print( integrate_f_native(0,2,100) )\n",
    "%timeit -n 3 -r 7 _=integrate_f_native(0,2,1000000)"
   ]
  },
  {
   "cell_type": "markdown",
   "metadata": {},
   "source": [
    "Make it faster using numpy. **remember to make sure that you get (almost) the same results**\n",
    "\n",
    "**hint:** `np.arange(start,stop,step)` is a function that creates array from `start` to `stop` by increments of `step`"
   ]
  },
  {
   "cell_type": "code",
   "execution_count": null,
   "metadata": {},
   "outputs": [],
   "source": [
    "np.arange(1,1.5,0.075)"
   ]
  },
  {
   "cell_type": "code",
   "execution_count": null,
   "metadata": {},
   "outputs": [],
   "source": []
  },
  {
   "cell_type": "markdown",
   "metadata": {},
   "source": [
    "Uncomment the following to look at the solution:"
   ]
  },
  {
   "cell_type": "code",
   "execution_count": null,
   "metadata": {},
   "outputs": [],
   "source": [
    "# %load solutions/02_integrate_numpy.py"
   ]
  },
  {
   "cell_type": "markdown",
   "metadata": {},
   "source": [
    "<br>\n",
    "<br>\n",
    "\n",
    "[back to the toc](#toc)\n",
    "\n",
    "\n",
    "## 2. Numba <a id='6'></a>\n",
    "\n",
    "**[Numba](https://numba.pydata.org/)** is a nice library which provide a number of optimization routines for python code, the most well know being **`@jit`** for **just-in-time** compilation"
   ]
  },
  {
   "cell_type": "code",
   "execution_count": null,
   "metadata": {},
   "outputs": [],
   "source": [
    "from numba import jit"
   ]
  },
  {
   "cell_type": "code",
   "execution_count": null,
   "metadata": {},
   "outputs": [],
   "source": [
    "# Unchanged code \n",
    "# the option nopython=True makes so that there will be an error if numba failed to convert to full C\n",
    "@jit(nopython=True) \n",
    "def pairwise_distance_numba(X):\n",
    "\n",
    "    num_vectors = X.shape[0]\n",
    "    num_measurements = X.shape[1] \n",
    "    D = np.empty((num_vectors, num_vectors), dtype=np.float64)\n",
    "    \n",
    "    for i in range(num_vectors):\n",
    "        for j in range(num_vectors):\n",
    "            d = np.square( np.subtract(X[i], X[j]) )\n",
    "            D[i, j] = np.sqrt(np.sum(d))\n",
    "    return(D)"
   ]
  },
  {
   "cell_type": "code",
   "execution_count": null,
   "metadata": {},
   "outputs": [],
   "source": [
    "num_vector = 200\n",
    "num_measures = 100\n",
    "\n",
    "data = np.random.uniform(size=(num_vector,num_measures))\n",
    "print(type(data[0][0]))\n",
    "print(data.shape)"
   ]
  },
  {
   "cell_type": "code",
   "execution_count": null,
   "metadata": {},
   "outputs": [],
   "source": [
    "%time result = pairwise_distance_numba(data)"
   ]
  },
  {
   "cell_type": "markdown",
   "metadata": {},
   "source": [
    "> the first time it is executed the function is compiled. Run the function again to get the execution time without compilation"
   ]
  },
  {
   "cell_type": "code",
   "execution_count": null,
   "metadata": {},
   "outputs": [],
   "source": [
    "%timeit -n 5 -r 7 result = pairwise_distance_numpy(data)\n",
    "%timeit -n 5 -r 7 result = pairwise_distance_numba(data)"
   ]
  },
  {
   "cell_type": "markdown",
   "metadata": {},
   "source": [
    "**Woosh!** that is quite a gain"
   ]
  },
  {
   "cell_type": "code",
   "execution_count": null,
   "metadata": {},
   "outputs": [],
   "source": [
    "# alternative syntax\n",
    "import numba\n",
    "pairwise_distance_numba = numba.jit(pairwise_distance_numpy)"
   ]
  },
  {
   "cell_type": "markdown",
   "metadata": {},
   "source": [
    "Here it is pretty bluffing, but sometimes it can be a bit difficult to get this level of performance.\n",
    "\n",
    "Most external libraries are missing from numba, and [not all of numpy's code has been ported as well](https://numba.pydata.org/numba-doc/dev/reference/numpysupported.html).\n",
    "\n",
    "> Note : a lot of function in external libraries (such as the ones of sklearn) have already been optimized and compiled, so there would not necessarily be much to gain there anyway...\n",
    "\n",
    "All-in-all, it depends quite a lot on the particulars of what you want to optimize : [here are some tips](https://numba.pydata.org/numba-doc/latest/user/performance-tips.html)\n",
    "\n",
    "\n",
    "> there also exists ways to [compile numba code ahead of time](https://numba.pydata.org/numba-doc/dev/user/pycc.html)"
   ]
  },
  {
   "cell_type": "markdown",
   "metadata": {},
   "source": [
    "Although it is usually a good idea to rely on `numpy` vectorized operations, `numba` copes very well with loops and vectorizes them when it can , and sometimes ends up even better for it:\n"
   ]
  },
  {
   "cell_type": "code",
   "execution_count": null,
   "metadata": {},
   "outputs": [],
   "source": [
    "@jit(nopython=True)\n",
    "def pairwise_distance_numba2(X):\n",
    "\n",
    "    num_vectors = X.shape[0]\n",
    "    num_measurements = X.shape[1] \n",
    "    D = np.empty((num_vectors, num_vectors), dtype=np.float64)\n",
    "    \n",
    "    for i in range(num_vectors):\n",
    "        for j in range(num_vectors):\n",
    "            d = 0.\n",
    "            for k in range(num_measurements):\n",
    "                d += np.square( np.subtract(X[i][k], X[j][k])  )\n",
    "            D[i, j] = np.sqrt(d)\n",
    "    return(D)\n",
    "\n",
    "_=pairwise_distance_numba2(data)"
   ]
  },
  {
   "cell_type": "code",
   "execution_count": null,
   "metadata": {},
   "outputs": [],
   "source": [
    "%timeit -n 5 -r 7 result = pairwise_distance_numba(data)\n",
    "%timeit -n 5 -r 7 result = pairwise_distance_numba2(data)"
   ]
  },
  {
   "cell_type": "markdown",
   "metadata": {},
   "source": [
    "<br>\n",
    "<br>\n",
    "\n",
    "[back to the toc](#toc)\n",
    "\n",
    "## 3. Cython <a id='5'></a>\n",
    "\n",
    "**[Cython](https://cython.org/)** provides way to transform a python code into C compiled code failry seamlessly.\n",
    "\n",
    "By default, Cython retains Python flexibility by creating the ugliest of C-codes. This comes at the cost of a lot of efficiency, but already it is enough to speed your code some.\n",
    "\n",
    "The \"command-line\" flavor of cython involves either calling `cython` or writing a little `setup.py` file for your code. It is a bit of work at the start but actually quite easy once you have done it a couple of time : see [here for examples](https://cython.readthedocs.io/en/latest/src/quickstart/build.html)\n",
    "\n",
    "The jupyter way :"
   ]
  },
  {
   "cell_type": "code",
   "execution_count": null,
   "metadata": {},
   "outputs": [],
   "source": [
    "%load_ext cython"
   ]
  },
  {
   "cell_type": "code",
   "execution_count": null,
   "metadata": {},
   "outputs": [],
   "source": [
    "## pure python \n",
    "def f_native(x):\n",
    "    return x ** 2 - x\n",
    "\n",
    "\n",
    "def integrate_f_native(a, b, N):\n",
    "    s = 0\n",
    "    dx = (b - a) / N\n",
    "    for i in range(N):\n",
    "        s += f_native(a + i * dx)\n",
    "    return s * dx"
   ]
  },
  {
   "cell_type": "code",
   "execution_count": null,
   "metadata": {},
   "outputs": [],
   "source": [
    "%%cython\n",
    "## cython, without changing a single thing\n",
    "\n",
    "def f(x):\n",
    "    return x ** 2 - x\n",
    "\n",
    "\n",
    "def integrate_f(a, b, N):\n",
    "    s = 0\n",
    "    dx = (b - a) / N\n",
    "    for i in range(N):\n",
    "        s += f(a + i * dx)\n",
    "    return s * dx"
   ]
  },
  {
   "cell_type": "code",
   "execution_count": null,
   "metadata": {},
   "outputs": [],
   "source": [
    "print(\"native\")\n",
    "%timeit -n 3 -r 5 result = integrate_f_native(0,1,1000000)\n",
    "print(\"simple cython\")\n",
    "%timeit -n 3 -r 5 result = integrate_f(0,1,1000000)"
   ]
  },
  {
   "cell_type": "markdown",
   "metadata": {},
   "source": [
    "Ok, so a speedup of about a third, fairly nice for a single line change.\n",
    "\n",
    "But, let's look how Cython performed with our code :"
   ]
  },
  {
   "cell_type": "code",
   "execution_count": null,
   "metadata": {},
   "outputs": [],
   "source": [
    "%%cython --annotate\n",
    "## cython, without changing a single thing\n",
    "\n",
    "def f(x):\n",
    "    return x ** 2 - x\n",
    "\n",
    "\n",
    "def integrate_f(a, b, N):\n",
    "    s = 0\n",
    "    dx = (b - a) / N\n",
    "    for i in range(N):\n",
    "        s += f(a + i * dx)\n",
    "    return s * dx"
   ]
  },
  {
   "cell_type": "markdown",
   "metadata": {},
   "source": [
    "We can give some hints to Cython, to help it compile the code better :"
   ]
  },
  {
   "cell_type": "code",
   "execution_count": null,
   "metadata": {
    "scrolled": false
   },
   "outputs": [],
   "source": [
    "%%cython --annotate\n",
    "## cython, typing \n",
    "\n",
    "def f_typed( double x ):\n",
    "    return x ** 2 - x\n",
    "\n",
    "\n",
    "def integrate_f_typed( double a, double b, int N):\n",
    "    cdef int i\n",
    "    cdef double s, dx\n",
    "    s = 0\n",
    "    dx = (b - a) / N\n",
    "    for i in range(N):\n",
    "        s += f_typed(a + i * dx)\n",
    "    return s * dx"
   ]
  },
  {
   "cell_type": "markdown",
   "metadata": {},
   "source": [
    "That's better, but there is still a lot of yellow. \n",
    "In particular when the two functions interact. \n",
    "Which is not ideal because they should both in C, their interaction should happen without any python element.\n"
   ]
  },
  {
   "cell_type": "code",
   "execution_count": null,
   "metadata": {},
   "outputs": [],
   "source": [
    "%%cython --annotate\n",
    "## cython, more typing \n",
    "\n",
    "# this function is only called inside function wich are cythonized\n",
    "# so we can tell cython to try to compile is as pure C\n",
    "cdef double f_fullTyped( double x ):\n",
    "    return x ** 2 - x\n",
    "\n",
    "\n",
    "def integrate_f_fullTyped( double a, double b, int N):\n",
    "    cdef int i\n",
    "    cdef double s, dx\n",
    "    s = 0\n",
    "    dx = (b - a) / N\n",
    "    for i in range(N):\n",
    "        s += f_fullTyped(a + i * dx)\n",
    "    return s * dx"
   ]
  },
  {
   "cell_type": "code",
   "execution_count": null,
   "metadata": {},
   "outputs": [],
   "source": [
    "print(\"native\")\n",
    "%timeit -r 5 -n 3 result = integrate_f_native(0,1,1000000)\n",
    "print(\"cython - simple\")\n",
    "%timeit -r 5 -n 3 result = integrate_f(0,1,1000000)\n",
    "print(\"cython - some typing\")\n",
    "%timeit -r 5 -n 3 result = integrate_f_typed(0,1,1000000)\n",
    "print(\"cython - more typing\")\n",
    "%timeit -r 5 -n 3 result = integrate_f_fullTyped(0,1,1000000)"
   ]
  },
  {
   "cell_type": "markdown",
   "metadata": {},
   "source": [
    "Woohoo! that's more like it.\n",
    "\n",
    "Of course, there is more things we could do, like typing the return type of the functions and so on, as shown in this [quickstart tutorial](https://cython.readthedocs.io/en/latest/src/quickstart/cythonize.html) (which this example is grabbed from). \n",
    "\n",
    "<br>\n",
    "\n",
    "These compiling tools usually won't work with external libraries, but a cool thing about Cython is that it works very well with numpy structures (Although the code is somewhat ugly, and they use a deprecated API, which they are currently working on changing...).\n",
    "\n",
    "So le'ts see what we can get with our `pairwise_distance`:"
   ]
  },
  {
   "cell_type": "code",
   "execution_count": null,
   "metadata": {},
   "outputs": [],
   "source": [
    "%%cython --annotate\n",
    "import numpy as np\n",
    "cimport numpy as np\n",
    "cimport cython\n",
    "DTYPE = np.float64\n",
    "ctypedef np.float64_t DTYPE_t\n",
    "\n",
    "@cython.boundscheck(False) # turn off bounds-checking for entire function\n",
    "@cython.wraparound(False)  # turn off negative index wrapping for entire function\n",
    "def pairwise_distance_cython(double[:, ::1] X):\n",
    "    \n",
    "    cdef int num_vectors = X.shape[0]\n",
    "    cdef int num_measurements = X.shape[1]\n",
    "    cdef double d\n",
    "    cdef double[:, ::1] D = np.empty((num_vectors, num_vectors), dtype=DTYPE)\n",
    "    \n",
    "    for i in range(num_vectors):\n",
    "        for j in range(num_vectors):\n",
    "            d=0\n",
    "            for k in range(num_measurements):\n",
    "                \n",
    "                d += ( X[i][k] - X[j][k] )**2\n",
    "\n",
    "            D[i, j] = d**0.5\n",
    "    return(D)"
   ]
  },
  {
   "cell_type": "code",
   "execution_count": null,
   "metadata": {},
   "outputs": [],
   "source": [
    "print(data.shape)\n",
    "print('numpy:')\n",
    "%timeit -n 3 -r 5 D = pairwise_distance_numpy(data)\n",
    "print('cython:')\n",
    "%timeit -n 3 -r 5 result = pairwise_distance_cython(data)"
   ]
  },
  {
   "cell_type": "markdown",
   "metadata": {},
   "source": [
    "Okay, so now we have really gotten down.\n",
    "\n",
    "So cython is really great, although it does take some practice to get it to work the way you want. \n",
    "They do have a [nice tutorial](https://cython.readthedocs.io/en/latest/index.html) though.\n",
    "\n",
    "> note : cython is also a great way to [interface python and C code](https://cython.readthedocs.io/en/stable/src/userguide/external_C_code.html).\n",
    "\n",
    "> it is also fairly easy to do [profiling on cython code](https://cython.readthedocs.io/en/latest/src/tutorial/profiling_tutorial.html)"
   ]
  },
  {
   "cell_type": "markdown",
   "metadata": {},
   "source": [
    "<br>\n",
    "\n",
    "### Comparison between the different implementations"
   ]
  },
  {
   "cell_type": "code",
   "execution_count": null,
   "metadata": {
    "scrolled": true
   },
   "outputs": [],
   "source": [
    "num_vector = 400\n",
    "num_measures = 100\n",
    "\n",
    "data = np.random.uniform(size=(num_vector,num_measures))\n",
    "print(type(data[0][0]))\n",
    "print(data.shape)"
   ]
  },
  {
   "cell_type": "code",
   "execution_count": null,
   "metadata": {},
   "outputs": [],
   "source": [
    "%timeit -n 1 -r 10 result = pairwise_distance_numpy(data)"
   ]
  },
  {
   "cell_type": "code",
   "execution_count": null,
   "metadata": {},
   "outputs": [],
   "source": [
    "%timeit -n 1 -r 10 result = pairwise_distance_cython(data)"
   ]
  },
  {
   "cell_type": "code",
   "execution_count": null,
   "metadata": {},
   "outputs": [],
   "source": [
    "%timeit -n 1 -r 10 result = pairwise_distance_numba2(data)"
   ]
  },
  {
   "cell_type": "markdown",
   "metadata": {},
   "source": [
    "> This is an example which tends to favors optimization by numba. In some other cases Cython may perform better."
   ]
  },
  {
   "cell_type": "markdown",
   "metadata": {},
   "source": [
    "# Exercise: \n",
    "\n",
    "try to optimize the following code:"
   ]
  },
  {
   "cell_type": "code",
   "execution_count": null,
   "metadata": {},
   "outputs": [],
   "source": [
    "def compute_sequence_similarity(seqA  ,seqB):\n",
    "    \"\"\"compute similarity between 2 sequence as the fraction of position where they have the same value\"\"\"\n",
    "\n",
    "    l = len(seqA)\n",
    "    similar = 0\n",
    "    for i in range(l):\n",
    "        if seqA[i] == seqB[i]:\n",
    "            similar += 1\n",
    "    return similar/l\n",
    "\n",
    "\n",
    "def compute_sequence_similarity_Mat(Lseq):\n",
    "    # compute similarity between all sequence pair\n",
    "    sim = np.zeros( ( len(Lseq),len(Lseq) ) )\n",
    "    for i,s1 in enumerate(Lseq):\n",
    "        for j,s2 in enumerate(Lseq):\n",
    "            sim[i,j] = compute_sequence_similarity( s1 , s2 )\n",
    "    return sim"
   ]
  },
  {
   "cell_type": "code",
   "execution_count": null,
   "metadata": {},
   "outputs": [],
   "source": [
    "## generate some data to play with\n",
    "Lseq = [ ''.join(np.random.choice(list(\"ATGC\"), 500)) for x in range(100) ]"
   ]
  },
  {
   "cell_type": "code",
   "execution_count": null,
   "metadata": {},
   "outputs": [],
   "source": [
    "%timeit -n 3 -r 7 _=compute_sequence_similarity_Mat(Lseq)"
   ]
  },
  {
   "cell_type": "markdown",
   "metadata": {},
   "source": [
    "**Warning:** this exercise is not necessarily very easy. \n",
    "\n",
    "You will likely have to try different things and delve a bit in the libraries online documentations to get good results.\n",
    "\n",
    "**numpy hint** : to transform string `s` to an array: `np.array(list(s))`\n",
    "\n",
    "\n",
    "**cython hint** : \n",
    " * **simple**: the typing of string is `str`. \n",
    " * **complex**: we can use C stuff such as `char*`, but then you need to convert the a python `str` to unicode, using for instance something like:\n",
    " ```python \n",
    "c_compatible_string = python_string.encode('UTF-8')\n",
    " ```"
   ]
  },
  {
   "cell_type": "code",
   "execution_count": null,
   "metadata": {},
   "outputs": [],
   "source": []
  },
  {
   "cell_type": "markdown",
   "metadata": {},
   "source": [
    "Numba solution:"
   ]
  },
  {
   "cell_type": "code",
   "execution_count": null,
   "metadata": {},
   "outputs": [],
   "source": [
    "# %load -r -22 solutions/02_sequence_similarity_numba.py"
   ]
  },
  {
   "cell_type": "code",
   "execution_count": null,
   "metadata": {},
   "outputs": [],
   "source": [
    "# %load -r 23- solutions/02_sequence_similarity_numba.py"
   ]
  },
  {
   "cell_type": "markdown",
   "metadata": {},
   "source": [
    "numpy solution:"
   ]
  },
  {
   "cell_type": "code",
   "execution_count": null,
   "metadata": {},
   "outputs": [],
   "source": [
    "# %load -r -25 solutions/02_sequence_similarity_numpy.py"
   ]
  },
  {
   "cell_type": "code",
   "execution_count": null,
   "metadata": {},
   "outputs": [],
   "source": [
    "# %load -r 26- solutions/02_sequence_similarity_numpy.py"
   ]
  },
  {
   "cell_type": "markdown",
   "metadata": {},
   "source": [
    "Cython solution \"simple\":"
   ]
  },
  {
   "cell_type": "code",
   "execution_count": null,
   "metadata": {},
   "outputs": [],
   "source": [
    "# %load -r -35 solutions/02_sequence_similarity_cython1.py"
   ]
  },
  {
   "cell_type": "code",
   "execution_count": null,
   "metadata": {},
   "outputs": [],
   "source": [
    "# %load -r 36- solutions/02_sequence_similarity_cython1.py"
   ]
  },
  {
   "cell_type": "markdown",
   "metadata": {},
   "source": [
    "Cython solution \"complex\":"
   ]
  },
  {
   "cell_type": "code",
   "execution_count": null,
   "metadata": {},
   "outputs": [],
   "source": [
    "# %load -r -38 solutions/02_sequence_similarity_cython2.py"
   ]
  },
  {
   "cell_type": "code",
   "execution_count": null,
   "metadata": {},
   "outputs": [],
   "source": [
    "# %load -r 39- solutions/02_sequence_similarity_cython2.py"
   ]
  }
 ],
 "metadata": {
  "kernelspec": {
   "display_name": "Environment (conda_py38)",
   "language": "python",
   "name": "conda_py38"
  },
  "language_info": {
   "codemirror_mode": {
    "name": "ipython",
    "version": 3
   },
   "file_extension": ".py",
   "mimetype": "text/x-python",
   "name": "python",
   "nbconvert_exporter": "python",
   "pygments_lexer": "ipython3",
   "version": "3.8.8"
  }
 },
 "nbformat": 4,
 "nbformat_minor": 2
}
